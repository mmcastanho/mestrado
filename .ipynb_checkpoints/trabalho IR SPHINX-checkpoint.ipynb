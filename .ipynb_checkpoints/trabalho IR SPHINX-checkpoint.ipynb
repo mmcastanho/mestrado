{
 "cells": [
  {
   "cell_type": "code",
   "execution_count": 1,
   "metadata": {},
   "outputs": [],
   "source": [
    "import numpy as np\n",
    "import pandas as pd"
   ]
  },
  {
   "cell_type": "markdown",
   "metadata": {},
   "source": [
    "## Importar biblioteca de XML Tree"
   ]
  },
  {
   "cell_type": "code",
   "execution_count": 152,
   "metadata": {},
   "outputs": [],
   "source": [
    "import xml.etree.ElementTree as ET\n",
    "import nltk\n",
    "import string\n"
   ]
  },
  {
   "cell_type": "markdown",
   "metadata": {},
   "source": [
    "### Abrir arquivo de consultas e colocar flags no ínicio e fim do arquivo"
   ]
  },
  {
   "cell_type": "code",
   "execution_count": 43,
   "metadata": {},
   "outputs": [],
   "source": [
    "file = open(\"Consultas.txt\" ,\"r\", encoding='latin-1')"
   ]
  },
  {
   "cell_type": "code",
   "execution_count": 44,
   "metadata": {},
   "outputs": [],
   "source": [
    "text3 = file.read().replace('\\n', '')"
   ]
  },
  {
   "cell_type": "code",
   "execution_count": 45,
   "metadata": {},
   "outputs": [],
   "source": [
    "text4 = \"<tag>\"+text3+\"</tag>\""
   ]
  },
  {
   "cell_type": "markdown",
   "metadata": {},
   "source": [
    "### Criar uma tabela com os elementos recuperados para consulta"
   ]
  },
  {
   "cell_type": "code",
   "execution_count": 46,
   "metadata": {},
   "outputs": [],
   "source": [
    "root = ET.fromstring(text4)\n",
    "lista = list()\n",
    "for top in root.findall('top'):\n",
    "    title = top.find('PT-title').text\n",
    "    desc = top.find('PT-desc').text\n",
    "    num = top.find('num').text\n",
    "    lista.append((num,title,desc))"
   ]
  },
  {
   "cell_type": "code",
   "execution_count": 48,
   "metadata": {},
   "outputs": [],
   "source": [
    "consultas = pd.DataFrame(lista, columns=['num', 'title', 'desc'])"
   ]
  },
  {
   "cell_type": "code",
   "execution_count": 49,
   "metadata": {},
   "outputs": [
    {
     "data": {
      "text/html": [
       "<div>\n",
       "<style scoped>\n",
       "    .dataframe tbody tr th:only-of-type {\n",
       "        vertical-align: middle;\n",
       "    }\n",
       "\n",
       "    .dataframe tbody tr th {\n",
       "        vertical-align: top;\n",
       "    }\n",
       "\n",
       "    .dataframe thead th {\n",
       "        text-align: right;\n",
       "    }\n",
       "</style>\n",
       "<table border=\"1\" class=\"dataframe\">\n",
       "  <thead>\n",
       "    <tr style=\"text-align: right;\">\n",
       "      <th></th>\n",
       "      <th>num</th>\n",
       "      <th>title</th>\n",
       "      <th>desc</th>\n",
       "    </tr>\n",
       "  </thead>\n",
       "  <tbody>\n",
       "    <tr>\n",
       "      <th>0</th>\n",
       "      <td>251</td>\n",
       "      <td>Medicina alternativa</td>\n",
       "      <td>Encontrar documentos sobre tratamentos que em...</td>\n",
       "    </tr>\n",
       "    <tr>\n",
       "      <th>1</th>\n",
       "      <td>252</td>\n",
       "      <td>Sistemas de reforma e pensões na Europa</td>\n",
       "      <td>Encontrar documentos sobre os esquemas de pen...</td>\n",
       "    </tr>\n",
       "    <tr>\n",
       "      <th>2</th>\n",
       "      <td>253</td>\n",
       "      <td>Países com pena de morte</td>\n",
       "      <td>Em quais países ainda é usada, ou pelo menos ...</td>\n",
       "    </tr>\n",
       "    <tr>\n",
       "      <th>3</th>\n",
       "      <td>254</td>\n",
       "      <td>Danos provocados por terramotos</td>\n",
       "      <td>Encontrar documentos que descrevam os danos c...</td>\n",
       "    </tr>\n",
       "    <tr>\n",
       "      <th>4</th>\n",
       "      <td>255</td>\n",
       "      <td>Viciados na Internet</td>\n",
       "      <td>O uso frequente da Internet produz habituação?</td>\n",
       "    </tr>\n",
       "    <tr>\n",
       "      <th>5</th>\n",
       "      <td>256</td>\n",
       "      <td>Doença de Creutzfeldt-Jakob</td>\n",
       "      <td>Encontrar documentos que descrevam os sintoma...</td>\n",
       "    </tr>\n",
       "    <tr>\n",
       "      <th>6</th>\n",
       "      <td>257</td>\n",
       "      <td>Limpeza étnica nos Balcãs</td>\n",
       "      <td>Encontrar documentos que relatam incidentes e...</td>\n",
       "    </tr>\n",
       "    <tr>\n",
       "      <th>7</th>\n",
       "      <td>258</td>\n",
       "      <td>Impacto da \"fuga de cérebros\"</td>\n",
       "      <td>Encontrar documentos sobre o problema causado...</td>\n",
       "    </tr>\n",
       "    <tr>\n",
       "      <th>8</th>\n",
       "      <td>259</td>\n",
       "      <td>Urso de Ouro</td>\n",
       "      <td>Encontrar documentos mencionando filmes galar...</td>\n",
       "    </tr>\n",
       "    <tr>\n",
       "      <th>9</th>\n",
       "      <td>260</td>\n",
       "      <td>Legislação anti-tabagista</td>\n",
       "      <td>Encontrar documentos que descrevam leis ou qu...</td>\n",
       "    </tr>\n",
       "    <tr>\n",
       "      <th>10</th>\n",
       "      <td>261</td>\n",
       "      <td>Adivinhação</td>\n",
       "      <td>Como é que os videntes prevêem o futuro?</td>\n",
       "    </tr>\n",
       "    <tr>\n",
       "      <th>11</th>\n",
       "      <td>262</td>\n",
       "      <td>Espectáculos de beneficiência</td>\n",
       "      <td>Que causas ou instituições humanitárias receb...</td>\n",
       "    </tr>\n",
       "    <tr>\n",
       "      <th>12</th>\n",
       "      <td>263</td>\n",
       "      <td>Disputas de arbitragem no futebol</td>\n",
       "      <td>Encontrar documentos nos quais decisões feita...</td>\n",
       "    </tr>\n",
       "    <tr>\n",
       "      <th>13</th>\n",
       "      <td>264</td>\n",
       "      <td>Contrabando de material radioativo</td>\n",
       "      <td>Encontrar documentos sobre o tráfico internac...</td>\n",
       "    </tr>\n",
       "    <tr>\n",
       "      <th>14</th>\n",
       "      <td>265</td>\n",
       "      <td>Aquisições do Deutsche Bank</td>\n",
       "      <td>Encontrar os nomes das empresas que foram tot...</td>\n",
       "    </tr>\n",
       "    <tr>\n",
       "      <th>15</th>\n",
       "      <td>266</td>\n",
       "      <td>Discriminação contra os ciganos na Europa</td>\n",
       "      <td>Encontrar documentos relatando episódios rece...</td>\n",
       "    </tr>\n",
       "    <tr>\n",
       "      <th>16</th>\n",
       "      <td>267</td>\n",
       "      <td>Melhor Filme Estrangeiro</td>\n",
       "      <td>Quais foram os filmes candidatos ao Oscar de ...</td>\n",
       "    </tr>\n",
       "    <tr>\n",
       "      <th>17</th>\n",
       "      <td>268</td>\n",
       "      <td>Ética e a Clonagem Humana</td>\n",
       "      <td>Encontrar documentos que tragam relatos sobre...</td>\n",
       "    </tr>\n",
       "    <tr>\n",
       "      <th>18</th>\n",
       "      <td>269</td>\n",
       "      <td>Ratificação de tratados</td>\n",
       "      <td>Encontrar documentos que mencionem a ratifica...</td>\n",
       "    </tr>\n",
       "    <tr>\n",
       "      <th>19</th>\n",
       "      <td>270</td>\n",
       "      <td>Concorrentes da Microsoft</td>\n",
       "      <td>Quais companhias são concorrentes ou rivais, ...</td>\n",
       "    </tr>\n",
       "    <tr>\n",
       "      <th>20</th>\n",
       "      <td>271</td>\n",
       "      <td>Casamentos Gays</td>\n",
       "      <td>As uniões de casais homossexuais devem ser re...</td>\n",
       "    </tr>\n",
       "    <tr>\n",
       "      <th>21</th>\n",
       "      <td>272</td>\n",
       "      <td>Biografia do presidente checo</td>\n",
       "      <td>Encontrar documentos que mencionem de forma e...</td>\n",
       "    </tr>\n",
       "    <tr>\n",
       "      <th>22</th>\n",
       "      <td>273</td>\n",
       "      <td>Expansão da OTAN</td>\n",
       "      <td>Procurar discussões sobre a expansão da Organ...</td>\n",
       "    </tr>\n",
       "    <tr>\n",
       "      <th>23</th>\n",
       "      <td>274</td>\n",
       "      <td>Bombas não detonadas da Segunda Guerra Mundial</td>\n",
       "      <td>Encontrar documentos sobre a descoberta de bo...</td>\n",
       "    </tr>\n",
       "    <tr>\n",
       "      <th>24</th>\n",
       "      <td>275</td>\n",
       "      <td>Doenças relacionadas ao fumo</td>\n",
       "      <td>Quais doenças ou problemas médicos são suspei...</td>\n",
       "    </tr>\n",
       "    <tr>\n",
       "      <th>25</th>\n",
       "      <td>276</td>\n",
       "      <td>Subsídios agrícolas da UE</td>\n",
       "      <td>Encontrar informações sobre subsídios agrícol...</td>\n",
       "    </tr>\n",
       "    <tr>\n",
       "      <th>26</th>\n",
       "      <td>277</td>\n",
       "      <td>Eutanásia por profissionais da saúde</td>\n",
       "      <td>Documentos relevantes devem relatar casos esp...</td>\n",
       "    </tr>\n",
       "    <tr>\n",
       "      <th>27</th>\n",
       "      <td>278</td>\n",
       "      <td>Transporte para deficientes</td>\n",
       "      <td>Que problemas afrontam as pessoas com deficiê...</td>\n",
       "    </tr>\n",
       "    <tr>\n",
       "      <th>28</th>\n",
       "      <td>279</td>\n",
       "      <td>Referendos suíços</td>\n",
       "      <td>Encontrar documentos descrevendo a realização...</td>\n",
       "    </tr>\n",
       "    <tr>\n",
       "      <th>29</th>\n",
       "      <td>280</td>\n",
       "      <td>Crime em Nova York</td>\n",
       "      <td>Encontrar informações sobre incidentes crimin...</td>\n",
       "    </tr>\n",
       "    <tr>\n",
       "      <th>30</th>\n",
       "      <td>281</td>\n",
       "      <td>Radovan Karadzic</td>\n",
       "      <td>Encontrar material sobre o líder sérbio Radov...</td>\n",
       "    </tr>\n",
       "    <tr>\n",
       "      <th>31</th>\n",
       "      <td>282</td>\n",
       "      <td>Maus-tratos nas prisões</td>\n",
       "      <td>Encontrar relatos de casos específicos de mau...</td>\n",
       "    </tr>\n",
       "    <tr>\n",
       "      <th>32</th>\n",
       "      <td>283</td>\n",
       "      <td>Filmes da série James Bond</td>\n",
       "      <td>Encontrar documentos que contenham os nomes d...</td>\n",
       "    </tr>\n",
       "    <tr>\n",
       "      <th>33</th>\n",
       "      <td>284</td>\n",
       "      <td>Missões do vaivém espacial</td>\n",
       "      <td>Encontrar informação sobre missões de vaivém ...</td>\n",
       "    </tr>\n",
       "    <tr>\n",
       "      <th>34</th>\n",
       "      <td>285</td>\n",
       "      <td>Movimentos anti-aborto</td>\n",
       "      <td>Encontrar documentos sobre ações dos membros ...</td>\n",
       "    </tr>\n",
       "    <tr>\n",
       "      <th>35</th>\n",
       "      <td>286</td>\n",
       "      <td>Lesões no futebol</td>\n",
       "      <td>Encontrar documentos que descrevam lesões de ...</td>\n",
       "    </tr>\n",
       "    <tr>\n",
       "      <th>36</th>\n",
       "      <td>287</td>\n",
       "      <td>Ações terroristas com reféns</td>\n",
       "      <td>Encontrar documentos que discutam ações de te...</td>\n",
       "    </tr>\n",
       "    <tr>\n",
       "      <th>37</th>\n",
       "      <td>288</td>\n",
       "      <td>Importações de carros para os EUA</td>\n",
       "      <td>Que marcas automóveis são importadas para os ...</td>\n",
       "    </tr>\n",
       "    <tr>\n",
       "      <th>38</th>\n",
       "      <td>289</td>\n",
       "      <td>Ilhas Malvinas</td>\n",
       "      <td>Encontrar documentos com informação sobre as ...</td>\n",
       "    </tr>\n",
       "    <tr>\n",
       "      <th>39</th>\n",
       "      <td>290</td>\n",
       "      <td>Flutuação do preço do petróleo</td>\n",
       "      <td>Porque se altera o preço internacional do pet...</td>\n",
       "    </tr>\n",
       "    <tr>\n",
       "      <th>40</th>\n",
       "      <td>291</td>\n",
       "      <td>Imigrantes ilegais na UE</td>\n",
       "      <td>Encontrar documentos relacionados com o fenóm...</td>\n",
       "    </tr>\n",
       "    <tr>\n",
       "      <th>41</th>\n",
       "      <td>292</td>\n",
       "      <td>Reconstrução de cidades alemãs</td>\n",
       "      <td>Encontrar descrições sobre a reconstrução de ...</td>\n",
       "    </tr>\n",
       "    <tr>\n",
       "      <th>42</th>\n",
       "      <td>293</td>\n",
       "      <td>Relações entre a China e a Formosa</td>\n",
       "      <td>Encontrar informação sobre as relações actuai...</td>\n",
       "    </tr>\n",
       "    <tr>\n",
       "      <th>43</th>\n",
       "      <td>294</td>\n",
       "      <td>Força dos furações</td>\n",
       "      <td>Qual a velocidade dos ventos num furacão ou t...</td>\n",
       "    </tr>\n",
       "    <tr>\n",
       "      <th>44</th>\n",
       "      <td>295</td>\n",
       "      <td>Lavagem de dinheiro</td>\n",
       "      <td>Encontrar documentos discutindo o crime de co...</td>\n",
       "    </tr>\n",
       "    <tr>\n",
       "      <th>45</th>\n",
       "      <td>296</td>\n",
       "      <td>Liszt tocado em público</td>\n",
       "      <td>Encontrar documentos mencionando concertos ou...</td>\n",
       "    </tr>\n",
       "    <tr>\n",
       "      <th>46</th>\n",
       "      <td>297</td>\n",
       "      <td>Expulsões de pessoal diplomático</td>\n",
       "      <td>Encontrar documentos descrevendo a expulsão d...</td>\n",
       "    </tr>\n",
       "    <tr>\n",
       "      <th>47</th>\n",
       "      <td>298</td>\n",
       "      <td>Centrais nucleares</td>\n",
       "      <td>Encontrar documentos relatando acidentes em c...</td>\n",
       "    </tr>\n",
       "    <tr>\n",
       "      <th>48</th>\n",
       "      <td>299</td>\n",
       "      <td>Riscos das missões de manutenção de paz da ONU</td>\n",
       "      <td>Encontrar documentos relatando casos em que o...</td>\n",
       "    </tr>\n",
       "    <tr>\n",
       "      <th>49</th>\n",
       "      <td>300</td>\n",
       "      <td>Prémios na lotaria</td>\n",
       "      <td>Encontrar documentos sobre os vencedores de p...</td>\n",
       "    </tr>\n",
       "  </tbody>\n",
       "</table>\n",
       "</div>"
      ],
      "text/plain": [
       "      num                                             title  \\\n",
       "0    251                              Medicina alternativa    \n",
       "1    252           Sistemas de reforma e pensões na Europa    \n",
       "2    253                          Países com pena de morte    \n",
       "3    254                   Danos provocados por terramotos    \n",
       "4    255                              Viciados na Internet    \n",
       "5    256                       Doença de Creutzfeldt-Jakob    \n",
       "6    257                         Limpeza étnica nos Balcãs    \n",
       "7    258                     Impacto da \"fuga de cérebros\"    \n",
       "8    259                                      Urso de Ouro    \n",
       "9    260                         Legislação anti-tabagista    \n",
       "10   261                                       Adivinhação    \n",
       "11   262                     Espectáculos de beneficiência    \n",
       "12   263                 Disputas de arbitragem no futebol    \n",
       "13   264                Contrabando de material radioativo    \n",
       "14   265                       Aquisições do Deutsche Bank    \n",
       "15   266         Discriminação contra os ciganos na Europa    \n",
       "16   267                          Melhor Filme Estrangeiro    \n",
       "17   268                         Ética e a Clonagem Humana    \n",
       "18   269                           Ratificação de tratados    \n",
       "19   270                         Concorrentes da Microsoft    \n",
       "20   271                                   Casamentos Gays    \n",
       "21   272                     Biografia do presidente checo    \n",
       "22   273                                  Expansão da OTAN    \n",
       "23   274    Bombas não detonadas da Segunda Guerra Mundial    \n",
       "24   275                      Doenças relacionadas ao fumo    \n",
       "25   276                         Subsídios agrícolas da UE    \n",
       "26   277              Eutanásia por profissionais da saúde    \n",
       "27   278                       Transporte para deficientes    \n",
       "28   279                                 Referendos suíços    \n",
       "29   280                                Crime em Nova York    \n",
       "30   281                                  Radovan Karadzic    \n",
       "31   282                           Maus-tratos nas prisões    \n",
       "32   283                        Filmes da série James Bond    \n",
       "33   284                        Missões do vaivém espacial    \n",
       "34   285                            Movimentos anti-aborto    \n",
       "35   286                                 Lesões no futebol    \n",
       "36   287                      Ações terroristas com reféns    \n",
       "37   288                 Importações de carros para os EUA    \n",
       "38   289                                    Ilhas Malvinas    \n",
       "39   290                    Flutuação do preço do petróleo    \n",
       "40   291                          Imigrantes ilegais na UE    \n",
       "41   292                    Reconstrução de cidades alemãs    \n",
       "42   293                Relações entre a China e a Formosa    \n",
       "43   294                                Força dos furações    \n",
       "44   295                               Lavagem de dinheiro    \n",
       "45   296                           Liszt tocado em público    \n",
       "46   297                  Expulsões de pessoal diplomático    \n",
       "47   298                                Centrais nucleares    \n",
       "48   299    Riscos das missões de manutenção de paz da ONU    \n",
       "49   300                                Prémios na lotaria    \n",
       "\n",
       "                                                 desc  \n",
       "0    Encontrar documentos sobre tratamentos que em...  \n",
       "1    Encontrar documentos sobre os esquemas de pen...  \n",
       "2    Em quais países ainda é usada, ou pelo menos ...  \n",
       "3    Encontrar documentos que descrevam os danos c...  \n",
       "4     O uso frequente da Internet produz habituação?   \n",
       "5    Encontrar documentos que descrevam os sintoma...  \n",
       "6    Encontrar documentos que relatam incidentes e...  \n",
       "7    Encontrar documentos sobre o problema causado...  \n",
       "8    Encontrar documentos mencionando filmes galar...  \n",
       "9    Encontrar documentos que descrevam leis ou qu...  \n",
       "10          Como é que os videntes prevêem o futuro?   \n",
       "11   Que causas ou instituições humanitárias receb...  \n",
       "12   Encontrar documentos nos quais decisões feita...  \n",
       "13   Encontrar documentos sobre o tráfico internac...  \n",
       "14   Encontrar os nomes das empresas que foram tot...  \n",
       "15   Encontrar documentos relatando episódios rece...  \n",
       "16   Quais foram os filmes candidatos ao Oscar de ...  \n",
       "17   Encontrar documentos que tragam relatos sobre...  \n",
       "18   Encontrar documentos que mencionem a ratifica...  \n",
       "19   Quais companhias são concorrentes ou rivais, ...  \n",
       "20   As uniões de casais homossexuais devem ser re...  \n",
       "21   Encontrar documentos que mencionem de forma e...  \n",
       "22   Procurar discussões sobre a expansão da Organ...  \n",
       "23   Encontrar documentos sobre a descoberta de bo...  \n",
       "24   Quais doenças ou problemas médicos são suspei...  \n",
       "25   Encontrar informações sobre subsídios agrícol...  \n",
       "26   Documentos relevantes devem relatar casos esp...  \n",
       "27   Que problemas afrontam as pessoas com deficiê...  \n",
       "28   Encontrar documentos descrevendo a realização...  \n",
       "29   Encontrar informações sobre incidentes crimin...  \n",
       "30   Encontrar material sobre o líder sérbio Radov...  \n",
       "31   Encontrar relatos de casos específicos de mau...  \n",
       "32   Encontrar documentos que contenham os nomes d...  \n",
       "33   Encontrar informação sobre missões de vaivém ...  \n",
       "34   Encontrar documentos sobre ações dos membros ...  \n",
       "35   Encontrar documentos que descrevam lesões de ...  \n",
       "36   Encontrar documentos que discutam ações de te...  \n",
       "37   Que marcas automóveis são importadas para os ...  \n",
       "38   Encontrar documentos com informação sobre as ...  \n",
       "39   Porque se altera o preço internacional do pet...  \n",
       "40   Encontrar documentos relacionados com o fenóm...  \n",
       "41   Encontrar descrições sobre a reconstrução de ...  \n",
       "42   Encontrar informação sobre as relações actuai...  \n",
       "43   Qual a velocidade dos ventos num furacão ou t...  \n",
       "44   Encontrar documentos discutindo o crime de co...  \n",
       "45   Encontrar documentos mencionando concertos ou...  \n",
       "46   Encontrar documentos descrevendo a expulsão d...  \n",
       "47   Encontrar documentos relatando acidentes em c...  \n",
       "48   Encontrar documentos relatando casos em que o...  \n",
       "49   Encontrar documentos sobre os vencedores de p...  "
      ]
     },
     "execution_count": 49,
     "metadata": {},
     "output_type": "execute_result"
    }
   ],
   "source": [
    "consultas"
   ]
  },
  {
   "cell_type": "code",
   "execution_count": 113,
   "metadata": {},
   "outputs": [],
   "source": [
    "stopwords = nltk.corpus.stopwords.words('portuguese')"
   ]
  },
  {
   "cell_type": "markdown",
   "metadata": {},
   "source": [
    "## Importar biblioteca de mysql"
   ]
  },
  {
   "cell_type": "code",
   "execution_count": 2,
   "metadata": {},
   "outputs": [],
   "source": [
    "import pymysql as ps"
   ]
  },
  {
   "cell_type": "markdown",
   "metadata": {},
   "source": [
    "### Criar conexão com o banco de dados"
   ]
  },
  {
   "cell_type": "code",
   "execution_count": 173,
   "metadata": {},
   "outputs": [],
   "source": [
    "db = ps.connect(host='127.0.0.1',port=9306,user='root',passwd='root',charset='utf8',db='')"
   ]
  },
  {
   "cell_type": "markdown",
   "metadata": {},
   "source": [
    "### Criando cursor"
   ]
  },
  {
   "cell_type": "code",
   "execution_count": 174,
   "metadata": {},
   "outputs": [],
   "source": [
    "cur = db.cursor()"
   ]
  },
  {
   "cell_type": "markdown",
   "metadata": {},
   "source": [
    "### Espaço para as Query\n"
   ]
  },
  {
   "cell_type": "code",
   "execution_count": 175,
   "metadata": {},
   "outputs": [],
   "source": [
    "select_op = '*, weight()'"
   ]
  },
  {
   "cell_type": "code",
   "execution_count": 176,
   "metadata": {},
   "outputs": [],
   "source": [
    "index_table = 'teste6'"
   ]
  },
  {
   "cell_type": "code",
   "execution_count": 177,
   "metadata": {},
   "outputs": [],
   "source": [
    "limit = '100'"
   ]
  },
  {
   "cell_type": "code",
   "execution_count": 178,
   "metadata": {},
   "outputs": [],
   "source": [
    "ranker = 'bm25'"
   ]
  },
  {
   "cell_type": "code",
   "execution_count": 201,
   "metadata": {},
   "outputs": [],
   "source": [
    "results = pd.DataFrame()"
   ]
  },
  {
   "cell_type": "code",
   "execution_count": 202,
   "metadata": {},
   "outputs": [],
   "source": [
    "for index, row in consultas.iterrows():\n",
    "    string_to_match = row['title']\n",
    "    string_to_match = ' '.join([word for word in string_to_match.split() if word not in (stopwords)])\n",
    "    string_to_match = string_to_match.replace(' ', ' | ')\n",
    "    consulta_integer = row['num']\n",
    "    qry = 'SELECT ' + select_op + ' FROM ' + index_table + ' WHERE MATCH(' + \"'\" + string_to_match + \"'\" +  ') LIMIT ' + limit + ' OPTION ranker=' + ranker\n",
    "    cur.execute(qry)\n",
    "    row = cur.fetchall()\n",
    "    result = pd.DataFrame(list(row), columns=['new_id','date','category','docid', 'docno', 'score'])\n",
    "    result['consulta'] = consulta_integer\n",
    "    result['index'] = result.index\n",
    "    results = results.append(result)"
   ]
  },
  {
   "cell_type": "code",
   "execution_count": 203,
   "metadata": {},
   "outputs": [
    {
     "name": "stdout",
     "output_type": "stream",
     "text": [
      "<class 'pandas.core.frame.DataFrame'>\n",
      "Int64Index: 3722 entries, 0 to 99\n",
      "Data columns (total 8 columns):\n",
      "new_id      3722 non-null object\n",
      "date        3722 non-null object\n",
      "category    3722 non-null object\n",
      "docid       3722 non-null object\n",
      "docno       3722 non-null object\n",
      "score       3722 non-null object\n",
      "consulta    3722 non-null object\n",
      "index       3722 non-null object\n",
      "dtypes: object(8)\n",
      "memory usage: 261.7+ KB\n"
     ]
    }
   ],
   "source": [
    "results.info()"
   ]
  },
  {
   "cell_type": "code",
   "execution_count": 206,
   "metadata": {},
   "outputs": [
    {
     "data": {
      "text/html": [
       "<div>\n",
       "<style scoped>\n",
       "    .dataframe tbody tr th:only-of-type {\n",
       "        vertical-align: middle;\n",
       "    }\n",
       "\n",
       "    .dataframe tbody tr th {\n",
       "        vertical-align: top;\n",
       "    }\n",
       "\n",
       "    .dataframe thead th {\n",
       "        text-align: right;\n",
       "    }\n",
       "</style>\n",
       "<table border=\"1\" class=\"dataframe\">\n",
       "  <thead>\n",
       "    <tr style=\"text-align: right;\">\n",
       "      <th></th>\n",
       "      <th>new_id</th>\n",
       "      <th>date</th>\n",
       "      <th>category</th>\n",
       "      <th>docid</th>\n",
       "      <th>docno</th>\n",
       "      <th>score</th>\n",
       "      <th>consulta</th>\n",
       "      <th>index</th>\n",
       "    </tr>\n",
       "  </thead>\n",
       "  <tbody>\n",
       "    <tr>\n",
       "      <th>0</th>\n",
       "      <td>950315114</td>\n",
       "      <td>950315</td>\n",
       "      <td>COTIDIANO</td>\n",
       "      <td>FSP950315-114</td>\n",
       "      <td>FSP950315-114</td>\n",
       "      <td>1637</td>\n",
       "      <td>251</td>\n",
       "      <td>0</td>\n",
       "    </tr>\n",
       "    <tr>\n",
       "      <th>1</th>\n",
       "      <td>950205127</td>\n",
       "      <td>950205</td>\n",
       "      <td>MAIS!</td>\n",
       "      <td>FSP950205-127</td>\n",
       "      <td>FSP950205-127</td>\n",
       "      <td>1614</td>\n",
       "      <td>251</td>\n",
       "      <td>1</td>\n",
       "    </tr>\n",
       "    <tr>\n",
       "      <th>2</th>\n",
       "      <td>950409099</td>\n",
       "      <td>950409</td>\n",
       "      <td>COTIDIANO</td>\n",
       "      <td>FSP950409-099</td>\n",
       "      <td>FSP950409-099</td>\n",
       "      <td>1609</td>\n",
       "      <td>251</td>\n",
       "      <td>2</td>\n",
       "    </tr>\n",
       "    <tr>\n",
       "      <th>3</th>\n",
       "      <td>950303004</td>\n",
       "      <td>950303</td>\n",
       "      <td>OPINIÃO</td>\n",
       "      <td>FSP950303-004</td>\n",
       "      <td>FSP950303-004</td>\n",
       "      <td>1600</td>\n",
       "      <td>251</td>\n",
       "      <td>3</td>\n",
       "    </tr>\n",
       "    <tr>\n",
       "      <th>4</th>\n",
       "      <td>950720079</td>\n",
       "      <td>950720</td>\n",
       "      <td>COTIDIANO</td>\n",
       "      <td>FSP950720-079</td>\n",
       "      <td>FSP950720-079</td>\n",
       "      <td>1600</td>\n",
       "      <td>251</td>\n",
       "      <td>4</td>\n",
       "    </tr>\n",
       "  </tbody>\n",
       "</table>\n",
       "</div>"
      ],
      "text/plain": [
       "      new_id    date   category          docid          docno score consulta  \\\n",
       "0  950315114  950315  COTIDIANO  FSP950315-114  FSP950315-114  1637     251    \n",
       "1  950205127  950205      MAIS!  FSP950205-127  FSP950205-127  1614     251    \n",
       "2  950409099  950409  COTIDIANO  FSP950409-099  FSP950409-099  1609     251    \n",
       "3  950303004  950303    OPINIÃO  FSP950303-004  FSP950303-004  1600     251    \n",
       "4  950720079  950720  COTIDIANO  FSP950720-079  FSP950720-079  1600     251    \n",
       "\n",
       "  index  \n",
       "0     0  \n",
       "1     1  \n",
       "2     2  \n",
       "3     3  \n",
       "4     4  "
      ]
     },
     "execution_count": 206,
     "metadata": {},
     "output_type": "execute_result"
    }
   ],
   "source": [
    "results.head()"
   ]
  },
  {
   "cell_type": "code",
   "execution_count": 210,
   "metadata": {},
   "outputs": [],
   "source": [
    "report = pd.DataFrame()"
   ]
  },
  {
   "cell_type": "code",
   "execution_count": 223,
   "metadata": {},
   "outputs": [],
   "source": [
    "texto = \"\""
   ]
  },
  {
   "cell_type": "code",
   "execution_count": 224,
   "metadata": {},
   "outputs": [],
   "source": [
    "for index, row in results.iterrows():\n",
    "    texto = texto + row['consulta'] + ' ' + 'Q0' + ' ' + row['docid'] + ' ' + str(row['index']) + ' ' + str(row['score']) + ' ' + 'Cauã_Matheus' + '\\n'"
   ]
  },
  {
   "cell_type": "code",
   "execution_count": 225,
   "metadata": {},
   "outputs": [
    {
     "data": {
      "text/plain": [
       "' 251  Q0 FSP950315-114 0 1637 Cauã_Matheus\\n 251  Q0 FSP950205-127 1 1614 Cauã_Matheus\\n 251  Q0 FSP950409-099 2 1609 Cauã_Matheus\\n 251  Q0 FSP950303-004 3 1600 Cauã_Matheus\\n 251  Q0 FSP950720-079 4 1600 Cauã_Matheus\\n 251  Q0 FSP951010-010 5 1600 Cauã_Matheus\\n 251  Q0 FSP951111-086 6 1600 Cauã_Matheus\\n 251  Q0 FSP951224-124 7 1600 Cauã_Matheus\\n 251  Q0 FSP950121-010 8 1599 Cauã_Matheus\\n 251  Q0 FSP950309-010 9 1599 Cauã_Matheus\\n 251  Q0 FSP950527-009 10 1599 Cauã_Matheus\\n 251  Q0 FSP950116-053 11 1588 Cauã_Matheus\\n 251  Q0 FSP950101-009 12 1584 Cauã_Matheus\\n 251  Q0 FSP950305-010 13 1584 Cauã_Matheus\\n 251  Q0 FSP950426-099 14 1584 Cauã_Matheus\\n 251  Q0 FSP950823-013 15 1584 Cauã_Matheus\\n 251  Q0 FSP950909-009 16 1584 Cauã_Matheus\\n 251  Q0 FSP950914-085 17 1584 Cauã_Matheus\\n 251  Q0 FSP950918-114 18 1584 Cauã_Matheus\\n 251  Q0 FSP950921-031 19 1584 Cauã_Matheus\\n 251  Q0 FSP950924-010 20 1584 Cauã_Matheus\\n 251  Q0 FSP950926-011 21 1584 Cauã_Matheus\\n 251  Q0 FSP951109-008 22 1584 Cauã_Matheus\\n 251  Q0 FSP951217-011 23 1584 Cauã_Matheus\\n 251  Q0 FSP951224-134 24 1584 Cauã_Matheus\\n 251  Q0 FSP950403-148 25 1582 Cauã_Matheus\\n 251  Q0 FSP950924-131 26 1582 Cauã_Matheus\\n 251  Q0 FSP951106-122 27 1580 Cauã_Matheus\\n 251  Q0 FSP951116-081 28 1580 Cauã_Matheus\\n 251  Q0 FSP950113-119 29 1577 Cauã_Matheus\\n 251  Q0 FSP950409-096 30 1577 Cauã_Matheus\\n 251  Q0 FSP950409-105 31 1577 Cauã_Matheus\\n 251  Q0 FSP950723-166 32 1577 Cauã_Matheus\\n 251  Q0 FSP950903-099 33 1577 Cauã_Matheus\\n 251  Q0 FSP950904-071 34 1577 Cauã_Matheus\\n 251  Q0 FSP951208-099 35 1577 Cauã_Matheus\\n 251  Q0 FSP950117-083 36 1573 Cauã_Matheus\\n 251  Q0 FSP950122-113 37 1573 Cauã_Matheus\\n 251  Q0 FSP950205-156 38 1573 Cauã_Matheus\\n 251  Q0 FSP950206-064 39 1573 Cauã_Matheus\\n 251  Q0 FSP950221-085 40 1573 Cauã_Matheus\\n 251  Q0 FSP950226-005 41 1573 Cauã_Matheus\\n 251  Q0 FSP950228-054 42 1573 Cauã_Matheus\\n 251  Q0 FSP950313-111 43 1573 Cauã_Matheus\\n 251  Q0 FSP950521-143 44 1573 Cauã_Matheus\\n 251  Q0 FSP950830-102 45 1573 Cauã_Matheus\\n 251  Q0 FSP951029-075 46 1573 Cauã_Matheus\\n 251  Q0 FSP951029-079 47 1573 Cauã_Matheus\\n 251  Q0 FSP951111-031 48 1573 Cauã_Matheus\\n 251  Q0 FSP951121-104 49 1573 Cauã_Matheus\\n 251  Q0 FSP951213-113 50 1573 Cauã_Matheus\\n 251  Q0 FSP950509-025 51 1571 Cauã_Matheus\\n 251  Q0 FSP950117-082 52 1568 Cauã_Matheus\\n 251  Q0 FSP950130-051 53 1568 Cauã_Matheus\\n 251  Q0 FSP950201-010 54 1568 Cauã_Matheus\\n 251  Q0 FSP950212-150 55 1568 Cauã_Matheus\\n 251  Q0 FSP950217-098 56 1568 Cauã_Matheus\\n 251  Q0 FSP950217-103 57 1568 Cauã_Matheus\\n 251  Q0 FSP950221-102 58 1568 Cauã_Matheus\\n 251  Q0 FSP950225-012 59 1568 Cauã_Matheus\\n 251  Q0 FSP950301-107 60 1568 Cauã_Matheus\\n 251  Q0 FSP950313-110 61 1568 Cauã_Matheus\\n 251  Q0 FSP950320-063 62 1568 Cauã_Matheus\\n 251  Q0 FSP950406-069 63 1568 Cauã_Matheus\\n 251  Q0 FSP950422-087 64 1568 Cauã_Matheus\\n 251  Q0 FSP950505-008 65 1568 Cauã_Matheus\\n 251  Q0 FSP950507-009 66 1568 Cauã_Matheus\\n 251  Q0 FSP950507-086 67 1568 Cauã_Matheus\\n 251  Q0 FSP950508-010 68 1568 Cauã_Matheus\\n 251  Q0 FSP950521-136 69 1568 Cauã_Matheus\\n 251  Q0 FSP950524-083 70 1568 Cauã_Matheus\\n 251  Q0 FSP950525-083 71 1568 Cauã_Matheus\\n 251  Q0 FSP950528-042 72 1568 Cauã_Matheus\\n 251  Q0 FSP950528-099 73 1568 Cauã_Matheus\\n 251  Q0 FSP950528-100 74 1568 Cauã_Matheus\\n 251  Q0 FSP950609-073 75 1568 Cauã_Matheus\\n 251  Q0 FSP950625-137 76 1568 Cauã_Matheus\\n 251  Q0 FSP950625-223 77 1568 Cauã_Matheus\\n 251  Q0 FSP950627-010 78 1568 Cauã_Matheus\\n 251  Q0 FSP950716-142 79 1568 Cauã_Matheus\\n 251  Q0 FSP950723-099 80 1568 Cauã_Matheus\\n 251  Q0 FSP950804-070 81 1568 Cauã_Matheus\\n 251  Q0 FSP950810-032 82 1568 Cauã_Matheus\\n 251  Q0 FSP950825-060 83 1568 Cauã_Matheus\\n 251  Q0 FSP950830-098 84 1568 Cauã_Matheus\\n 251  Q0 FSP950909-011 85 1568 Cauã_Matheus\\n 251  Q0 FSP950909-087 86 1568 Cauã_Matheus\\n 251  Q0 FSP950911-054 87 1568 Cauã_Matheus\\n 251  Q0 FSP950922-086 88 1568 Cauã_Matheus\\n 251  Q0 FSP950924-125 89 1568 Cauã_Matheus\\n 251  Q0 FSP950928-088 90 1568 Cauã_Matheus\\n 251  Q0 FSP951008-065 91 1568 Cauã_Matheus\\n 251  Q0 FSP951015-096 92 1568 Cauã_Matheus\\n 251  Q0 FSP951022-097 93 1568 Cauã_Matheus\\n 251  Q0 FSP951026-131 94 1568 Cauã_Matheus\\n 251  Q0 FSP951029-078 95 1568 Cauã_Matheus\\n 251  Q0 FSP951030-112 96 1568 Cauã_Matheus\\n 251  Q0 FSP951112-131 97 1568 Cauã_Matheus\\n 251  Q0 FSP951112-132 98 1568 Cauã_Matheus\\n 251  Q0 FSP951114-002 99 1568 Cauã_Matheus\\n 252  Q0 FSP951229-019 0 1564 Cauã_Matheus\\n 252  Q0 FSP950301-036 1 1555 Cauã_Matheus\\n 252  Q0 FSP951119-067 2 1555 Cauã_Matheus\\n 252  Q0 FSP950313-009 3 1554 Cauã_Matheus\\n 252  Q0 FSP950219-010 4 1551 Cauã_Matheus\\n 252  Q0 FSP950413-021 5 1550 Cauã_Matheus\\n 252  Q0 FSP950904-113 6 1549 Cauã_Matheus\\n 252  Q0 FSP950618-008 7 1548 Cauã_Matheus\\n 252  Q0 FSP951220-010 8 1545 Cauã_Matheus\\n 252  Q0 FSP951116-039 9 1544 Cauã_Matheus\\n 252  Q0 FSP950808-053 10 1543 Cauã_Matheus\\n 252  Q0 FSP951125-018 11 1543 Cauã_Matheus\\n 252  Q0 FSP950611-022 12 1542 Cauã_Matheus\\n 252  Q0 FSP950822-033 13 1542 Cauã_Matheus\\n 252  Q0 FSP951204-041 14 1541 Cauã_Matheus\\n 252  Q0 FSP951206-052 15 1541 Cauã_Matheus\\n 252  Q0 FSP951228-039 16 1541 Cauã_Matheus\\n 252  Q0 FSP950305-002 17 1540 Cauã_Matheus\\n 252  Q0 FSP950413-151 18 1540 Cauã_Matheus\\n 252  Q0 FSP950423-144 19 1540 Cauã_Matheus\\n 252  Q0 FSP950110-025 20 1539 Cauã_Matheus\\n 252  Q0 FSP950611-023 21 1539 Cauã_Matheus\\n 252  Q0 FSP950808-017 22 1539 Cauã_Matheus\\n 252  Q0 FSP950921-029 23 1539 Cauã_Matheus\\n 252  Q0 FSP951008-014 24 1539 Cauã_Matheus\\n 252  Q0 FSP950201-050 25 1538 Cauã_Matheus\\n 252  Q0 FSP950402-065 26 1538 Cauã_Matheus\\n 252  Q0 FSP951212-015 27 1538 Cauã_Matheus\\n 252  Q0 FSP951228-008 28 1538 Cauã_Matheus\\n 252  Q0 FSP950216-155 29 1537 Cauã_Matheus\\n 252  Q0 FSP950411-012 30 1537 Cauã_Matheus\\n 252  Q0 FSP951229-020 31 1537 Cauã_Matheus\\n 252  Q0 FSP950106-011 32 1536 Cauã_Matheus\\n 252  Q0 FSP950319-029 33 1536 Cauã_Matheus\\n 252  Q0 FSP950319-032 34 1536 Cauã_Matheus\\n 252  Q0 FSP950416-054 35 1536 Cauã_Matheus\\n 252  Q0 FSP950610-070 36 1536 Cauã_Matheus\\n 252  Q0 FSP950917-081 37 1536 Cauã_Matheus\\n 252  Q0 FSP951119-073 38 1536 Cauã_Matheus\\n 252  Q0 FSP950130-002 39 1535 Cauã_Matheus\\n 252  Q0 FSP950207-007 40 1535 Cauã_Matheus\\n 252  Q0 FSP951001-010 41 1535 Cauã_Matheus\\n 252  Q0 FSP951203-013 42 1535 Cauã_Matheus\\n 252  Q0 FSP951206-014 43 1535 Cauã_Matheus\\n 252  Q0 FSP950221-014 44 1534 Cauã_Matheus\\n 252  Q0 FSP950311-047 45 1534 Cauã_Matheus\\n 252  Q0 FSP950325-053 46 1534 Cauã_Matheus\\n 252  Q0 FSP950408-066 47 1534 Cauã_Matheus\\n 252  Q0 FSP950507-049 48 1534 Cauã_Matheus\\n 252  Q0 FSP950617-061 49 1534 Cauã_Matheus\\n 252  Q0 FSP950703-127 50 1534 Cauã_Matheus\\n 252  Q0 FSP950709-057 51 1534 Cauã_Matheus\\n 252  Q0 FSP950716-130 52 1534 Cauã_Matheus\\n 252  Q0 FSP950725-139 53 1534 Cauã_Matheus\\n 252  Q0 FSP950912-071 54 1534 Cauã_Matheus\\n 252  Q0 FSP951109-010 55 1534 Cauã_Matheus\\n 252  Q0 FSP950109-012 56 1533 Cauã_Matheus\\n 252  Q0 FSP950201-056 57 1533 Cauã_Matheus\\n 252  Q0 FSP950303-036 58 1533 Cauã_Matheus\\n 252  Q0 FSP950312-066 59 1533 Cauã_Matheus\\n 252  Q0 FSP950807-121 60 1533 Cauã_Matheus\\n 252  Q0 FSP950824-022 61 1533 Cauã_Matheus\\n 252  Q0 FSP951215-068 62 1533 Cauã_Matheus\\n 252  Q0 FSP951225-016 63 1533 Cauã_Matheus\\n 252  Q0 FSP950219-036 64 1532 Cauã_Matheus\\n 252  Q0 FSP950309-024 65 1532 Cauã_Matheus\\n 252  Q0 FSP950319-045 66 1532 Cauã_Matheus\\n 252  Q0 FSP950323-011 67 1532 Cauã_Matheus\\n 252  Q0 FSP950405-061 68 1532 Cauã_Matheus\\n 252  Q0 FSP950503-057 69 1532 Cauã_Matheus\\n 252  Q0 FSP950505-024 70 1532 Cauã_Matheus\\n 252  Q0 FSP950915-009 71 1532 Cauã_Matheus\\n 252  Q0 FSP950917-077 72 1532 Cauã_Matheus\\n 252  Q0 FSP950924-056 73 1532 Cauã_Matheus\\n 252  Q0 FSP950927-019 74 1532 Cauã_Matheus\\n 252  Q0 FSP951001-014 75 1532 Cauã_Matheus\\n 252  Q0 FSP951119-011 76 1532 Cauã_Matheus\\n 252  Q0 FSP950129-009 77 1531 Cauã_Matheus\\n 252  Q0 FSP950213-013 78 1531 Cauã_Matheus\\n 252  Q0 FSP950215-046 79 1531 Cauã_Matheus\\n 252  Q0 FSP950308-033 80 1531 Cauã_Matheus\\n 252  Q0 FSP950413-173 81 1531 Cauã_Matheus\\n 252  Q0 FSP950415-013 82 1531 Cauã_Matheus\\n 252  Q0 FSP950801-008 83 1531 Cauã_Matheus\\n 252  Q0 FSP950927-018 84 1531 Cauã_Matheus\\n 252  Q0 FSP951117-022 85 1531 Cauã_Matheus\\n 252  Q0 FSP951130-167 86 1531 Cauã_Matheus\\n 252  Q0 FSP951130-171 87 1531 Cauã_Matheus\\n 252  Q0 FSP951207-021 88 1531 Cauã_Matheus\\n 252  Q0 FSP950104-019 89 1530 Cauã_Matheus\\n 252  Q0 FSP950215-049 90 1530 Cauã_Matheus\\n 252  Q0 FSP950305-151 91 1530 Cauã_Matheus\\n 252  Q0 FSP950328-022 92 1530 Cauã_Matheus\\n 252  Q0 FSP950413-022 93 1530 Cauã_Matheus\\n 252  Q0 FSP950430-123 94 1530 Cauã_Matheus\\n 252  Q0 FSP950923-034 95 1530 Cauã_Matheus\\n 252  Q0 FSP950926-110 96 1530 Cauã_Matheus\\n 252  Q0 FSP951001-070 97 1530 Cauã_Matheus\\n 252  Q0 FSP951012-040 98 1530 Cauã_Matheus\\n 252  Q0 FSP951017-011 99 1530 Cauã_Matheus\\n 253  Q0 FSP950716-129 0 1584 Cauã_Matheus\\n 253  Q0 FSP950706-009 1 1577 Cauã_Matheus\\n 253  Q0 FSP950319-011 2 1573 Cauã_Matheus\\n 253  Q0 FSP950430-093 3 1572 Cauã_Matheus\\n 253  Q0 FSP951221-005 4 1570 Cauã_Matheus\\n 253  Q0 FSP951001-127 5 1569 Cauã_Matheus\\n 253  Q0 FSP950427-009 6 1566 Cauã_Matheus\\n 253  Q0 FSP951021-052 7 1566 Cauã_Matheus\\n 253  Q0 FSP950116-027 8 1565 Cauã_Matheus\\n 253  Q0 FSP950503-043 9 1565 Cauã_Matheus\\n 253  Q0 FSP950503-047 10 1565 Cauã_Matheus\\n 253  Q0 FSP950509-008 11 1564 Cauã_Matheus\\n 253  Q0 FSP950111-008 12 1563 Cauã_Matheus\\n 253  Q0 FSP951024-046 13 1563 Cauã_Matheus\\n 253  Q0 FSP950417-023 14 1562 Cauã_Matheus\\n 253  Q0 FSP950430-046 15 1562 Cauã_Matheus\\n 253  Q0 FSP950707-073 16 1562 Cauã_Matheus\\n 253  Q0 FSP950820-206 17 1562 Cauã_Matheus\\n 253  Q0 FSP950609-003 18 1561 Cauã_Matheus\\n 253  Q0 FSP950407-048 19 1560 Cauã_Matheus\\n 253  Q0 FSP951011-044 20 1558 Cauã_Matheus\\n 253  Q0 FSP950108-131 21 1557 Cauã_Matheus\\n 253  Q0 FSP950326-081 22 1557 Cauã_Matheus\\n 253  Q0 FSP950526-040 23 1557 Cauã_Matheus\\n 253  Q0 FSP950603-096 24 1557 Cauã_Matheus\\n 253  Q0 FSP950805-076 25 1557 Cauã_Matheus\\n 253  Q0 FSP950902-049 26 1557 Cauã_Matheus\\n 253  Q0 FSP950929-047 27 1557 Cauã_Matheus\\n 253  Q0 FSP951014-077 28 1557 Cauã_Matheus\\n 253  Q0 FSP951027-115 29 1557 Cauã_Matheus\\n 253  Q0 FSP950303-115 30 1556 Cauã_Matheus\\n 253  Q0 FSP950331-003 31 1556 Cauã_Matheus\\n 253  Q0 FSP950426-140 32 1556 Cauã_Matheus\\n 253  Q0 FSP950705-020 33 1556 Cauã_Matheus\\n 253  Q0 FSP951209-057 34 1556 Cauã_Matheus\\n 253  Q0 FSP950326-036 35 1555 Cauã_Matheus\\n 253  Q0 FSP950331-051 36 1555 Cauã_Matheus\\n 253  Q0 FSP950709-122 37 1555 Cauã_Matheus\\n 253  Q0 FSP951021-048 38 1555 Cauã_Matheus\\n 253  Q0 FSP950625-123 39 1554 Cauã_Matheus\\n 253  Q0 FSP951008-109 40 1554 Cauã_Matheus\\n 253  Q0 FSP951202-078 41 1554 Cauã_Matheus\\n 253  Q0 FSP950413-022 42 1553 Cauã_Matheus\\n 253  Q0 FSP950718-036 43 1553 Cauã_Matheus\\n 253  Q0 FSP950121-116 44 1552 Cauã_Matheus\\n 253  Q0 FSP950129-022 45 1552 Cauã_Matheus\\n 253  Q0 FSP950205-133 46 1552 Cauã_Matheus\\n 253  Q0 FSP950416-145 47 1552 Cauã_Matheus\\n 253  Q0 FSP950428-054 48 1552 Cauã_Matheus\\n 253  Q0 FSP950518-109 49 1552 Cauã_Matheus\\n 253  Q0 FSP950606-010 50 1552 Cauã_Matheus\\n 253  Q0 FSP950624-069 51 1552 Cauã_Matheus\\n 253  Q0 FSP950825-123 52 1552 Cauã_Matheus\\n 253  Q0 FSP950902-107 53 1552 Cauã_Matheus\\n 253  Q0 FSP950904-113 54 1552 Cauã_Matheus\\n 253  Q0 FSP950929-056 55 1552 Cauã_Matheus\\n 253  Q0 FSP950930-075 56 1552 Cauã_Matheus\\n 253  Q0 FSP951105-003 57 1552 Cauã_Matheus\\n 253  Q0 FSP951224-045 58 1552 Cauã_Matheus\\n 253  Q0 FSP950218-012 59 1551 Cauã_Matheus\\n 253  Q0 FSP950414-019 60 1551 Cauã_Matheus\\n 253  Q0 FSP950514-120 61 1551 Cauã_Matheus\\n 253  Q0 FSP950621-034 62 1551 Cauã_Matheus\\n 253  Q0 FSP950805-051 63 1551 Cauã_Matheus\\n 253  Q0 FSP950917-209 64 1551 Cauã_Matheus\\n 253  Q0 FSP950920-036 65 1551 Cauã_Matheus\\n 253  Q0 FSP951029-009 66 1551 Cauã_Matheus\\n 253  Q0 FSP951117-009 67 1551 Cauã_Matheus\\n 253  Q0 FSP951210-009 68 1551 Cauã_Matheus\\n 253  Q0 FSP950115-093 69 1550 Cauã_Matheus\\n 253  Q0 FSP950528-118 70 1550 Cauã_Matheus\\n 253  Q0 FSP950202-058 71 1549 Cauã_Matheus\\n 253  Q0 FSP950212-119 72 1549 Cauã_Matheus\\n 253  Q0 FSP950302-052 73 1549 Cauã_Matheus\\n 253  Q0 FSP950329-111 74 1549 Cauã_Matheus\\n 253  Q0 FSP950403-041 75 1549 Cauã_Matheus\\n 253  Q0 FSP950501-111 76 1549 Cauã_Matheus\\n 253  Q0 FSP950509-007 77 1549 Cauã_Matheus\\n 253  Q0 FSP950630-025 78 1549 Cauã_Matheus\\n 253  Q0 FSP950709-068 79 1549 Cauã_Matheus\\n 253  Q0 FSP950720-088 80 1549 Cauã_Matheus\\n 253  Q0 FSP950814-062 81 1549 Cauã_Matheus\\n 253  Q0 FSP950917-010 82 1549 Cauã_Matheus\\n 253  Q0 FSP951011-048 83 1549 Cauã_Matheus\\n 253  Q0 FSP951027-046 84 1549 Cauã_Matheus\\n 253  Q0 FSP951107-044 85 1549 Cauã_Matheus\\n 253  Q0 FSP950129-129 86 1548 Cauã_Matheus\\n 253  Q0 FSP950205-055 87 1548 Cauã_Matheus\\n 253  Q0 FSP950312-040 88 1548 Cauã_Matheus\\n 253  Q0 FSP950521-067 89 1548 Cauã_Matheus\\n 253  Q0 FSP950604-211 90 1548 Cauã_Matheus\\n 253  Q0 FSP950628-046 91 1548 Cauã_Matheus\\n 253  Q0 FSP951111-062 92 1548 Cauã_Matheus\\n 253  Q0 FSP951120-121 93 1548 Cauã_Matheus\\n 253  Q0 FSP951211-049 94 1548 Cauã_Matheus\\n 253  Q0 FSP950116-026 95 1547 Cauã_Matheus\\n 253  Q0 FSP950117-008 96 1547 Cauã_Matheus\\n 253  Q0 FSP950205-059 97 1547 Cauã_Matheus\\n 253  Q0 FSP950226-149 98 1547 Cauã_Matheus\\n 253  Q0 FSP950309-143 99 1547 Cauã_Matheus\\n 254  Q0 FSP950118-071 0 1594 Cauã_Matheus\\n 254  Q0 FSP950117-075 1 1591 Cauã_Matheus\\n 254  Q0 FSP950208-096 2 1588 Cauã_Matheus\\n 254  Q0 FSP951105-153 3 1588 Cauã_Matheus\\n 254  Q0 FSP951120-067 4 1588 Cauã_Matheus\\n 254  Q0 FSP951207-087 5 1588 Cauã_Matheus\\n 254  Q0 FSP951223-070 6 1588 Cauã_Matheus\\n 254  Q0 FSP950120-038 7 1575 Cauã_Matheus\\n 254  Q0 FSP950308-069 8 1575 Cauã_Matheus\\n 254  Q0 FSP950317-107 9 1575 Cauã_Matheus\\n 254  Q0 FSP950409-143 10 1575 Cauã_Matheus\\n 254  Q0 FSP950617-042 11 1575 Cauã_Matheus\\n 254  Q0 FSP951103-056 12 1575 Cauã_Matheus\\n 254  Q0 FSP951127-006 13 1575 Cauã_Matheus\\n 254  Q0 FSP951228-064 14 1575 Cauã_Matheus\\n 254  Q0 FSP951228-081 15 1575 Cauã_Matheus\\n 254  Q0 FSP950211-073 16 1557 Cauã_Matheus\\n 254  Q0 FSP950218-006 17 1557 Cauã_Matheus\\n 254  Q0 FSP950226-087 18 1557 Cauã_Matheus\\n 254  Q0 FSP950604-034 19 1557 Cauã_Matheus\\n 254  Q0 FSP950804-047 20 1557 Cauã_Matheus\\n 254  Q0 FSP950119-037 21 1556 Cauã_Matheus\\n 254  Q0 FSP950702-191 22 1556 Cauã_Matheus\\n 254  Q0 FSP950122-033 23 1552 Cauã_Matheus\\n 254  Q0 FSP950520-029 24 1552 Cauã_Matheus\\n 254  Q0 FSP950520-047 25 1552 Cauã_Matheus\\n 254  Q0 FSP950702-081 26 1552 Cauã_Matheus\\n 254  Q0 FSP950702-189 27 1552 Cauã_Matheus\\n 254  Q0 FSP950929-037 28 1552 Cauã_Matheus\\n 254  Q0 FSP950929-105 29 1552 Cauã_Matheus\\n 254  Q0 FSP951020-071 30 1552 Cauã_Matheus\\n 254  Q0 FSP950118-029 31 1546 Cauã_Matheus\\n 254  Q0 FSP950120-035 32 1546 Cauã_Matheus\\n 254  Q0 FSP950121-047 33 1546 Cauã_Matheus\\n 254  Q0 FSP950123-031 34 1546 Cauã_Matheus\\n 254  Q0 FSP950207-032 35 1546 Cauã_Matheus\\n 254  Q0 FSP950207-037 36 1546 Cauã_Matheus\\n 254  Q0 FSP950305-100 37 1546 Cauã_Matheus\\n 254  Q0 FSP950314-112 38 1546 Cauã_Matheus\\n 254  Q0 FSP950319-081 39 1546 Cauã_Matheus\\n 254  Q0 FSP950319-082 40 1546 Cauã_Matheus\\n 254  Q0 FSP950319-118 41 1546 Cauã_Matheus\\n 254  Q0 FSP950319-212 42 1546 Cauã_Matheus\\n 254  Q0 FSP950401-096 43 1546 Cauã_Matheus\\n 254  Q0 FSP950517-010 44 1546 Cauã_Matheus\\n 254  Q0 FSP950614-100 45 1546 Cauã_Matheus\\n 254  Q0 FSP950623-045 46 1546 Cauã_Matheus\\n 254  Q0 FSP950715-070 47 1546 Cauã_Matheus\\n 254  Q0 FSP950802-050 48 1546 Cauã_Matheus\\n 254  Q0 FSP950804-012 49 1546 Cauã_Matheus\\n 254  Q0 FSP950806-025 50 1546 Cauã_Matheus\\n 254  Q0 FSP950806-165 51 1546 Cauã_Matheus\\n 254  Q0 FSP950808-033 52 1546 Cauã_Matheus\\n 254  Q0 FSP950808-045 53 1546 Cauã_Matheus\\n 254  Q0 FSP950812-097 54 1546 Cauã_Matheus\\n 254  Q0 FSP950818-060 55 1546 Cauã_Matheus\\n 254  Q0 FSP950819-082 56 1546 Cauã_Matheus\\n 254  Q0 FSP950910-109 57 1546 Cauã_Matheus\\n 254  Q0 FSP950912-075 58 1546 Cauã_Matheus\\n 254  Q0 FSP950912-096 59 1546 Cauã_Matheus\\n 254  Q0 FSP950912-109 60 1546 Cauã_Matheus\\n 254  Q0 FSP950916-040 61 1546 Cauã_Matheus\\n 254  Q0 FSP950917-093 62 1546 Cauã_Matheus\\n 254  Q0 FSP950921-036 63 1546 Cauã_Matheus\\n 254  Q0 FSP950923-070 64 1546 Cauã_Matheus\\n 254  Q0 FSP950929-078 65 1546 Cauã_Matheus\\n 254  Q0 FSP951010-045 66 1546 Cauã_Matheus\\n 254  Q0 FSP951010-075 67 1546 Cauã_Matheus\\n 254  Q0 FSP951018-100 68 1546 Cauã_Matheus\\n 254  Q0 FSP951021-075 69 1546 Cauã_Matheus\\n 254  Q0 FSP951023-066 70 1546 Cauã_Matheus\\n 254  Q0 FSP951104-072 71 1546 Cauã_Matheus\\n 254  Q0 FSP951111-078 72 1546 Cauã_Matheus\\n 254  Q0 FSP951113-059 73 1546 Cauã_Matheus\\n 254  Q0 FSP951201-099 74 1546 Cauã_Matheus\\n 254  Q0 FSP951218-066 75 1546 Cauã_Matheus\\n 254  Q0 FSP951231-108 76 1546 Cauã_Matheus\\n 254  Q0 FSP950104-028 77 1542 Cauã_Matheus\\n 254  Q0 FSP950108-150 78 1542 Cauã_Matheus\\n 254  Q0 FSP950114-086 79 1542 Cauã_Matheus\\n 254  Q0 FSP950123-086 80 1542 Cauã_Matheus\\n 254  Q0 FSP950125-021 81 1542 Cauã_Matheus\\n 254  Q0 FSP950126-038 82 1542 Cauã_Matheus\\n 254  Q0 FSP950126-061 83 1542 Cauã_Matheus\\n 254  Q0 FSP950126-085 84 1542 Cauã_Matheus\\n 254  Q0 FSP950202-093 85 1542 Cauã_Matheus\\n 254  Q0 FSP950204-067 86 1542 Cauã_Matheus\\n 254  Q0 FSP950208-088 87 1542 Cauã_Matheus\\n 254  Q0 FSP950213-023 88 1542 Cauã_Matheus\\n 254  Q0 FSP950226-059 89 1542 Cauã_Matheus\\n 254  Q0 FSP950227-053 90 1542 Cauã_Matheus\\n 254  Q0 FSP950228-055 91 1542 Cauã_Matheus\\n 254  Q0 FSP950305-122 92 1542 Cauã_Matheus\\n 254  Q0 FSP950314-075 93 1542 Cauã_Matheus\\n 254  Q0 FSP950319-151 94 1542 Cauã_Matheus\\n 254  Q0 FSP950321-064 95 1542 Cauã_Matheus\\n 254  Q0 FSP950322-107 96 1542 Cauã_Matheus\\n 254  Q0 FSP950326-152 97 1542 Cauã_Matheus\\n 254  Q0 FSP950401-006 98 1542 Cauã_Matheus\\n 254  Q0 FSP950403-082 99 1542 Cauã_Matheus\\n 255  Q0 FSP951129-136 0 1665 Cauã_Matheus\\n 255  Q0 FSP951106-099 1 1652 Cauã_Matheus\\n 255  Q0 FSP950405-147 2 1644 Cauã_Matheus\\n 255  Q0 FSP950516-100 3 1644 Cauã_Matheus\\n 255  Q0 FSP950404-103 4 1640 Cauã_Matheus\\n 255  Q0 FSP950510-123 5 1626 Cauã_Matheus\\n 255  Q0 FSP950205-101 6 1611 Cauã_Matheus\\n 255  Q0 FSP950321-096 7 1611 Cauã_Matheus\\n 255  Q0 FSP951224-049 8 1610 Cauã_Matheus\\n 255  Q0 FSP950110-082 9 1603 Cauã_Matheus\\n 255  Q0 FSP950110-098 10 1603 Cauã_Matheus\\n 255  Q0 FSP950321-089 11 1603 Cauã_Matheus\\n 255  Q0 FSP951201-091 12 1603 Cauã_Matheus\\n 255  Q0 FSP951218-052 13 1603 Cauã_Matheus\\n 255  Q0 FSP950425-028 14 1594 Cauã_Matheus\\n 255  Q0 FSP950413-122 15 1592 Cauã_Matheus\\n 255  Q0 FSP951231-177 16 1592 Cauã_Matheus\\n 255  Q0 FSP950109-004 17 1590 Cauã_Matheus\\n 255  Q0 FSP950214-074 18 1590 Cauã_Matheus\\n 255  Q0 FSP950320-049 19 1590 Cauã_Matheus\\n 255  Q0 FSP950321-010 20 1590 Cauã_Matheus\\n 255  Q0 FSP950424-088 21 1590 Cauã_Matheus\\n 255  Q0 FSP950425-082 22 1590 Cauã_Matheus\\n 255  Q0 FSP950730-002 23 1590 Cauã_Matheus\\n 255  Q0 FSP950801-151 24 1590 Cauã_Matheus\\n 255  Q0 FSP950902-080 25 1590 Cauã_Matheus\\n 255  Q0 FSP951123-169 26 1590 Cauã_Matheus\\n 255  Q0 FSP950122-122 27 1589 Cauã_Matheus\\n 255  Q0 FSP950416-139 28 1589 Cauã_Matheus\\n 255  Q0 FSP950215-147 29 1588 Cauã_Matheus\\n 255  Q0 FSP950411-122 30 1588 Cauã_Matheus\\n 255  Q0 FSP950704-104 31 1588 Cauã_Matheus\\n 255  Q0 FSP950816-147 32 1588 Cauã_Matheus\\n 255  Q0 FSP950822-113 33 1588 Cauã_Matheus\\n 255  Q0 FSP950413-184 34 1587 Cauã_Matheus\\n 255  Q0 FSP950719-115 35 1587 Cauã_Matheus\\n 255  Q0 FSP950131-122 36 1586 Cauã_Matheus\\n 255  Q0 FSP950328-141 37 1586 Cauã_Matheus\\n 255  Q0 FSP950425-115 38 1586 Cauã_Matheus\\n 255  Q0 FSP950426-149 39 1586 Cauã_Matheus\\n 255  Q0 FSP950509-104 40 1586 Cauã_Matheus\\n 255  Q0 FSP950711-116 41 1586 Cauã_Matheus\\n 255  Q0 FSP950723-085 42 1586 Cauã_Matheus\\n 255  Q0 FSP950731-042 43 1586 Cauã_Matheus\\n 255  Q0 FSP950801-114 44 1586 Cauã_Matheus\\n 255  Q0 FSP950801-150 45 1586 Cauã_Matheus\\n 255  Q0 FSP950907-109 46 1586 Cauã_Matheus\\n 255  Q0 FSP951003-108 47 1586 Cauã_Matheus\\n 255  Q0 FSP951018-144 48 1586 Cauã_Matheus\\n 255  Q0 FSP951022-134 49 1586 Cauã_Matheus\\n 255  Q0 FSP950207-115 50 1585 Cauã_Matheus\\n 255  Q0 FSP950412-130 51 1585 Cauã_Matheus\\n 255  Q0 FSP950502-092 52 1585 Cauã_Matheus\\n 255  Q0 FSP950606-112 53 1585 Cauã_Matheus\\n 255  Q0 FSP950613-106 54 1585 Cauã_Matheus\\n 255  Q0 FSP950628-104 55 1585 Cauã_Matheus\\n 255  Q0 FSP950629-106 56 1585 Cauã_Matheus\\n 255  Q0 FSP950711-089 57 1585 Cauã_Matheus\\n 255  Q0 FSP950808-107 58 1585 Cauã_Matheus\\n 255  Q0 FSP950815-114 59 1585 Cauã_Matheus\\n 255  Q0 FSP951105-163 60 1585 Cauã_Matheus\\n 255  Q0 FSP950216-152 61 1584 Cauã_Matheus\\n 255  Q0 FSP950329-170 62 1584 Cauã_Matheus\\n 255  Q0 FSP950419-146 63 1584 Cauã_Matheus\\n 255  Q0 FSP950503-037 64 1584 Cauã_Matheus\\n 255  Q0 FSP950517-142 65 1584 Cauã_Matheus\\n 255  Q0 FSP950531-122 66 1584 Cauã_Matheus\\n 255  Q0 FSP950614-150 67 1584 Cauã_Matheus\\n 255  Q0 FSP950618-026 68 1584 Cauã_Matheus\\n 255  Q0 FSP950719-134 69 1584 Cauã_Matheus\\n 255  Q0 FSP950725-111 70 1584 Cauã_Matheus\\n 255  Q0 FSP950801-149 71 1584 Cauã_Matheus\\n 255  Q0 FSP950919-118 72 1584 Cauã_Matheus\\n 255  Q0 FSP950920-125 73 1584 Cauã_Matheus\\n 255  Q0 FSP951105-164 74 1584 Cauã_Matheus\\n 255  Q0 FSP951121-134 75 1584 Cauã_Matheus\\n 255  Q0 FSP951129-142 76 1584 Cauã_Matheus\\n 255  Q0 FSP951226-098 77 1584 Cauã_Matheus\\n 255  Q0 FSP951231-179 78 1584 Cauã_Matheus\\n 255  Q0 FSP951231-180 79 1584 Cauã_Matheus\\n 255  Q0 FSP950208-138 80 1582 Cauã_Matheus\\n 255  Q0 FSP950307-106 81 1582 Cauã_Matheus\\n 255  Q0 FSP950423-051 82 1582 Cauã_Matheus\\n 255  Q0 FSP950518-097 83 1582 Cauã_Matheus\\n 255  Q0 FSP950531-121 84 1582 Cauã_Matheus\\n 255  Q0 FSP950627-099 85 1582 Cauã_Matheus\\n 255  Q0 FSP950630-028 86 1582 Cauã_Matheus\\n 255  Q0 FSP950704-105 87 1582 Cauã_Matheus\\n 255  Q0 FSP950718-099 88 1582 Cauã_Matheus\\n 255  Q0 FSP950723-145 89 1582 Cauã_Matheus\\n 255  Q0 FSP950802-112 90 1582 Cauã_Matheus\\n 255  Q0 FSP950920-128 91 1582 Cauã_Matheus\\n 255  Q0 FSP950928-129 92 1582 Cauã_Matheus\\n 255  Q0 FSP951011-132 93 1582 Cauã_Matheus\\n 255  Q0 FSP951212-127 94 1582 Cauã_Matheus\\n 255  Q0 FSP951231-178 95 1582 Cauã_Matheus\\n 255  Q0 FSP950117-113 96 1580 Cauã_Matheus\\n 255  Q0 FSP950208-135 97 1580 Cauã_Matheus\\n 255  Q0 FSP950208-136 98 1580 Cauã_Matheus\\n 255  Q0 FSP950208-140 99 1580 Cauã_Matheus\\n 257  Q0 FSP950820-125 0 1621 Cauã_Matheus\\n 257  Q0 FSP951122-051 1 1603 Cauã_Matheus\\n 257  Q0 FSP950129-098 2 1598 Cauã_Matheus\\n 257  Q0 FSP950507-040 3 1597 Cauã_Matheus\\n 257  Q0 FSP950713-042 4 1597 Cauã_Matheus\\n 257  Q0 FSP950714-040 5 1597 Cauã_Matheus\\n 257  Q0 FSP950722-003 6 1586 Cauã_Matheus\\n 257  Q0 FSP950913-058 7 1586 Cauã_Matheus\\n 257  Q0 FSP950326-104 8 1580 Cauã_Matheus\\n 257  Q0 FSP951001-157 9 1580 Cauã_Matheus\\n 257  Q0 FSP950130-011 10 1577 Cauã_Matheus\\n 257  Q0 FSP950316-139 11 1577 Cauã_Matheus\\n 257  Q0 FSP950525-106 12 1577 Cauã_Matheus\\n 257  Q0 FSP950716-112 13 1577 Cauã_Matheus\\n 257  Q0 FSP951020-119 14 1577 Cauã_Matheus\\n 257  Q0 FSP950319-124 15 1575 Cauã_Matheus\\n 257  Q0 FSP950212-115 16 1571 Cauã_Matheus\\n 257  Q0 FSP950226-094 17 1571 Cauã_Matheus\\n 257  Q0 FSP950525-046 18 1571 Cauã_Matheus\\n 257  Q0 FSP950525-050 19 1571 Cauã_Matheus\\n 257  Q0 FSP950608-003 20 1571 Cauã_Matheus\\n 257  Q0 FSP950613-055 21 1571 Cauã_Matheus\\n 257  Q0 FSP950712-044 22 1571 Cauã_Matheus\\n 257  Q0 FSP950713-041 23 1571 Cauã_Matheus\\n 257  Q0 FSP950715-047 24 1571 Cauã_Matheus\\n 257  Q0 FSP950716-050 25 1571 Cauã_Matheus\\n 257  Q0 FSP950719-046 26 1571 Cauã_Matheus\\n 257  Q0 FSP950720-049 27 1571 Cauã_Matheus\\n 257  Q0 FSP950721-049 28 1571 Cauã_Matheus\\n 257  Q0 FSP950721-050 29 1571 Cauã_Matheus\\n 257  Q0 FSP950723-043 30 1571 Cauã_Matheus\\n 257  Q0 FSP950723-044 31 1571 Cauã_Matheus\\n 257  Q0 FSP950726-049 32 1571 Cauã_Matheus\\n 257  Q0 FSP950729-052 33 1571 Cauã_Matheus\\n 257  Q0 FSP950801-004 34 1571 Cauã_Matheus\\n 257  Q0 FSP950802-005 35 1571 Cauã_Matheus\\n 257  Q0 FSP950805-008 36 1571 Cauã_Matheus\\n 257  Q0 FSP950805-053 37 1571 Cauã_Matheus\\n 257  Q0 FSP950818-076 38 1571 Cauã_Matheus\\n 257  Q0 FSP950820-197 39 1571 Cauã_Matheus\\n 257  Q0 FSP950824-013 40 1571 Cauã_Matheus\\n 257  Q0 FSP950827-056 41 1571 Cauã_Matheus\\n 257  Q0 FSP950828-034 42 1571 Cauã_Matheus\\n 257  Q0 FSP950829-045 43 1571 Cauã_Matheus\\n 257  Q0 FSP950902-055 44 1571 Cauã_Matheus\\n 257  Q0 FSP951023-043 45 1571 Cauã_Matheus\\n 257  Q0 FSP951126-046 46 1571 Cauã_Matheus\\n 257  Q0 FSP951215-059 47 1571 Cauã_Matheus\\n 257  Q0 FSP951215-065 48 1571 Cauã_Matheus\\n 257  Q0 FSP950605-125 49 1569 Cauã_Matheus\\n 257  Q0 FSP951126-095 50 1569 Cauã_Matheus\\n 257  Q0 FSP950108-095 51 1566 Cauã_Matheus\\n 257  Q0 FSP950507-122 52 1566 Cauã_Matheus\\n 257  Q0 FSP950827-153 53 1566 Cauã_Matheus\\n 257  Q0 FSP951109-093 54 1566 Cauã_Matheus\\n 257  Q0 FSP950723-142 55 1564 Cauã_Matheus\\n 257  Q0 FSP950212-120 56 1561 Cauã_Matheus\\n 257  Q0 FSP951111-069 57 1561 Cauã_Matheus\\n 257  Q0 FSP950101-085 58 1557 Cauã_Matheus\\n 257  Q0 FSP950130-045 59 1557 Cauã_Matheus\\n 257  Q0 FSP950212-117 60 1557 Cauã_Matheus\\n 257  Q0 FSP950305-105 61 1557 Cauã_Matheus\\n 257  Q0 FSP950312-108 62 1557 Cauã_Matheus\\n 257  Q0 FSP950426-068 63 1557 Cauã_Matheus\\n 257  Q0 FSP950507-139 64 1557 Cauã_Matheus\\n 257  Q0 FSP950611-155 65 1557 Cauã_Matheus\\n 257  Q0 FSP950715-086 66 1557 Cauã_Matheus\\n 257  Q0 FSP950809-056 67 1557 Cauã_Matheus\\n 257  Q0 FSP950830-138 68 1557 Cauã_Matheus\\n 257  Q0 FSP951001-168 69 1557 Cauã_Matheus\\n 257  Q0 FSP951005-106 70 1557 Cauã_Matheus\\n 257  Q0 FSP951103-105 71 1557 Cauã_Matheus\\n 257  Q0 FSP951105-151 72 1557 Cauã_Matheus\\n 257  Q0 FSP950331-043 73 1556 Cauã_Matheus\\n 257  Q0 FSP950401-051 74 1556 Cauã_Matheus\\n 257  Q0 FSP950403-111 75 1556 Cauã_Matheus\\n 257  Q0 FSP950512-099 76 1556 Cauã_Matheus\\n 257  Q0 FSP950827-010 77 1556 Cauã_Matheus\\n 257  Q0 FSP950829-010 78 1556 Cauã_Matheus\\n 257  Q0 FSP950910-134 79 1556 Cauã_Matheus\\n 257  Q0 FSP951010-107 80 1556 Cauã_Matheus\\n 257  Q0 FSP951012-134 81 1556 Cauã_Matheus\\n 257  Q0 FSP951030-011 82 1556 Cauã_Matheus\\n 257  Q0 FSP951119-114 83 1556 Cauã_Matheus\\n 257  Q0 FSP951222-112 84 1556 Cauã_Matheus\\n 257  Q0 FSP951224-139 85 1553 Cauã_Matheus\\n 257  Q0 FSP950407-066 86 1550 Cauã_Matheus\\n 257  Q0 FSP950411-070 87 1550 Cauã_Matheus\\n 257  Q0 FSP950808-122 88 1550 Cauã_Matheus\\n 257  Q0 FSP950101-082 89 1549 Cauã_Matheus\\n 257  Q0 FSP950122-130 90 1549 Cauã_Matheus\\n 257  Q0 FSP950204-020 91 1549 Cauã_Matheus\\n 257  Q0 FSP950212-119 92 1549 Cauã_Matheus\\n 257  Q0 FSP950312-158 93 1549 Cauã_Matheus\\n 257  Q0 FSP950313-012 94 1549 Cauã_Matheus\\n 257  Q0 FSP950331-053 95 1549 Cauã_Matheus\\n 257  Q0 FSP950402-128 96 1549 Cauã_Matheus\\n 257  Q0 FSP950402-129 97 1549 Cauã_Matheus\\n 257  Q0 FSP950402-238 98 1549 Cauã_Matheus\\n 257  Q0 FSP950416-203 99 1549 Cauã_Matheus\\n 258  Q0 FSP950624-064 0 1550 Cauã_Matheus\\n 258  Q0 FSP950619-040 1 1547 Cauã_Matheus\\n 258  Q0 FSP950622-046 2 1547 Cauã_Matheus\\n 258  Q0 FSP950827-121 3 1547 Cauã_Matheus\\n 258  Q0 FSP950307-128 4 1545 Cauã_Matheus\\n 258  Q0 FSP950512-091 5 1545 Cauã_Matheus\\n 258  Q0 FSP950821-048 6 1545 Cauã_Matheus\\n 258  Q0 FSP950926-069 7 1545 Cauã_Matheus\\n 258  Q0 FSP951021-078 8 1545 Cauã_Matheus\\n 258  Q0 FSP950131-014 9 1542 Cauã_Matheus\\n 258  Q0 FSP950305-084 10 1542 Cauã_Matheus\\n 258  Q0 FSP950312-043 11 1542 Cauã_Matheus\\n 258  Q0 FSP950316-077 12 1542 Cauã_Matheus\\n 258  Q0 FSP950403-152 13 1542 Cauã_Matheus\\n 258  Q0 FSP950405-081 14 1542 Cauã_Matheus\\n 258  Q0 FSP950409-086 15 1542 Cauã_Matheus\\n 258  Q0 FSP950423-133 16 1542 Cauã_Matheus\\n 258  Q0 FSP950429-068 17 1542 Cauã_Matheus\\n 258  Q0 FSP950512-082 18 1542 Cauã_Matheus\\n 258  Q0 FSP950517-089 19 1542 Cauã_Matheus\\n 258  Q0 FSP950708-030 20 1542 Cauã_Matheus\\n 258  Q0 FSP950723-139 21 1542 Cauã_Matheus\\n 258  Q0 FSP950815-012 22 1542 Cauã_Matheus\\n 258  Q0 FSP950903-077 23 1542 Cauã_Matheus\\n 258  Q0 FSP950907-068 24 1542 Cauã_Matheus\\n 258  Q0 FSP950916-066 25 1542 Cauã_Matheus\\n 258  Q0 FSP950917-069 26 1542 Cauã_Matheus\\n 258  Q0 FSP951023-136 27 1542 Cauã_Matheus\\n 258  Q0 FSP951107-023 28 1542 Cauã_Matheus\\n 258  Q0 FSP950101-029 29 1536 Cauã_Matheus\\n 258  Q0 FSP950104-001 30 1536 Cauã_Matheus\\n 258  Q0 FSP950110-122 31 1536 Cauã_Matheus\\n 258  Q0 FSP950113-034 32 1536 Cauã_Matheus\\n 258  Q0 FSP950115-094 33 1536 Cauã_Matheus\\n 258  Q0 FSP950119-037 34 1536 Cauã_Matheus\\n 258  Q0 FSP950119-058 35 1536 Cauã_Matheus\\n 258  Q0 FSP950122-007 36 1536 Cauã_Matheus\\n 258  Q0 FSP950123-009 37 1536 Cauã_Matheus\\n 258  Q0 FSP950123-094 38 1536 Cauã_Matheus\\n 258  Q0 FSP950124-017 39 1536 Cauã_Matheus\\n 258  Q0 FSP950128-010 40 1536 Cauã_Matheus\\n 258  Q0 FSP950130-043 41 1536 Cauã_Matheus\\n 258  Q0 FSP950204-014 42 1536 Cauã_Matheus\\n 258  Q0 FSP950205-015 43 1536 Cauã_Matheus\\n 258  Q0 FSP950205-026 44 1536 Cauã_Matheus\\n 258  Q0 FSP950206-106 45 1536 Cauã_Matheus\\n 258  Q0 FSP950214-008 46 1536 Cauã_Matheus\\n 258  Q0 FSP950220-009 47 1536 Cauã_Matheus\\n 258  Q0 FSP950222-113 48 1536 Cauã_Matheus\\n 258  Q0 FSP950223-040 49 1536 Cauã_Matheus\\n 258  Q0 FSP950225-018 50 1536 Cauã_Matheus\\n 258  Q0 FSP950307-006 51 1536 Cauã_Matheus\\n 258  Q0 FSP950307-131 52 1536 Cauã_Matheus\\n 258  Q0 FSP950307-141 53 1536 Cauã_Matheus\\n 258  Q0 FSP950308-037 54 1536 Cauã_Matheus\\n 258  Q0 FSP950308-136 55 1536 Cauã_Matheus\\n 258  Q0 FSP950311-060 56 1536 Cauã_Matheus\\n 258  Q0 FSP950312-039 57 1536 Cauã_Matheus\\n 258  Q0 FSP950312-099 58 1536 Cauã_Matheus\\n 258  Q0 FSP950319-060 59 1536 Cauã_Matheus\\n 258  Q0 FSP950321-010 60 1536 Cauã_Matheus\\n 258  Q0 FSP950326-010 61 1536 Cauã_Matheus\\n 258  Q0 FSP950326-087 62 1536 Cauã_Matheus\\n 258  Q0 FSP950327-050 63 1536 Cauã_Matheus\\n 258  Q0 FSP950329-076 64 1536 Cauã_Matheus\\n 258  Q0 FSP950401-077 65 1536 Cauã_Matheus\\n 258  Q0 FSP950402-081 66 1536 Cauã_Matheus\\n 258  Q0 FSP950403-100 67 1536 Cauã_Matheus\\n 258  Q0 FSP950405-061 68 1536 Cauã_Matheus\\n 258  Q0 FSP950409-145 69 1536 Cauã_Matheus\\n 258  Q0 FSP950423-131 70 1536 Cauã_Matheus\\n 258  Q0 FSP950424-082 71 1536 Cauã_Matheus\\n 258  Q0 FSP950427-026 72 1536 Cauã_Matheus\\n 258  Q0 FSP950429-050 73 1536 Cauã_Matheus\\n 258  Q0 FSP950430-084 74 1536 Cauã_Matheus\\n 258  Q0 FSP950510-120 75 1536 Cauã_Matheus\\n 258  Q0 FSP950511-001 76 1536 Cauã_Matheus\\n 258  Q0 FSP950511-096 77 1536 Cauã_Matheus\\n 258  Q0 FSP950521-058 78 1536 Cauã_Matheus\\n 258  Q0 FSP950521-150 79 1536 Cauã_Matheus\\n 258  Q0 FSP950522-058 80 1536 Cauã_Matheus\\n 258  Q0 FSP950528-103 81 1536 Cauã_Matheus\\n 258  Q0 FSP950531-106 82 1536 Cauã_Matheus\\n 258  Q0 FSP950608-009 83 1536 Cauã_Matheus\\n 258  Q0 FSP950611-021 84 1536 Cauã_Matheus\\n 258  Q0 FSP950611-151 85 1536 Cauã_Matheus\\n 258  Q0 FSP950613-083 86 1536 Cauã_Matheus\\n 258  Q0 FSP950618-136 87 1536 Cauã_Matheus\\n 258  Q0 FSP950619-002 88 1536 Cauã_Matheus\\n 258  Q0 FSP950619-064 89 1536 Cauã_Matheus\\n 258  Q0 FSP950622-058 90 1536 Cauã_Matheus\\n 258  Q0 FSP950625-019 91 1536 Cauã_Matheus\\n 258  Q0 FSP950702-064 92 1536 Cauã_Matheus\\n 258  Q0 FSP950702-120 93 1536 Cauã_Matheus\\n 258  Q0 FSP950704-018 94 1536 Cauã_Matheus\\n 258  Q0 FSP950709-028 95 1536 Cauã_Matheus\\n 258  Q0 FSP950713-058 96 1536 Cauã_Matheus\\n 258  Q0 FSP950716-060 97 1536 Cauã_Matheus\\n 258  Q0 FSP950718-086 98 1536 Cauã_Matheus\\n 258  Q0 FSP950721-024 99 1536 Cauã_Matheus\\n 259  Q0 FSP950217-131 0 1651 Cauã_Matheus\\n 259  Q0 FSP950119-105 1 1650 Cauã_Matheus\\n 259  Q0 FSP950221-128 2 1650 Cauã_Matheus\\n 259  Q0 FSP950215-122 3 1636 Cauã_Matheus\\n 259  Q0 FSP950312-142 4 1636 Cauã_Matheus\\n 259  Q0 FSP951104-104 5 1632 Cauã_Matheus\\n 259  Q0 FSP950210-007 6 1620 Cauã_Matheus\\n 259  Q0 FSP950406-080 7 1620 Cauã_Matheus\\n 259  Q0 FSP950708-072 8 1611 Cauã_Matheus\\n 259  Q0 FSP951102-030 9 1611 Cauã_Matheus\\n 259  Q0 FSP950113-091 10 1609 Cauã_Matheus\\n 259  Q0 FSP950220-105 11 1609 Cauã_Matheus\\n 259  Q0 FSP950222-110 12 1609 Cauã_Matheus\\n 259  Q0 FSP950320-100 13 1609 Cauã_Matheus\\n 259  Q0 FSP950511-115 14 1609 Cauã_Matheus\\n 259  Q0 FSP950704-113 15 1609 Cauã_Matheus\\n 259  Q0 FSP950812-117 16 1609 Cauã_Matheus\\n 259  Q0 FSP951018-154 17 1609 Cauã_Matheus\\n 259  Q0 FSP951031-104 18 1609 Cauã_Matheus\\n 259  Q0 FSP951207-127 19 1609 Cauã_Matheus\\n 259  Q0 FSP950109-072 20 1597 Cauã_Matheus\\n 259  Q0 FSP950528-082 21 1597 Cauã_Matheus\\n 259  Q0 FSP951119-173 22 1597 Cauã_Matheus\\n 259  Q0 FSP950807-035 23 1580 Cauã_Matheus\\n 259  Q0 FSP951002-037 24 1579 Cauã_Matheus\\n 259  Q0 FSP950326-103 25 1577 Cauã_Matheus\\n 259  Q0 FSP950921-109 26 1576 Cauã_Matheus\\n 259  Q0 FSP951013-087 27 1575 Cauã_Matheus\\n 259  Q0 FSP950105-066 28 1574 Cauã_Matheus\\n 259  Q0 FSP950114-054 29 1573 Cauã_Matheus\\n 259  Q0 FSP951201-115 30 1573 Cauã_Matheus\\n 259  Q0 FSP951201-118 31 1573 Cauã_Matheus\\n 259  Q0 FSP950324-117 32 1571 Cauã_Matheus\\n 259  Q0 FSP950327-089 33 1571 Cauã_Matheus\\n 259  Q0 FSP950403-156 34 1571 Cauã_Matheus\\n 259  Q0 FSP950507-056 35 1571 Cauã_Matheus\\n 259  Q0 FSP950527-074 36 1571 Cauã_Matheus\\n 259  Q0 FSP950527-081 37 1571 Cauã_Matheus\\n 259  Q0 FSP950904-085 38 1571 Cauã_Matheus\\n 259  Q0 FSP950102-031 39 1570 Cauã_Matheus\\n 259  Q0 FSP950129-133 40 1570 Cauã_Matheus\\n 259  Q0 FSP950211-100 41 1570 Cauã_Matheus\\n 259  Q0 FSP950211-102 42 1570 Cauã_Matheus\\n 259  Q0 FSP950213-105 43 1570 Cauã_Matheus\\n 259  Q0 FSP950216-123 44 1570 Cauã_Matheus\\n 259  Q0 FSP950216-128 45 1570 Cauã_Matheus\\n 259  Q0 FSP950217-085 46 1570 Cauã_Matheus\\n 259  Q0 FSP950317-137 47 1570 Cauã_Matheus\\n 259  Q0 FSP950319-166 48 1570 Cauã_Matheus\\n 259  Q0 FSP950323-091 49 1570 Cauã_Matheus\\n 259  Q0 FSP950324-152 50 1570 Cauã_Matheus\\n 259  Q0 FSP950326-078 51 1570 Cauã_Matheus\\n 259  Q0 FSP950330-124 52 1570 Cauã_Matheus\\n 259  Q0 FSP950402-172 53 1570 Cauã_Matheus\\n 259  Q0 FSP950516-108 54 1570 Cauã_Matheus\\n 259  Q0 FSP950703-134 55 1570 Cauã_Matheus\\n 259  Q0 FSP950818-095 56 1570 Cauã_Matheus\\n 259  Q0 FSP950823-124 57 1570 Cauã_Matheus\\n 259  Q0 FSP950825-135 58 1570 Cauã_Matheus\\n 259  Q0 FSP950915-132 59 1570 Cauã_Matheus\\n 259  Q0 FSP950917-105 60 1570 Cauã_Matheus\\n 259  Q0 FSP950924-146 61 1570 Cauã_Matheus\\n 259  Q0 FSP950925-062 62 1570 Cauã_Matheus\\n 259  Q0 FSP950926-080 63 1570 Cauã_Matheus\\n 259  Q0 FSP950926-101 64 1570 Cauã_Matheus\\n 259  Q0 FSP951007-081 65 1570 Cauã_Matheus\\n 259  Q0 FSP951017-117 66 1570 Cauã_Matheus\\n 259  Q0 FSP951026-084 67 1570 Cauã_Matheus\\n 259  Q0 FSP951116-127 68 1570 Cauã_Matheus\\n 259  Q0 FSP951123-124 69 1570 Cauã_Matheus\\n 259  Q0 FSP951123-148 70 1570 Cauã_Matheus\\n 259  Q0 FSP951126-184 71 1570 Cauã_Matheus\\n 259  Q0 FSP951202-078 72 1570 Cauã_Matheus\\n 259  Q0 FSP951220-131 73 1570 Cauã_Matheus\\n 259  Q0 FSP951224-107 74 1570 Cauã_Matheus\\n 259  Q0 FSP950315-123 75 1569 Cauã_Matheus\\n 259  Q0 FSP950318-100 76 1569 Cauã_Matheus\\n 259  Q0 FSP950407-063 77 1569 Cauã_Matheus\\n 259  Q0 FSP950511-098 78 1569 Cauã_Matheus\\n 259  Q0 FSP950520-067 79 1569 Cauã_Matheus\\n 259  Q0 FSP950716-062 80 1569 Cauã_Matheus\\n 259  Q0 FSP951021-014 81 1569 Cauã_Matheus\\n 259  Q0 FSP950207-051 82 1566 Cauã_Matheus\\n 259  Q0 FSP950209-042 83 1566 Cauã_Matheus\\n 259  Q0 FSP950209-075 84 1566 Cauã_Matheus\\n 259  Q0 FSP950211-053 85 1566 Cauã_Matheus\\n 259  Q0 FSP950211-054 86 1566 Cauã_Matheus\\n 259  Q0 FSP950212-115 87 1566 Cauã_Matheus\\n 259  Q0 FSP950218-045 88 1566 Cauã_Matheus\\n 259  Q0 FSP950219-161 89 1566 Cauã_Matheus\\n 259  Q0 FSP950314-066 90 1566 Cauã_Matheus\\n 259  Q0 FSP950317-113 91 1566 Cauã_Matheus\\n 259  Q0 FSP950318-061 92 1566 Cauã_Matheus\\n 259  Q0 FSP950323-117 93 1566 Cauã_Matheus\\n 259  Q0 FSP950324-078 94 1566 Cauã_Matheus\\n 259  Q0 FSP950325-094 95 1566 Cauã_Matheus\\n 259  Q0 FSP950419-077 96 1566 Cauã_Matheus\\n 259  Q0 FSP950604-210 97 1566 Cauã_Matheus\\n 259  Q0 FSP950627-063 98 1566 Cauã_Matheus\\n 259  Q0 FSP950701-036 99 1566 Cauã_Matheus\\n 261  Q0 FSP950221-007 0 1759 Cauã_Matheus\\n 261  Q0 FSP950626-073 1 1711 Cauã_Matheus\\n 261  Q0 FSP950109-006 2 1653 Cauã_Matheus\\n 261  Q0 FSP950120-107 3 1653 Cauã_Matheus\\n 261  Q0 FSP950305-013 4 1653 Cauã_Matheus\\n 261  Q0 FSP950308-003 5 1653 Cauã_Matheus\\n 261  Q0 FSP950314-124 6 1653 Cauã_Matheus\\n 261  Q0 FSP950324-146 7 1653 Cauã_Matheus\\n 261  Q0 FSP950415-093 8 1653 Cauã_Matheus\\n 261  Q0 FSP950423-037 9 1653 Cauã_Matheus\\n 261  Q0 FSP950503-100 10 1653 Cauã_Matheus\\n 261  Q0 FSP950516-100 11 1653 Cauã_Matheus\\n 261  Q0 FSP950518-098 12 1653 Cauã_Matheus\\n 261  Q0 FSP950521-035 13 1653 Cauã_Matheus\\n 261  Q0 FSP950610-113 14 1653 Cauã_Matheus\\n 261  Q0 FSP950612-101 15 1653 Cauã_Matheus\\n 261  Q0 FSP950622-066 16 1653 Cauã_Matheus\\n 261  Q0 FSP950709-176 17 1653 Cauã_Matheus\\n 261  Q0 FSP950728-121 18 1653 Cauã_Matheus\\n 261  Q0 FSP950915-120 19 1653 Cauã_Matheus\\n 261  Q0 FSP950917-132 20 1653 Cauã_Matheus\\n 261  Q0 FSP950917-147 21 1653 Cauã_Matheus\\n 261  Q0 FSP950920-071 22 1653 Cauã_Matheus\\n 261  Q0 FSP950926-119 23 1653 Cauã_Matheus\\n 261  Q0 FSP950928-127 24 1653 Cauã_Matheus\\n 261  Q0 FSP951008-196 25 1653 Cauã_Matheus\\n 261  Q0 FSP951013-101 26 1653 Cauã_Matheus\\n 261  Q0 FSP951018-148 27 1653 Cauã_Matheus\\n 261  Q0 FSP951021-111 28 1653 Cauã_Matheus\\n 261  Q0 FSP951031-097 29 1653 Cauã_Matheus\\n 261  Q0 FSP951109-118 30 1653 Cauã_Matheus\\n 261  Q0 FSP951111-112 31 1653 Cauã_Matheus\\n 261  Q0 FSP951115-119 32 1653 Cauã_Matheus\\n 261  Q0 FSP951219-133 33 1653 Cauã_Matheus\\n 263  Q0 FSP950812-097 0 1610 Cauã_Matheus\\n 263  Q0 FSP950414-083 1 1604 Cauã_Matheus\\n 263  Q0 FSP951220-004 2 1604 Cauã_Matheus\\n 263  Q0 FSP951023-087 3 1595 Cauã_Matheus\\n 263  Q0 FSP950301-074 4 1590 Cauã_Matheus\\n 263  Q0 FSP950324-116 5 1590 Cauã_Matheus\\n 263  Q0 FSP950324-120 6 1590 Cauã_Matheus\\n 263  Q0 FSP950409-190 7 1590 Cauã_Matheus\\n 263  Q0 FSP951225-088 8 1590 Cauã_Matheus\\n 263  Q0 FSP950226-098 9 1587 Cauã_Matheus\\n 263  Q0 FSP950326-079 10 1587 Cauã_Matheus\\n 263  Q0 FSP950115-087 11 1586 Cauã_Matheus\\n 263  Q0 FSP950128-122 12 1585 Cauã_Matheus\\n 263  Q0 FSP950603-070 13 1584 Cauã_Matheus\\n 263  Q0 FSP950802-099 14 1584 Cauã_Matheus\\n 263  Q0 FSP950809-113 15 1584 Cauã_Matheus\\n 263  Q0 FSP951018-120 16 1584 Cauã_Matheus\\n 263  Q0 FSP951204-081 17 1584 Cauã_Matheus\\n 263  Q0 FSP951228-104 18 1584 Cauã_Matheus\\n 263  Q0 FSP950106-106 19 1582 Cauã_Matheus\\n 263  Q0 FSP950329-132 20 1582 Cauã_Matheus\\n 263  Q0 FSP950801-107 21 1582 Cauã_Matheus\\n 263  Q0 FSP950802-095 22 1582 Cauã_Matheus\\n 263  Q0 FSP950904-079 23 1582 Cauã_Matheus\\n 263  Q0 FSP951020-100 24 1582 Cauã_Matheus\\n 263  Q0 FSP950525-012 25 1581 Cauã_Matheus\\n 263  Q0 FSP950603-072 26 1581 Cauã_Matheus\\n 263  Q0 FSP950212-107 27 1580 Cauã_Matheus\\n 263  Q0 FSP950815-103 28 1580 Cauã_Matheus\\n 263  Q0 FSP951018-122 29 1580 Cauã_Matheus\\n 263  Q0 FSP950417-077 30 1579 Cauã_Matheus\\n 263  Q0 FSP950625-117 31 1579 Cauã_Matheus\\n 263  Q0 FSP951106-090 32 1579 Cauã_Matheus\\n 263  Q0 FSP950110-054 33 1578 Cauã_Matheus\\n 263  Q0 FSP950603-071 34 1578 Cauã_Matheus\\n 263  Q0 FSP950721-099 35 1576 Cauã_Matheus\\n 263  Q0 FSP950727-080 36 1576 Cauã_Matheus\\n 263  Q0 FSP950826-010 37 1576 Cauã_Matheus\\n 263  Q0 FSP950926-106 38 1575 Cauã_Matheus\\n 263  Q0 FSP951030-062 39 1575 Cauã_Matheus\\n 263  Q0 FSP951104-065 40 1575 Cauã_Matheus\\n 263  Q0 FSP950125-096 41 1574 Cauã_Matheus\\n 263  Q0 FSP951107-110 42 1574 Cauã_Matheus\\n 263  Q0 FSP950206-003 43 1572 Cauã_Matheus\\n 263  Q0 FSP951220-009 44 1570 Cauã_Matheus\\n 263  Q0 FSP950129-092 45 1569 Cauã_Matheus\\n 263  Q0 FSP950131-113 46 1569 Cauã_Matheus\\n 263  Q0 FSP950309-108 47 1569 Cauã_Matheus\\n 263  Q0 FSP950423-133 48 1569 Cauã_Matheus\\n 263  Q0 FSP951224-083 49 1569 Cauã_Matheus\\n 263  Q0 FSP950614-011 50 1567 Cauã_Matheus\\n 263  Q0 FSP950723-070 51 1567 Cauã_Matheus\\n 263  Q0 FSP950730-007 52 1567 Cauã_Matheus\\n 263  Q0 FSP951013-096 53 1567 Cauã_Matheus\\n 263  Q0 FSP950217-110 54 1566 Cauã_Matheus\\n 263  Q0 FSP950306-068 55 1566 Cauã_Matheus\\n 263  Q0 FSP950320-083 56 1566 Cauã_Matheus\\n 263  Q0 FSP950526-006 57 1566 Cauã_Matheus\\n 263  Q0 FSP950704-094 58 1566 Cauã_Matheus\\n 263  Q0 FSP950731-073 59 1566 Cauã_Matheus\\n 263  Q0 FSP950805-097 60 1566 Cauã_Matheus\\n 263  Q0 FSP950814-107 61 1566 Cauã_Matheus\\n 263  Q0 FSP950911-068 62 1566 Cauã_Matheus\\n 263  Q0 FSP951111-097 63 1566 Cauã_Matheus\\n 263  Q0 FSP951211-085 64 1566 Cauã_Matheus\\n 263  Q0 FSP951212-112 65 1566 Cauã_Matheus\\n 263  Q0 FSP951215-123 66 1566 Cauã_Matheus\\n 263  Q0 FSP950122-081 67 1560 Cauã_Matheus\\n 263  Q0 FSP950325-074 68 1560 Cauã_Matheus\\n 263  Q0 FSP950326-103 69 1560 Cauã_Matheus\\n 263  Q0 FSP950430-166 70 1560 Cauã_Matheus\\n 263  Q0 FSP950514-100 71 1560 Cauã_Matheus\\n 263  Q0 FSP950521-123 72 1560 Cauã_Matheus\\n 263  Q0 FSP950615-013 73 1560 Cauã_Matheus\\n 263  Q0 FSP950724-054 74 1560 Cauã_Matheus\\n 263  Q0 FSP950726-094 75 1560 Cauã_Matheus\\n 263  Q0 FSP951016-088 76 1560 Cauã_Matheus\\n 263  Q0 FSP951020-138 77 1560 Cauã_Matheus\\n 263  Q0 FSP951027-105 78 1560 Cauã_Matheus\\n 263  Q0 FSP950205-042 79 1559 Cauã_Matheus\\n 263  Q0 FSP950514-013 80 1559 Cauã_Matheus\\n 263  Q0 FSP951015-107 81 1559 Cauã_Matheus\\n 263  Q0 FSP950101-051 82 1558 Cauã_Matheus\\n 263  Q0 FSP950217-112 83 1558 Cauã_Matheus\\n 263  Q0 FSP950626-059 84 1558 Cauã_Matheus\\n 263  Q0 FSP950728-094 85 1558 Cauã_Matheus\\n 263  Q0 FSP950817-134 86 1558 Cauã_Matheus\\n 263  Q0 FSP951001-085 87 1558 Cauã_Matheus\\n 263  Q0 FSP951206-009 88 1558 Cauã_Matheus\\n 263  Q0 FSP951231-139 89 1558 Cauã_Matheus\\n 263  Q0 FSP950127-051 90 1551 Cauã_Matheus\\n 263  Q0 FSP950131-021 91 1551 Cauã_Matheus\\n 263  Q0 FSP950201-021 92 1551 Cauã_Matheus\\n 263  Q0 FSP950201-032 93 1551 Cauã_Matheus\\n 263  Q0 FSP950205-041 94 1551 Cauã_Matheus\\n 263  Q0 FSP950314-056 95 1551 Cauã_Matheus\\n 263  Q0 FSP950323-117 96 1551 Cauã_Matheus\\n 263  Q0 FSP950324-117 97 1551 Cauã_Matheus\\n 263  Q0 FSP950420-117 98 1551 Cauã_Matheus\\n 263  Q0 FSP950507-167 99 1551 Cauã_Matheus\\n 264  Q0 FSP950618-079 0 1658 Cauã_Matheus\\n 264  Q0 FSP950416-045 1 1626 Cauã_Matheus\\n 264  Q0 FSP951113-012 2 1618 Cauã_Matheus\\n 264  Q0 FSP950704-027 3 1592 Cauã_Matheus\\n 264  Q0 FSP950814-031 4 1589 Cauã_Matheus\\n 264  Q0 FSP950704-040 5 1587 Cauã_Matheus\\n 264  Q0 FSP950331-032 6 1586 Cauã_Matheus\\n 264  Q0 FSP950509-090 7 1586 Cauã_Matheus\\n 264  Q0 FSP950824-088 8 1586 Cauã_Matheus\\n 264  Q0 FSP950417-040 9 1585 Cauã_Matheus\\n 264  Q0 FSP950824-108 10 1584 Cauã_Matheus\\n 264  Q0 FSP950117-061 11 1579 Cauã_Matheus\\n 264  Q0 FSP950518-035 12 1579 Cauã_Matheus\\n 264  Q0 FSP950518-040 13 1579 Cauã_Matheus\\n 264  Q0 FSP950814-025 14 1579 Cauã_Matheus\\n 264  Q0 FSP951227-002 15 1579 Cauã_Matheus\\n 264  Q0 FSP951228-062 16 1579 Cauã_Matheus\\n 264  Q0 FSP950316-083 17 1574 Cauã_Matheus\\n 264  Q0 FSP950422-058 18 1574 Cauã_Matheus\\n 264  Q0 FSP950422-061 19 1574 Cauã_Matheus\\n 264  Q0 FSP950618-037 20 1574 Cauã_Matheus\\n 264  Q0 FSP950427-104 21 1571 Cauã_Matheus\\n 264  Q0 FSP951128-004 22 1571 Cauã_Matheus\\n 264  Q0 FSP951212-008 23 1571 Cauã_Matheus\\n 264  Q0 FSP951007-110 24 1567 Cauã_Matheus\\n 264  Q0 FSP951104-067 25 1567 Cauã_Matheus\\n 264  Q0 FSP951116-050 26 1567 Cauã_Matheus\\n 264  Q0 FSP950304-027 27 1564 Cauã_Matheus\\n 264  Q0 FSP950305-027 28 1564 Cauã_Matheus\\n 264  Q0 FSP950718-034 29 1564 Cauã_Matheus\\n 264  Q0 FSP951218-009 30 1564 Cauã_Matheus\\n 264  Q0 FSP950102-050 31 1562 Cauã_Matheus\\n 264  Q0 FSP950505-057 32 1562 Cauã_Matheus\\n 264  Q0 FSP950630-003 33 1562 Cauã_Matheus\\n 264  Q0 FSP951114-025 34 1562 Cauã_Matheus\\n 264  Q0 FSP951126-173 35 1562 Cauã_Matheus\\n 264  Q0 FSP951016-035 36 1561 Cauã_Matheus\\n 264  Q0 FSP950126-065 37 1555 Cauã_Matheus\\n 264  Q0 FSP950430-184 38 1555 Cauã_Matheus\\n 264  Q0 FSP950507-061 39 1555 Cauã_Matheus\\n 264  Q0 FSP950601-082 40 1555 Cauã_Matheus\\n 264  Q0 FSP950603-009 41 1555 Cauã_Matheus\\n 264  Q0 FSP950623-075 42 1555 Cauã_Matheus\\n 264  Q0 FSP950629-008 43 1555 Cauã_Matheus\\n 264  Q0 FSP950629-082 44 1555 Cauã_Matheus\\n 264  Q0 FSP950629-122 45 1555 Cauã_Matheus\\n 264  Q0 FSP950717-005 46 1555 Cauã_Matheus\\n 264  Q0 FSP950721-077 47 1555 Cauã_Matheus\\n 264  Q0 FSP950803-106 48 1555 Cauã_Matheus\\n 264  Q0 FSP950806-069 49 1555 Cauã_Matheus\\n 264  Q0 FSP950816-070 50 1555 Cauã_Matheus\\n 264  Q0 FSP951009-054 51 1555 Cauã_Matheus\\n 264  Q0 FSP951109-048 52 1555 Cauã_Matheus\\n 264  Q0 FSP951114-064 53 1555 Cauã_Matheus\\n 264  Q0 FSP951124-008 54 1555 Cauã_Matheus\\n 264  Q0 FSP950624-082 55 1550 Cauã_Matheus\\n 264  Q0 FSP950711-100 56 1550 Cauã_Matheus\\n 264  Q0 FSP950627-086 57 1549 Cauã_Matheus\\n 264  Q0 FSP951130-025 58 1548 Cauã_Matheus\\n 264  Q0 FSP950624-068 59 1547 Cauã_Matheus\\n 264  Q0 FSP950122-063 60 1545 Cauã_Matheus\\n 264  Q0 FSP950310-104 61 1545 Cauã_Matheus\\n 264  Q0 FSP950402-161 62 1545 Cauã_Matheus\\n 264  Q0 FSP950806-048 63 1545 Cauã_Matheus\\n 264  Q0 FSP951112-140 64 1545 Cauã_Matheus\\n 264  Q0 FSP950129-129 65 1544 Cauã_Matheus\\n 264  Q0 FSP950204-064 66 1544 Cauã_Matheus\\n 264  Q0 FSP950325-080 67 1544 Cauã_Matheus\\n 264  Q0 FSP950417-097 68 1544 Cauã_Matheus\\n 264  Q0 FSP950423-133 69 1544 Cauã_Matheus\\n 264  Q0 FSP950507-014 70 1544 Cauã_Matheus\\n 264  Q0 FSP950723-108 71 1544 Cauã_Matheus\\n 264  Q0 FSP950806-028 72 1544 Cauã_Matheus\\n 264  Q0 FSP951001-104 73 1544 Cauã_Matheus\\n 264  Q0 FSP951013-069 74 1544 Cauã_Matheus\\n 264  Q0 FSP950103-096 75 1542 Cauã_Matheus\\n 264  Q0 FSP950108-118 76 1542 Cauã_Matheus\\n 264  Q0 FSP950130-090 77 1542 Cauã_Matheus\\n 264  Q0 FSP950224-116 78 1542 Cauã_Matheus\\n 264  Q0 FSP950325-082 79 1542 Cauã_Matheus\\n 264  Q0 FSP950326-078 80 1542 Cauã_Matheus\\n 264  Q0 FSP950403-032 81 1542 Cauã_Matheus\\n 264  Q0 FSP950516-115 82 1542 Cauã_Matheus\\n 264  Q0 FSP950521-168 83 1542 Cauã_Matheus\\n 264  Q0 FSP950620-109 84 1542 Cauã_Matheus\\n 264  Q0 FSP950620-111 85 1542 Cauã_Matheus\\n 264  Q0 FSP950807-122 86 1542 Cauã_Matheus\\n 264  Q0 FSP950808-010 87 1542 Cauã_Matheus\\n 264  Q0 FSP950808-115 88 1542 Cauã_Matheus\\n 264  Q0 FSP950924-091 89 1542 Cauã_Matheus\\n 264  Q0 FSP951006-036 90 1542 Cauã_Matheus\\n 264  Q0 FSP951015-015 91 1542 Cauã_Matheus\\n 264  Q0 FSP951126-112 92 1542 Cauã_Matheus\\n 264  Q0 FSP950101-033 93 1540 Cauã_Matheus\\n 264  Q0 FSP950102-040 94 1540 Cauã_Matheus\\n 264  Q0 FSP950110-010 95 1540 Cauã_Matheus\\n 264  Q0 FSP950117-021 96 1540 Cauã_Matheus\\n 264  Q0 FSP950121-085 97 1540 Cauã_Matheus\\n 264  Q0 FSP950122-004 98 1540 Cauã_Matheus\\n 264  Q0 FSP950122-008 99 1540 Cauã_Matheus\\n 265  Q0 FSP951116-045 0 1565 Cauã_Matheus\\n 265  Q0 FSP951127-049 1 1565 Cauã_Matheus\\n 265  Q0 FSP951203-049 2 1564 Cauã_Matheus\\n 265  Q0 FSP950205-084 3 1561 Cauã_Matheus\\n 265  Q0 FSP951120-054 4 1561 Cauã_Matheus\\n 265  Q0 FSP950324-031 5 1556 Cauã_Matheus\\n 265  Q0 FSP951204-044 6 1554 Cauã_Matheus\\n 265  Q0 FSP951124-096 7 1553 Cauã_Matheus\\n 265  Q0 FSP950422-077 8 1545 Cauã_Matheus\\n 265  Q0 FSP951201-072 9 1545 Cauã_Matheus\\n 265  Q0 FSP950523-064 10 1542 Cauã_Matheus\\n 265  Q0 FSP951224-069 11 1541 Cauã_Matheus\\n 265  Q0 FSP951228-039 12 1538 Cauã_Matheus\\n 265  Q0 FSP950115-046 13 1537 Cauã_Matheus\\n 265  Q0 FSP950129-054 14 1537 Cauã_Matheus\\n 265  Q0 FSP950526-053 15 1535 Cauã_Matheus\\n 265  Q0 FSP951117-022 16 1535 Cauã_Matheus\\n 265  Q0 FSP950222-070 17 1534 Cauã_Matheus\\n 265  Q0 FSP950420-076 18 1534 Cauã_Matheus\\n 265  Q0 FSP950427-061 19 1534 Cauã_Matheus\\n 265  Q0 FSP951117-020 20 1534 Cauã_Matheus\\n 265  Q0 FSP951210-024 21 1534 Cauã_Matheus\\n 265  Q0 FSP951228-072 22 1534 Cauã_Matheus\\n 265  Q0 FSP950901-037 23 1533 Cauã_Matheus\\n 265  Q0 FSP951210-023 24 1533 Cauã_Matheus\\n 265  Q0 FSP950723-076 25 1532 Cauã_Matheus\\n 265  Q0 FSP950614-043 26 1531 Cauã_Matheus\\n 265  Q0 FSP951216-094 27 1531 Cauã_Matheus\\n 265  Q0 FSP950122-091 28 1529 Cauã_Matheus\\n 265  Q0 FSP950226-186 29 1529 Cauã_Matheus\\n 265  Q0 FSP950421-075 30 1529 Cauã_Matheus\\n 265  Q0 FSP950422-073 31 1529 Cauã_Matheus\\n 265  Q0 FSP950701-039 32 1529 Cauã_Matheus\\n 265  Q0 FSP951012-059 33 1529 Cauã_Matheus\\n 265  Q0 FSP951106-066 34 1529 Cauã_Matheus\\n 265  Q0 FSP951112-155 35 1529 Cauã_Matheus\\n 265  Q0 FSP951121-072 36 1529 Cauã_Matheus\\n 265  Q0 FSP951126-065 37 1529 Cauã_Matheus\\n 265  Q0 FSP950220-045 38 1528 Cauã_Matheus\\n 265  Q0 FSP950504-135 39 1528 Cauã_Matheus\\n 265  Q0 FSP950904-049 40 1528 Cauã_Matheus\\n 265  Q0 FSP950131-053 41 1527 Cauã_Matheus\\n 265  Q0 FSP950501-040 42 1527 Cauã_Matheus\\n 265  Q0 FSP950807-042 43 1527 Cauã_Matheus\\n 265  Q0 FSP950901-057 44 1527 Cauã_Matheus\\n 265  Q0 FSP950121-016 45 1526 Cauã_Matheus\\n 265  Q0 FSP950125-052 46 1526 Cauã_Matheus\\n 265  Q0 FSP950406-060 47 1526 Cauã_Matheus\\n 265  Q0 FSP950422-103 48 1526 Cauã_Matheus\\n 265  Q0 FSP950529-040 49 1526 Cauã_Matheus\\n 265  Q0 FSP950219-048 50 1525 Cauã_Matheus\\n 265  Q0 FSP950409-076 51 1525 Cauã_Matheus\\n 265  Q0 FSP950527-065 52 1525 Cauã_Matheus\\n 265  Q0 FSP950721-052 53 1525 Cauã_Matheus\\n 265  Q0 FSP950819-081 54 1525 Cauã_Matheus\\n 265  Q0 FSP951028-073 55 1525 Cauã_Matheus\\n 265  Q0 FSP951120-055 56 1525 Cauã_Matheus\\n 265  Q0 FSP950123-043 57 1524 Cauã_Matheus\\n 265  Q0 FSP950320-031 58 1524 Cauã_Matheus\\n 265  Q0 FSP950413-067 59 1524 Cauã_Matheus\\n 265  Q0 FSP950506-058 60 1524 Cauã_Matheus\\n 265  Q0 FSP950606-070 61 1524 Cauã_Matheus\\n 265  Q0 FSP950716-047 62 1524 Cauã_Matheus\\n 265  Q0 FSP950723-061 63 1524 Cauã_Matheus\\n 265  Q0 FSP950724-021 64 1524 Cauã_Matheus\\n 265  Q0 FSP951105-068 65 1524 Cauã_Matheus\\n 265  Q0 FSP951106-013 66 1524 Cauã_Matheus\\n 265  Q0 FSP951106-025 67 1524 Cauã_Matheus\\n 265  Q0 FSP951120-053 68 1524 Cauã_Matheus\\n 265  Q0 FSP951124-066 69 1524 Cauã_Matheus\\n 265  Q0 FSP951125-128 70 1524 Cauã_Matheus\\n 265  Q0 FSP951210-028 71 1524 Cauã_Matheus\\n 265  Q0 FSP950701-035 72 1523 Cauã_Matheus\\n 265  Q0 FSP950701-040 73 1523 Cauã_Matheus\\n 265  Q0 FSP950824-022 74 1523 Cauã_Matheus\\n 265  Q0 FSP950122-063 75 1519 Cauã_Matheus\\n 265  Q0 FSP950125-010 76 1519 Cauã_Matheus\\n 265  Q0 FSP950205-177 77 1519 Cauã_Matheus\\n 265  Q0 FSP950212-111 78 1519 Cauã_Matheus\\n 265  Q0 FSP950224-014 79 1519 Cauã_Matheus\\n 265  Q0 FSP950303-042 80 1519 Cauã_Matheus\\n 265  Q0 FSP950307-100 81 1519 Cauã_Matheus\\n 265  Q0 FSP950312-217 82 1519 Cauã_Matheus\\n 265  Q0 FSP950314-138 83 1519 Cauã_Matheus\\n 265  Q0 FSP950324-026 84 1519 Cauã_Matheus\\n 265  Q0 FSP950324-043 85 1519 Cauã_Matheus\\n 265  Q0 FSP950325-021 86 1519 Cauã_Matheus\\n 265  Q0 FSP950331-062 87 1519 Cauã_Matheus\\n 265  Q0 FSP950403-050 88 1519 Cauã_Matheus\\n 265  Q0 FSP950412-027 89 1519 Cauã_Matheus\\n 265  Q0 FSP950416-073 90 1519 Cauã_Matheus\\n 265  Q0 FSP950421-073 91 1519 Cauã_Matheus\\n 265  Q0 FSP950513-050 92 1519 Cauã_Matheus\\n 265  Q0 FSP950517-076 93 1519 Cauã_Matheus\\n 265  Q0 FSP950525-105 94 1519 Cauã_Matheus\\n 265  Q0 FSP950601-124 95 1519 Cauã_Matheus\\n 265  Q0 FSP950618-087 96 1519 Cauã_Matheus\\n 265  Q0 FSP950626-015 97 1519 Cauã_Matheus\\n 265  Q0 FSP950730-156 98 1519 Cauã_Matheus\\n 265  Q0 FSP950804-003 99 1519 Cauã_Matheus\\n 266  Q0 FSP950625-027 0 1603 Cauã_Matheus\\n 266  Q0 FSP950219-083 1 1578 Cauã_Matheus\\n 266  Q0 FSP951111-077 2 1574 Cauã_Matheus\\n 266  Q0 FSP950820-057 3 1560 Cauã_Matheus\\n 266  Q0 FSP950403-111 4 1558 Cauã_Matheus\\n 266  Q0 FSP950614-004 5 1558 Cauã_Matheus\\n 266  Q0 FSP951210-013 6 1558 Cauã_Matheus\\n 266  Q0 FSP950701-101 7 1557 Cauã_Matheus\\n 266  Q0 FSP950212-030 8 1555 Cauã_Matheus\\n 266  Q0 FSP950319-124 9 1555 Cauã_Matheus\\n 266  Q0 FSP950625-110 10 1555 Cauã_Matheus\\n 266  Q0 FSP950813-004 11 1555 Cauã_Matheus\\n 266  Q0 FSP950908-036 12 1555 Cauã_Matheus\\n 266  Q0 FSP950916-011 13 1555 Cauã_Matheus\\n 266  Q0 FSP950108-100 14 1554 Cauã_Matheus\\n 266  Q0 FSP950609-080 15 1554 Cauã_Matheus\\n 266  Q0 FSP951104-011 16 1554 Cauã_Matheus\\n 266  Q0 FSP950628-096 17 1553 Cauã_Matheus\\n 266  Q0 FSP950522-002 18 1552 Cauã_Matheus\\n 266  Q0 FSP950906-010 19 1552 Cauã_Matheus\\n 266  Q0 FSP950625-234 20 1551 Cauã_Matheus\\n 266  Q0 FSP950725-009 21 1551 Cauã_Matheus\\n 266  Q0 FSP951005-010 22 1551 Cauã_Matheus\\n 266  Q0 FSP950625-223 23 1550 Cauã_Matheus\\n 266  Q0 FSP951119-008 24 1550 Cauã_Matheus\\n 266  Q0 FSP950102-027 25 1549 Cauã_Matheus\\n 266  Q0 FSP950331-008 26 1549 Cauã_Matheus\\n 266  Q0 FSP950522-033 27 1549 Cauã_Matheus\\n 266  Q0 FSP950613-101 28 1549 Cauã_Matheus\\n 266  Q0 FSP950805-012 29 1549 Cauã_Matheus\\n 266  Q0 FSP950829-010 30 1549 Cauã_Matheus\\n 266  Q0 FSP951028-084 31 1549 Cauã_Matheus\\n 266  Q0 FSP950820-206 32 1548 Cauã_Matheus\\n 266  Q0 FSP951107-045 33 1548 Cauã_Matheus\\n 266  Q0 FSP951211-108 34 1548 Cauã_Matheus\\n 266  Q0 FSP950524-120 35 1547 Cauã_Matheus\\n 266  Q0 FSP950916-054 36 1547 Cauã_Matheus\\n 266  Q0 FSP950629-074 37 1546 Cauã_Matheus\\n 266  Q0 FSP950701-098 38 1546 Cauã_Matheus\\n 266  Q0 FSP950709-009 39 1546 Cauã_Matheus\\n 266  Q0 FSP950716-116 40 1546 Cauã_Matheus\\n 266  Q0 FSP950820-126 41 1546 Cauã_Matheus\\n 266  Q0 FSP951102-112 42 1545 Cauã_Matheus\\n 266  Q0 FSP951203-115 43 1545 Cauã_Matheus\\n 266  Q0 FSP950209-110 44 1544 Cauã_Matheus\\n 266  Q0 FSP950212-019 45 1544 Cauã_Matheus\\n 266  Q0 FSP950212-031 46 1544 Cauã_Matheus\\n 266  Q0 FSP950731-008 47 1544 Cauã_Matheus\\n 266  Q0 FSP950820-002 48 1544 Cauã_Matheus\\n 266  Q0 FSP950824-062 49 1544 Cauã_Matheus\\n 266  Q0 FSP951126-095 50 1544 Cauã_Matheus\\n 266  Q0 FSP950413-149 51 1542 Cauã_Matheus\\n 266  Q0 FSP950625-049 52 1542 Cauã_Matheus\\n 266  Q0 FSP950626-052 53 1542 Cauã_Matheus\\n 266  Q0 FSP950709-186 54 1542 Cauã_Matheus\\n 266  Q0 FSP950716-110 55 1542 Cauã_Matheus\\n 266  Q0 FSP950814-010 56 1542 Cauã_Matheus\\n 266  Q0 FSP950911-043 57 1542 Cauã_Matheus\\n 266  Q0 FSP950922-008 58 1542 Cauã_Matheus\\n 266  Q0 FSP951015-123 59 1542 Cauã_Matheus\\n 266  Q0 FSP951024-021 60 1542 Cauã_Matheus\\n 266  Q0 FSP951105-009 61 1542 Cauã_Matheus\\n 266  Q0 FSP951120-066 62 1542 Cauã_Matheus\\n 266  Q0 FSP951124-130 63 1542 Cauã_Matheus\\n 266  Q0 FSP951210-104 64 1542 Cauã_Matheus\\n 266  Q0 FSP950112-051 65 1541 Cauã_Matheus\\n 266  Q0 FSP950522-034 66 1541 Cauã_Matheus\\n 266  Q0 FSP950522-042 67 1541 Cauã_Matheus\\n 266  Q0 FSP950626-010 68 1541 Cauã_Matheus\\n 266  Q0 FSP950626-023 69 1541 Cauã_Matheus\\n 266  Q0 FSP950702-089 70 1541 Cauã_Matheus\\n 266  Q0 FSP950730-078 71 1541 Cauã_Matheus\\n 266  Q0 FSP950827-020 72 1541 Cauã_Matheus\\n 266  Q0 FSP951015-166 73 1541 Cauã_Matheus\\n 266  Q0 FSP951106-078 74 1541 Cauã_Matheus\\n 266  Q0 FSP951115-086 75 1541 Cauã_Matheus\\n 266  Q0 FSP951203-020 76 1541 Cauã_Matheus\\n 266  Q0 FSP951231-032 77 1539 Cauã_Matheus\\n 266  Q0 FSP950804-075 78 1538 Cauã_Matheus\\n 266  Q0 FSP951121-009 79 1538 Cauã_Matheus\\n 266  Q0 FSP950111-008 80 1537 Cauã_Matheus\\n 266  Q0 FSP950202-056 81 1537 Cauã_Matheus\\n 266  Q0 FSP950321-009 82 1537 Cauã_Matheus\\n 266  Q0 FSP950703-134 83 1537 Cauã_Matheus\\n 266  Q0 FSP950730-008 84 1537 Cauã_Matheus\\n 266  Q0 FSP950827-010 85 1537 Cauã_Matheus\\n 266  Q0 FSP950903-051 86 1537 Cauã_Matheus\\n 266  Q0 FSP951027-008 87 1537 Cauã_Matheus\\n 266  Q0 FSP951103-023 88 1537 Cauã_Matheus\\n 266  Q0 FSP951129-101 89 1537 Cauã_Matheus\\n 266  Q0 FSP951203-109 90 1537 Cauã_Matheus\\n 266  Q0 FSP950110-010 91 1536 Cauã_Matheus\\n 266  Q0 FSP950122-062 92 1536 Cauã_Matheus\\n 266  Q0 FSP950212-166 93 1536 Cauã_Matheus\\n 266  Q0 FSP950213-010 94 1536 Cauã_Matheus\\n 266  Q0 FSP950218-064 95 1536 Cauã_Matheus\\n 266  Q0 FSP950331-047 96 1536 Cauã_Matheus\\n 266  Q0 FSP950404-111 97 1536 Cauã_Matheus\\n 266  Q0 FSP950514-036 98 1536 Cauã_Matheus\\n 266  Q0 FSP950611-050 99 1536 Cauã_Matheus\\n 267  Q0 FSP950324-130 0 1596 Cauã_Matheus\\n 267  Q0 FSP951223-089 1 1595 Cauã_Matheus\\n 267  Q0 FSP950329-137 2 1590 Cauã_Matheus\\n 267  Q0 FSP950330-105 3 1590 Cauã_Matheus\\n 267  Q0 FSP950416-121 4 1590 Cauã_Matheus\\n 267  Q0 FSP950123-034 5 1589 Cauã_Matheus\\n 267  Q0 FSP950316-134 6 1588 Cauã_Matheus\\n 267  Q0 FSP951210-095 7 1587 Cauã_Matheus\\n 267  Q0 FSP950324-131 8 1586 Cauã_Matheus\\n 267  Q0 FSP950416-123 9 1586 Cauã_Matheus\\n 267  Q0 FSP950216-123 10 1585 Cauã_Matheus\\n 267  Q0 FSP950317-134 11 1585 Cauã_Matheus\\n 267  Q0 FSP950516-109 12 1585 Cauã_Matheus\\n 267  Q0 FSP951015-115 13 1585 Cauã_Matheus\\n 267  Q0 FSP950811-129 14 1584 Cauã_Matheus\\n 267  Q0 FSP950308-132 15 1583 Cauã_Matheus\\n 267  Q0 FSP950930-107 16 1583 Cauã_Matheus\\n 267  Q0 FSP950121-112 17 1582 Cauã_Matheus\\n 267  Q0 FSP950906-137 18 1582 Cauã_Matheus\\n 267  Q0 FSP951010-091 19 1582 Cauã_Matheus\\n 267  Q0 FSP950327-099 20 1581 Cauã_Matheus\\n 267  Q0 FSP951027-114 21 1581 Cauã_Matheus\\n 267  Q0 FSP950207-109 22 1580 Cauã_Matheus\\n 267  Q0 FSP950117-104 23 1579 Cauã_Matheus\\n 267  Q0 FSP950915-115 24 1579 Cauã_Matheus\\n 267  Q0 FSP950404-108 25 1578 Cauã_Matheus\\n 267  Q0 FSP950813-128 26 1578 Cauã_Matheus\\n 267  Q0 FSP950317-121 27 1577 Cauã_Matheus\\n 267  Q0 FSP950505-103 28 1577 Cauã_Matheus\\n 267  Q0 FSP950929-120 29 1577 Cauã_Matheus\\n 267  Q0 FSP950210-110 30 1576 Cauã_Matheus\\n 267  Q0 FSP950228-080 31 1576 Cauã_Matheus\\n 267  Q0 FSP950326-164 32 1576 Cauã_Matheus\\n 267  Q0 FSP950314-122 33 1573 Cauã_Matheus\\n 267  Q0 FSP950326-163 34 1573 Cauã_Matheus\\n 267  Q0 FSP951127-110 35 1573 Cauã_Matheus\\n 267  Q0 FSP950312-142 36 1572 Cauã_Matheus\\n 267  Q0 FSP950327-098 37 1572 Cauã_Matheus\\n 267  Q0 FSP951126-011 38 1572 Cauã_Matheus\\n 267  Q0 FSP951208-004 39 1572 Cauã_Matheus\\n 267  Q0 FSP950131-133 40 1569 Cauã_Matheus\\n 267  Q0 FSP951013-110 41 1568 Cauã_Matheus\\n 267  Q0 FSP951015-124 42 1568 Cauã_Matheus\\n 267  Q0 FSP951018-153 43 1566 Cauã_Matheus\\n 267  Q0 FSP951019-150 44 1566 Cauã_Matheus\\n 267  Q0 FSP950206-091 45 1565 Cauã_Matheus\\n 267  Q0 FSP951207-126 46 1565 Cauã_Matheus\\n 267  Q0 FSP950131-124 47 1564 Cauã_Matheus\\n 267  Q0 FSP950701-114 48 1564 Cauã_Matheus\\n 267  Q0 FSP950315-128 49 1563 Cauã_Matheus\\n 267  Q0 FSP950525-118 50 1563 Cauã_Matheus\\n 267  Q0 FSP950604-057 51 1563 Cauã_Matheus\\n 267  Q0 FSP950821-085 52 1563 Cauã_Matheus\\n 267  Q0 FSP951220-112 53 1563 Cauã_Matheus\\n 267  Q0 FSP950826-066 54 1562 Cauã_Matheus\\n 267  Q0 FSP950304-113 55 1561 Cauã_Matheus\\n 267  Q0 FSP950308-136 56 1561 Cauã_Matheus\\n 267  Q0 FSP950402-114 57 1561 Cauã_Matheus\\n 267  Q0 FSP950405-130 58 1561 Cauã_Matheus\\n 267  Q0 FSP950506-102 59 1561 Cauã_Matheus\\n 267  Q0 FSP950510-113 60 1561 Cauã_Matheus\\n 267  Q0 FSP950613-114 61 1561 Cauã_Matheus\\n 267  Q0 FSP950615-126 62 1561 Cauã_Matheus\\n 267  Q0 FSP950702-107 63 1561 Cauã_Matheus\\n 267  Q0 FSP950716-163 64 1561 Cauã_Matheus\\n 267  Q0 FSP951214-071 65 1561 Cauã_Matheus\\n 267  Q0 FSP950129-111 66 1560 Cauã_Matheus\\n 267  Q0 FSP950325-109 67 1560 Cauã_Matheus\\n 267  Q0 FSP950402-054 68 1560 Cauã_Matheus\\n 267  Q0 FSP950413-022 69 1560 Cauã_Matheus\\n 267  Q0 FSP951219-128 70 1560 Cauã_Matheus\\n 267  Q0 FSP951224-105 71 1560 Cauã_Matheus\\n 267  Q0 FSP950219-140 72 1559 Cauã_Matheus\\n 267  Q0 FSP950425-113 73 1559 Cauã_Matheus\\n 267  Q0 FSP950910-025 74 1559 Cauã_Matheus\\n 267  Q0 FSP951015-116 75 1559 Cauã_Matheus\\n 267  Q0 FSP951124-152 76 1559 Cauã_Matheus\\n 267  Q0 FSP950112-108 77 1558 Cauã_Matheus\\n 267  Q0 FSP950218-110 78 1558 Cauã_Matheus\\n 267  Q0 FSP950221-122 79 1558 Cauã_Matheus\\n 267  Q0 FSP950221-128 80 1558 Cauã_Matheus\\n 267  Q0 FSP950314-114 81 1558 Cauã_Matheus\\n 267  Q0 FSP950320-037 82 1558 Cauã_Matheus\\n 267  Q0 FSP950327-131 83 1558 Cauã_Matheus\\n 267  Q0 FSP950328-145 84 1558 Cauã_Matheus\\n 267  Q0 FSP950507-038 85 1558 Cauã_Matheus\\n 267  Q0 FSP950531-106 86 1558 Cauã_Matheus\\n 267  Q0 FSP950804-088 87 1558 Cauã_Matheus\\n 267  Q0 FSP950826-067 88 1558 Cauã_Matheus\\n 267  Q0 FSP950913-132 89 1558 Cauã_Matheus\\n 267  Q0 FSP951015-110 90 1558 Cauã_Matheus\\n 267  Q0 FSP950319-146 91 1557 Cauã_Matheus\\n 267  Q0 FSP950703-141 92 1557 Cauã_Matheus\\n 267  Q0 FSP950827-129 93 1557 Cauã_Matheus\\n 267  Q0 FSP951212-136 94 1557 Cauã_Matheus\\n 267  Q0 FSP950304-042 95 1556 Cauã_Matheus\\n 267  Q0 FSP950517-136 96 1556 Cauã_Matheus\\n 267  Q0 FSP950616-073 97 1556 Cauã_Matheus\\n 267  Q0 FSP950620-111 98 1556 Cauã_Matheus\\n 267  Q0 FSP950824-124 99 1556 Cauã_Matheus\\n 268  Q0 FSP950723-146 0 1584 Cauã_Matheus\\n 268  Q0 FSP950805-038 1 1570 Cauã_Matheus\\n 268  Q0 FSP950319-124 2 1567 Cauã_Matheus\\n 268  Q0 FSP951001-009 3 1565 Cauã_Matheus\\n 268  Q0 FSP951002-142 4 1564 Cauã_Matheus\\n 268  Q0 FSP950625-010 5 1563 Cauã_Matheus\\n 268  Q0 FSP951023-013 6 1563 Cauã_Matheus\\n 268  Q0 FSP951027-124 7 1562 Cauã_Matheus\\n 268  Q0 FSP950618-112 8 1561 Cauã_Matheus\\n 268  Q0 FSP950108-115 9 1560 Cauã_Matheus\\n 268  Q0 FSP950129-129 10 1560 Cauã_Matheus\\n 268  Q0 FSP950605-126 11 1559 Cauã_Matheus\\n 268  Q0 FSP950920-009 12 1559 Cauã_Matheus\\n 268  Q0 FSP950920-051 13 1559 Cauã_Matheus\\n 268  Q0 FSP951013-037 14 1559 Cauã_Matheus\\n 268  Q0 FSP951202-007 15 1559 Cauã_Matheus\\n 268  Q0 FSP950903-014 16 1558 Cauã_Matheus\\n 268  Q0 FSP950908-036 17 1558 Cauã_Matheus\\n 268  Q0 FSP951106-139 18 1558 Cauã_Matheus\\n 268  Q0 FSP951126-078 19 1558 Cauã_Matheus\\n 268  Q0 FSP950902-010 20 1557 Cauã_Matheus\\n 268  Q0 FSP950930-008 21 1556 Cauã_Matheus\\n 268  Q0 FSP950518-009 22 1555 Cauã_Matheus\\n 268  Q0 FSP950604-123 23 1555 Cauã_Matheus\\n 268  Q0 FSP950806-142 24 1555 Cauã_Matheus\\n 268  Q0 FSP950807-121 25 1555 Cauã_Matheus\\n 268  Q0 FSP950507-104 26 1554 Cauã_Matheus\\n 268  Q0 FSP950605-124 27 1554 Cauã_Matheus\\n 268  Q0 FSP950611-136 28 1554 Cauã_Matheus\\n 268  Q0 FSP950103-008 29 1553 Cauã_Matheus\\n 268  Q0 FSP950226-142 30 1553 Cauã_Matheus\\n 268  Q0 FSP950403-154 31 1553 Cauã_Matheus\\n 268  Q0 FSP950501-125 32 1553 Cauã_Matheus\\n 268  Q0 FSP950611-110 33 1553 Cauã_Matheus\\n 268  Q0 FSP950611-135 34 1553 Cauã_Matheus\\n 268  Q0 FSP950618-113 35 1553 Cauã_Matheus\\n 268  Q0 FSP950622-007 36 1553 Cauã_Matheus\\n 268  Q0 FSP950706-009 37 1553 Cauã_Matheus\\n 268  Q0 FSP950716-121 38 1553 Cauã_Matheus\\n 268  Q0 FSP950730-135 39 1553 Cauã_Matheus\\n 268  Q0 FSP950813-134 40 1553 Cauã_Matheus\\n 268  Q0 FSP950909-087 41 1553 Cauã_Matheus\\n 268  Q0 FSP950927-115 42 1553 Cauã_Matheus\\n 268  Q0 FSP951002-150 43 1553 Cauã_Matheus\\n 268  Q0 FSP951026-107 44 1553 Cauã_Matheus\\n 268  Q0 FSP951118-114 45 1553 Cauã_Matheus\\n 268  Q0 FSP950423-124 46 1552 Cauã_Matheus\\n 268  Q0 FSP950614-024 47 1552 Cauã_Matheus\\n 268  Q0 FSP950618-102 48 1552 Cauã_Matheus\\n 268  Q0 FSP950803-126 49 1552 Cauã_Matheus\\n 268  Q0 FSP950820-069 50 1552 Cauã_Matheus\\n 268  Q0 FSP951016-118 51 1552 Cauã_Matheus\\n 268  Q0 FSP951022-109 52 1552 Cauã_Matheus\\n 268  Q0 FSP951203-112 53 1552 Cauã_Matheus\\n 268  Q0 FSP950226-087 54 1551 Cauã_Matheus\\n 268  Q0 FSP950416-008 55 1551 Cauã_Matheus\\n 268  Q0 FSP950715-007 56 1551 Cauã_Matheus\\n 268  Q0 FSP950801-078 57 1551 Cauã_Matheus\\n 268  Q0 FSP950820-125 58 1551 Cauã_Matheus\\n 268  Q0 FSP950904-116 59 1551 Cauã_Matheus\\n 268  Q0 FSP950925-100 60 1551 Cauã_Matheus\\n 268  Q0 FSP951029-129 61 1551 Cauã_Matheus\\n 268  Q0 FSP951211-116 62 1551 Cauã_Matheus\\n 268  Q0 FSP950205-140 63 1550 Cauã_Matheus\\n 268  Q0 FSP950403-032 64 1550 Cauã_Matheus\\n 268  Q0 FSP950425-118 65 1550 Cauã_Matheus\\n 268  Q0 FSP950430-066 66 1550 Cauã_Matheus\\n 268  Q0 FSP950501-118 67 1550 Cauã_Matheus\\n 268  Q0 FSP950621-056 68 1550 Cauã_Matheus\\n 268  Q0 FSP950626-011 69 1550 Cauã_Matheus\\n 268  Q0 FSP950626-082 70 1550 Cauã_Matheus\\n 268  Q0 FSP950730-011 71 1550 Cauã_Matheus\\n 268  Q0 FSP950730-119 72 1550 Cauã_Matheus\\n 268  Q0 FSP950806-144 73 1550 Cauã_Matheus\\n 268  Q0 FSP950810-010 74 1550 Cauã_Matheus\\n 268  Q0 FSP950820-011 75 1550 Cauã_Matheus\\n 268  Q0 FSP950902-007 76 1550 Cauã_Matheus\\n 268  Q0 FSP950902-008 77 1550 Cauã_Matheus\\n 268  Q0 FSP950904-122 78 1550 Cauã_Matheus\\n 268  Q0 FSP951106-011 79 1550 Cauã_Matheus\\n 268  Q0 FSP951106-144 80 1550 Cauã_Matheus\\n 268  Q0 FSP951123-002 81 1550 Cauã_Matheus\\n 268  Q0 FSP950125-021 82 1548 Cauã_Matheus\\n 268  Q0 FSP950717-045 83 1548 Cauã_Matheus\\n 268  Q0 FSP950827-140 84 1548 Cauã_Matheus\\n 268  Q0 FSP951204-157 85 1548 Cauã_Matheus\\n 268  Q0 FSP950102-070 86 1547 Cauã_Matheus\\n 268  Q0 FSP950118-094 87 1547 Cauã_Matheus\\n 268  Q0 FSP950128-114 88 1547 Cauã_Matheus\\n 268  Q0 FSP950316-131 89 1547 Cauã_Matheus\\n 268  Q0 FSP950403-033 90 1547 Cauã_Matheus\\n 268  Q0 FSP950409-043 91 1547 Cauã_Matheus\\n 268  Q0 FSP950413-011 92 1547 Cauã_Matheus\\n 268  Q0 FSP950430-007 93 1547 Cauã_Matheus\\n 268  Q0 FSP950507-103 94 1547 Cauã_Matheus\\n 268  Q0 FSP950509-098 95 1547 Cauã_Matheus\\n 268  Q0 FSP950514-140 96 1547 Cauã_Matheus\\n 268  Q0 FSP950602-112 97 1547 Cauã_Matheus\\n 268  Q0 FSP950615-010 98 1547 Cauã_Matheus\\n 268  Q0 FSP950716-133 99 1547 Cauã_Matheus\\n 269  Q0 FSP950111-008 0 1633 Cauã_Matheus\\n 269  Q0 FSP950208-010 1 1633 Cauã_Matheus\\n 269  Q0 FSP950608-129 2 1633 Cauã_Matheus\\n 269  Q0 FSP950720-088 3 1633 Cauã_Matheus\\n 270  Q0 FSP951109-118 0 1662 Cauã_Matheus\\n 270  Q0 FSP951213-164 1 1659 Cauã_Matheus\\n 270  Q0 FSP950801-114 2 1647 Cauã_Matheus\\n 270  Q0 FSP950111-100 3 1629 Cauã_Matheus\\n 270  Q0 FSP951108-139 4 1627 Cauã_Matheus\\n 270  Q0 FSP950906-152 5 1619 Cauã_Matheus\\n 270  Q0 FSP950614-137 6 1609 Cauã_Matheus\\n 270  Q0 FSP950523-073 7 1608 Cauã_Matheus\\n 270  Q0 FSP950825-071 8 1608 Cauã_Matheus\\n 270  Q0 FSP950906-139 9 1608 Cauã_Matheus\\n 270  Q0 FSP950211-042 10 1607 Cauã_Matheus\\n 270  Q0 FSP950614-138 11 1607 Cauã_Matheus\\n 270  Q0 FSP950614-144 12 1607 Cauã_Matheus\\n 270  Q0 FSP950801-146 13 1607 Cauã_Matheus\\n 270  Q0 FSP950823-144 14 1607 Cauã_Matheus\\n 270  Q0 FSP951220-134 15 1607 Cauã_Matheus\\n 270  Q0 FSP950426-152 16 1603 Cauã_Matheus\\n 270  Q0 FSP950614-140 17 1603 Cauã_Matheus\\n 270  Q0 FSP950906-151 18 1603 Cauã_Matheus\\n 270  Q0 FSP951212-127 19 1603 Cauã_Matheus\\n 270  Q0 FSP950413-162 20 1600 Cauã_Matheus\\n 270  Q0 FSP950524-138 21 1600 Cauã_Matheus\\n 270  Q0 FSP950726-122 22 1600 Cauã_Matheus\\n 270  Q0 FSP950825-074 23 1600 Cauã_Matheus\\n 270  Q0 FSP950826-071 24 1600 Cauã_Matheus\\n 270  Q0 FSP950827-072 25 1600 Cauã_Matheus\\n 270  Q0 FSP950830-142 26 1600 Cauã_Matheus\\n 270  Q0 FSP950831-134 27 1600 Cauã_Matheus\\n 270  Q0 FSP950913-142 28 1600 Cauã_Matheus\\n 270  Q0 FSP950104-098 29 1595 Cauã_Matheus\\n 270  Q0 FSP950104-108 30 1595 Cauã_Matheus\\n 270  Q0 FSP950503-102 31 1595 Cauã_Matheus\\n 270  Q0 FSP950503-119 32 1595 Cauã_Matheus\\n 270  Q0 FSP950510-132 33 1595 Cauã_Matheus\\n 270  Q0 FSP950710-084 34 1595 Cauã_Matheus\\n 270  Q0 FSP950827-074 35 1595 Cauã_Matheus\\n 270  Q0 FSP950828-092 36 1595 Cauã_Matheus\\n 270  Q0 FSP950829-110 37 1595 Cauã_Matheus\\n 270  Q0 FSP950905-108 38 1595 Cauã_Matheus\\n 270  Q0 FSP951024-122 39 1595 Cauã_Matheus\\n 270  Q0 FSP950111-115 40 1588 Cauã_Matheus\\n 270  Q0 FSP950125-115 41 1588 Cauã_Matheus\\n 270  Q0 FSP950131-122 42 1588 Cauã_Matheus\\n 270  Q0 FSP950413-149 43 1588 Cauã_Matheus\\n 270  Q0 FSP950413-151 44 1588 Cauã_Matheus\\n 270  Q0 FSP950419-145 45 1588 Cauã_Matheus\\n 270  Q0 FSP950423-143 46 1588 Cauã_Matheus\\n 270  Q0 FSP950606-070 47 1588 Cauã_Matheus\\n 270  Q0 FSP950628-106 48 1588 Cauã_Matheus\\n 270  Q0 FSP950629-123 49 1588 Cauã_Matheus\\n 270  Q0 FSP950705-124 50 1588 Cauã_Matheus\\n 270  Q0 FSP950724-047 51 1588 Cauã_Matheus\\n 270  Q0 FSP950809-119 52 1588 Cauã_Matheus\\n 270  Q0 FSP950913-143 53 1588 Cauã_Matheus\\n 270  Q0 FSP951020-063 54 1588 Cauã_Matheus\\n 270  Q0 FSP951025-144 55 1588 Cauã_Matheus\\n 270  Q0 FSP951101-062 56 1588 Cauã_Matheus\\n 270  Q0 FSP951108-141 57 1588 Cauã_Matheus\\n 270  Q0 FSP951115-132 58 1588 Cauã_Matheus\\n 270  Q0 FSP951205-131 59 1588 Cauã_Matheus\\n 270  Q0 FSP951218-112 60 1588 Cauã_Matheus\\n 270  Q0 FSP951220-133 61 1588 Cauã_Matheus\\n 270  Q0 FSP950205-084 62 1586 Cauã_Matheus\\n 270  Q0 FSP950410-048 63 1586 Cauã_Matheus\\n 270  Q0 FSP950123-084 64 1580 Cauã_Matheus\\n 270  Q0 FSP950814-044 65 1580 Cauã_Matheus\\n 270  Q0 FSP950822-112 66 1580 Cauã_Matheus\\n 270  Q0 FSP951002-022 67 1580 Cauã_Matheus\\n 270  Q0 FSP951002-023 68 1580 Cauã_Matheus\\n 270  Q0 FSP951015-032 69 1580 Cauã_Matheus\\n 270  Q0 FSP951028-034 70 1580 Cauã_Matheus\\n 270  Q0 FSP951213-038 71 1580 Cauã_Matheus\\n 270  Q0 FSP951213-138 72 1580 Cauã_Matheus\\n 270  Q0 FSP951215-032 73 1580 Cauã_Matheus\\n 270  Q0 FSP950104-105 74 1577 Cauã_Matheus\\n 270  Q0 FSP950104-106 75 1577 Cauã_Matheus\\n 270  Q0 FSP950104-109 76 1577 Cauã_Matheus\\n 270  Q0 FSP950125-112 77 1577 Cauã_Matheus\\n 270  Q0 FSP950208-126 78 1577 Cauã_Matheus\\n 270  Q0 FSP950215-145 79 1577 Cauã_Matheus\\n 270  Q0 FSP950222-129 80 1577 Cauã_Matheus\\n 270  Q0 FSP950323-140 81 1577 Cauã_Matheus\\n 270  Q0 FSP950328-146 82 1577 Cauã_Matheus\\n 270  Q0 FSP950405-153 83 1577 Cauã_Matheus\\n 270  Q0 FSP950410-049 84 1577 Cauã_Matheus\\n 270  Q0 FSP950411-123 85 1577 Cauã_Matheus\\n 270  Q0 FSP950413-145 86 1577 Cauã_Matheus\\n 270  Q0 FSP950426-139 87 1577 Cauã_Matheus\\n 270  Q0 FSP950503-103 88 1577 Cauã_Matheus\\n 270  Q0 FSP950524-129 89 1577 Cauã_Matheus\\n 270  Q0 FSP950606-112 90 1577 Cauã_Matheus\\n 270  Q0 FSP950614-143 91 1577 Cauã_Matheus\\n 270  Q0 FSP950620-109 92 1577 Cauã_Matheus\\n 270  Q0 FSP950628-110 93 1577 Cauã_Matheus\\n 270  Q0 FSP950705-069 94 1577 Cauã_Matheus\\n 270  Q0 FSP950717-102 95 1577 Cauã_Matheus\\n 270  Q0 FSP950719-061 96 1577 Cauã_Matheus\\n 270  Q0 FSP950719-067 97 1577 Cauã_Matheus\\n 270  Q0 FSP950719-124 98 1577 Cauã_Matheus\\n 270  Q0 FSP950719-126 99 1577 Cauã_Matheus\\n 271  Q0 FSP950104-038 0 1644 Cauã_Matheus\\n 271  Q0 FSP951001-191 1 1642 Cauã_Matheus\\n 271  Q0 FSP950314-114 2 1620 Cauã_Matheus\\n 271  Q0 FSP951005-008 3 1620 Cauã_Matheus\\n 271  Q0 FSP951014-121 4 1620 Cauã_Matheus\\n 271  Q0 FSP951027-083 5 1620 Cauã_Matheus\\n 271  Q0 FSP950429-083 6 1615 Cauã_Matheus\\n 271  Q0 FSP950409-045 7 1613 Cauã_Matheus\\n 271  Q0 FSP950624-076 8 1612 Cauã_Matheus\\n 271  Q0 FSP950623-074 9 1610 Cauã_Matheus\\n 271  Q0 FSP950622-070 10 1608 Cauã_Matheus\\n 271  Q0 FSP950624-073 11 1608 Cauã_Matheus\\n 271  Q0 FSP950429-089 12 1606 Cauã_Matheus\\n 271  Q0 FSP950622-075 13 1605 Cauã_Matheus\\n 271  Q0 FSP950625-108 14 1605 Cauã_Matheus\\n 271  Q0 FSP950626-051 15 1605 Cauã_Matheus\\n 271  Q0 FSP950918-103 16 1605 Cauã_Matheus\\n 271  Q0 FSP950106-124 17 1602 Cauã_Matheus\\n 271  Q0 FSP950613-075 18 1602 Cauã_Matheus\\n 271  Q0 FSP950624-034 19 1602 Cauã_Matheus\\n 271  Q0 FSP950914-115 20 1602 Cauã_Matheus\\n 271  Q0 FSP950112-108 21 1598 Cauã_Matheus\\n 271  Q0 FSP950325-086 22 1598 Cauã_Matheus\\n 271  Q0 FSP950714-096 23 1598 Cauã_Matheus\\n 271  Q0 FSP950226-119 24 1597 Cauã_Matheus\\n 271  Q0 FSP950611-090 25 1597 Cauã_Matheus\\n 271  Q0 FSP950623-073 26 1597 Cauã_Matheus\\n 271  Q0 FSP950624-070 27 1597 Cauã_Matheus\\n 271  Q0 FSP950625-096 28 1597 Cauã_Matheus\\n 271  Q0 FSP950906-010 29 1597 Cauã_Matheus\\n 271  Q0 FSP950121-114 30 1590 Cauã_Matheus\\n 271  Q0 FSP950212-030 31 1590 Cauã_Matheus\\n 271  Q0 FSP950212-031 32 1590 Cauã_Matheus\\n 271  Q0 FSP950212-032 33 1590 Cauã_Matheus\\n 271  Q0 FSP950212-167 34 1590 Cauã_Matheus\\n 271  Q0 FSP950226-132 35 1590 Cauã_Matheus\\n 271  Q0 FSP950305-134 36 1590 Cauã_Matheus\\n 271  Q0 FSP950411-018 37 1590 Cauã_Matheus\\n 271  Q0 FSP950506-086 38 1590 Cauã_Matheus\\n 271  Q0 FSP950524-120 39 1590 Cauã_Matheus\\n 271  Q0 FSP950604-189 40 1590 Cauã_Matheus\\n 271  Q0 FSP950613-076 41 1590 Cauã_Matheus\\n 271  Q0 FSP950614-097 42 1590 Cauã_Matheus\\n 271  Q0 FSP950619-047 43 1590 Cauã_Matheus\\n 271  Q0 FSP950620-073 44 1590 Cauã_Matheus\\n 271  Q0 FSP950621-060 45 1590 Cauã_Matheus\\n 271  Q0 FSP950624-074 46 1590 Cauã_Matheus\\n 271  Q0 FSP950706-118 47 1590 Cauã_Matheus\\n 271  Q0 FSP951028-110 48 1590 Cauã_Matheus\\n 271  Q0 FSP951207-129 49 1590 Cauã_Matheus\\n 271  Q0 FSP950125-081 50 1586 Cauã_Matheus\\n 271  Q0 FSP950215-120 51 1586 Cauã_Matheus\\n 271  Q0 FSP950312-079 52 1586 Cauã_Matheus\\n 271  Q0 FSP950327-096 53 1586 Cauã_Matheus\\n 271  Q0 FSP950409-182 54 1586 Cauã_Matheus\\n 271  Q0 FSP950425-113 55 1586 Cauã_Matheus\\n 271  Q0 FSP950429-086 56 1586 Cauã_Matheus\\n 271  Q0 FSP950627-141 57 1586 Cauã_Matheus\\n 271  Q0 FSP950629-103 58 1586 Cauã_Matheus\\n 271  Q0 FSP950825-126 59 1586 Cauã_Matheus\\n 271  Q0 FSP950827-039 60 1586 Cauã_Matheus\\n 271  Q0 FSP951008-091 61 1586 Cauã_Matheus\\n 271  Q0 FSP950121-069 62 1579 Cauã_Matheus\\n 271  Q0 FSP950321-097 63 1579 Cauã_Matheus\\n 271  Q0 FSP950326-184 64 1579 Cauã_Matheus\\n 271  Q0 FSP950416-169 65 1579 Cauã_Matheus\\n 271  Q0 FSP950520-124 66 1579 Cauã_Matheus\\n 271  Q0 FSP950521-098 67 1579 Cauã_Matheus\\n 271  Q0 FSP950528-096 68 1579 Cauã_Matheus\\n 271  Q0 FSP950604-136 69 1579 Cauã_Matheus\\n 271  Q0 FSP950604-188 70 1579 Cauã_Matheus\\n 271  Q0 FSP950614-095 71 1579 Cauã_Matheus\\n 271  Q0 FSP950614-096 72 1579 Cauã_Matheus\\n 271  Q0 FSP950618-084 73 1579 Cauã_Matheus\\n 271  Q0 FSP950619-048 74 1579 Cauã_Matheus\\n 271  Q0 FSP950619-049 75 1579 Cauã_Matheus\\n 271  Q0 FSP950620-074 76 1579 Cauã_Matheus\\n 271  Q0 FSP950621-086 77 1579 Cauã_Matheus\\n 271  Q0 FSP950625-095 78 1579 Cauã_Matheus\\n 271  Q0 FSP950626-076 79 1579 Cauã_Matheus\\n 271  Q0 FSP950627-104 80 1579 Cauã_Matheus\\n 271  Q0 FSP950806-198 81 1579 Cauã_Matheus\\n 271  Q0 FSP950807-092 82 1579 Cauã_Matheus\\n 271  Q0 FSP950817-114 83 1579 Cauã_Matheus\\n 271  Q0 FSP950820-116 84 1579 Cauã_Matheus\\n 271  Q0 FSP950823-100 85 1579 Cauã_Matheus\\n 271  Q0 FSP950824-131 86 1579 Cauã_Matheus\\n 271  Q0 FSP950910-012 87 1579 Cauã_Matheus\\n 271  Q0 FSP951005-119 88 1579 Cauã_Matheus\\n 271  Q0 FSP951008-010 89 1579 Cauã_Matheus\\n 271  Q0 FSP951010-101 90 1579 Cauã_Matheus\\n 271  Q0 FSP951011-076 91 1579 Cauã_Matheus\\n 271  Q0 FSP951016-127 92 1579 Cauã_Matheus\\n 271  Q0 FSP951023-102 93 1579 Cauã_Matheus\\n 271  Q0 FSP951028-086 94 1579 Cauã_Matheus\\n 271  Q0 FSP951028-090 95 1579 Cauã_Matheus\\n 271  Q0 FSP951104-009 96 1579 Cauã_Matheus\\n 271  Q0 FSP951109-076 97 1579 Cauã_Matheus\\n 271  Q0 FSP951203-089 98 1579 Cauã_Matheus\\n 271  Q0 FSP951231-202 99 1579 Cauã_Matheus\\n 272  Q0 FSP951228-131 0 1593 Cauã_Matheus\\n 272  Q0 FSP950917-148 1 1576 Cauã_Matheus\\n 272  Q0 FSP950514-125 2 1575 Cauã_Matheus\\n 272  Q0 FSP951112-091 3 1569 Cauã_Matheus\\n 272  Q0 FSP950213-038 4 1568 Cauã_Matheus\\n 272  Q0 FSP950613-114 5 1568 Cauã_Matheus\\n 272  Q0 FSP950418-097 6 1567 Cauã_Matheus\\n 272  Q0 FSP950501-110 7 1567 Cauã_Matheus\\n 272  Q0 FSP951029-116 8 1567 Cauã_Matheus\\n 272  Q0 FSP951106-138 9 1566 Cauã_Matheus\\n 272  Q0 FSP950521-151 10 1565 Cauã_Matheus\\n 272  Q0 FSP950621-026 11 1564 Cauã_Matheus\\n 272  Q0 FSP951127-046 12 1564 Cauã_Matheus\\n 272  Q0 FSP951105-118 13 1562 Cauã_Matheus\\n 272  Q0 FSP951106-128 14 1562 Cauã_Matheus\\n 272  Q0 FSP951231-108 15 1562 Cauã_Matheus\\n 272  Q0 FSP950611-114 16 1560 Cauã_Matheus\\n 272  Q0 FSP951010-106 17 1560 Cauã_Matheus\\n 272  Q0 FSP951209-103 18 1560 Cauã_Matheus\\n 272  Q0 FSP950312-111 19 1558 Cauã_Matheus\\n 272  Q0 FSP950912-127 20 1558 Cauã_Matheus\\n 272  Q0 FSP951008-008 21 1558 Cauã_Matheus\\n 272  Q0 FSP950104-096 22 1557 Cauã_Matheus\\n 272  Q0 FSP950330-100 23 1557 Cauã_Matheus\\n 272  Q0 FSP950514-126 24 1557 Cauã_Matheus\\n 272  Q0 FSP950610-095 25 1557 Cauã_Matheus\\n 272  Q0 FSP950723-135 26 1557 Cauã_Matheus\\n 272  Q0 FSP950813-146 27 1557 Cauã_Matheus\\n 272  Q0 FSP950817-116 28 1557 Cauã_Matheus\\n 272  Q0 FSP950903-114 29 1557 Cauã_Matheus\\n 272  Q0 FSP950904-119 30 1557 Cauã_Matheus\\n 272  Q0 FSP951007-115 31 1557 Cauã_Matheus\\n 272  Q0 FSP951022-118 32 1557 Cauã_Matheus\\n 272  Q0 FSP951104-096 33 1557 Cauã_Matheus\\n 272  Q0 FSP951108-132 34 1557 Cauã_Matheus\\n 272  Q0 FSP951003-006 35 1556 Cauã_Matheus\\n 272  Q0 FSP950107-091 36 1555 Cauã_Matheus\\n 272  Q0 FSP950203-106 37 1555 Cauã_Matheus\\n 272  Q0 FSP950205-144 38 1553 Cauã_Matheus\\n 272  Q0 FSP950215-130 39 1553 Cauã_Matheus\\n 272  Q0 FSP950308-125 40 1553 Cauã_Matheus\\n 272  Q0 FSP950402-018 41 1553 Cauã_Matheus\\n 272  Q0 FSP950404-097 42 1553 Cauã_Matheus\\n 272  Q0 FSP950404-099 43 1553 Cauã_Matheus\\n 272  Q0 FSP950611-112 44 1553 Cauã_Matheus\\n 272  Q0 FSP950611-117 45 1553 Cauã_Matheus\\n 272  Q0 FSP950617-096 46 1553 Cauã_Matheus\\n 272  Q0 FSP950618-102 47 1553 Cauã_Matheus\\n 272  Q0 FSP950703-090 48 1553 Cauã_Matheus\\n 272  Q0 FSP950704-096 49 1553 Cauã_Matheus\\n 272  Q0 FSP950715-079 50 1553 Cauã_Matheus\\n 272  Q0 FSP950718-101 51 1553 Cauã_Matheus\\n 272  Q0 FSP950803-092 52 1553 Cauã_Matheus\\n 272  Q0 FSP950817-106 53 1553 Cauã_Matheus\\n 272  Q0 FSP950903-113 54 1553 Cauã_Matheus\\n 272  Q0 FSP950907-095 55 1553 Cauã_Matheus\\n 272  Q0 FSP950913-129 56 1553 Cauã_Matheus\\n 272  Q0 FSP950924-125 57 1553 Cauã_Matheus\\n 272  Q0 FSP951002-153 58 1553 Cauã_Matheus\\n 272  Q0 FSP951008-121 59 1553 Cauã_Matheus\\n 272  Q0 FSP951021-089 60 1553 Cauã_Matheus\\n 272  Q0 FSP951028-094 61 1553 Cauã_Matheus\\n 272  Q0 FSP951104-087 62 1553 Cauã_Matheus\\n 272  Q0 FSP951115-114 63 1553 Cauã_Matheus\\n 272  Q0 FSP951119-119 64 1553 Cauã_Matheus\\n 272  Q0 FSP951126-105 65 1553 Cauã_Matheus\\n 272  Q0 FSP951130-132 66 1553 Cauã_Matheus\\n 272  Q0 FSP951203-102 67 1553 Cauã_Matheus\\n 272  Q0 FSP950101-072 68 1547 Cauã_Matheus\\n 272  Q0 FSP950115-114 69 1547 Cauã_Matheus\\n 272  Q0 FSP950201-116 70 1547 Cauã_Matheus\\n 272  Q0 FSP950214-007 71 1547 Cauã_Matheus\\n 272  Q0 FSP950219-121 72 1547 Cauã_Matheus\\n 272  Q0 FSP950321-008 73 1547 Cauã_Matheus\\n 272  Q0 FSP950322-167 74 1547 Cauã_Matheus\\n 272  Q0 FSP950402-144 75 1547 Cauã_Matheus\\n 272  Q0 FSP950402-153 76 1547 Cauã_Matheus\\n 272  Q0 FSP950409-039 77 1547 Cauã_Matheus\\n 272  Q0 FSP950409-134 78 1547 Cauã_Matheus\\n 272  Q0 FSP950410-031 79 1547 Cauã_Matheus\\n 272  Q0 FSP950414-095 80 1547 Cauã_Matheus\\n 272  Q0 FSP950423-135 81 1547 Cauã_Matheus\\n 272  Q0 FSP950501-092 82 1547 Cauã_Matheus\\n 272  Q0 FSP950507-163 83 1547 Cauã_Matheus\\n 272  Q0 FSP950508-116 84 1547 Cauã_Matheus\\n 272  Q0 FSP950508-127 85 1547 Cauã_Matheus\\n 272  Q0 FSP950517-068 86 1547 Cauã_Matheus\\n 272  Q0 FSP950518-007 87 1547 Cauã_Matheus\\n 272  Q0 FSP950521-006 88 1547 Cauã_Matheus\\n 272  Q0 FSP950524-136 89 1547 Cauã_Matheus\\n 272  Q0 FSP950611-116 90 1547 Cauã_Matheus\\n 272  Q0 FSP950622-006 91 1547 Cauã_Matheus\\n 272  Q0 FSP950704-097 92 1547 Cauã_Matheus\\n 272  Q0 FSP950715-080 93 1547 Cauã_Matheus\\n 272  Q0 FSP950718-102 94 1547 Cauã_Matheus\\n 272  Q0 FSP950722-096 95 1547 Cauã_Matheus\\n 272  Q0 FSP950803-091 96 1547 Cauã_Matheus\\n 272  Q0 FSP950807-127 97 1547 Cauã_Matheus\\n 272  Q0 FSP950813-145 98 1547 Cauã_Matheus\\n 272  Q0 FSP950822-124 99 1547 Cauã_Matheus\\n 273  Q0 FSP951020-050 0 1681 Cauã_Matheus\\n 273  Q0 FSP950219-013 1 1642 Cauã_Matheus\\n 273  Q0 FSP950217-078 2 1623 Cauã_Matheus\\n 273  Q0 FSP950602-043 3 1623 Cauã_Matheus\\n 273  Q0 FSP950722-063 4 1602 Cauã_Matheus\\n 273  Q0 FSP950909-065 5 1602 Cauã_Matheus\\n 273  Q0 FSP950930-047 6 1602 Cauã_Matheus\\n 274  Q0 FSP950806-045 0 1590 Cauã_Matheus\\n 274  Q0 FSP951008-132 1 1589 Cauã_Matheus\\n 274  Q0 FSP951019-142 2 1572 Cauã_Matheus\\n 274  Q0 FSP950723-051 3 1571 Cauã_Matheus\\n 274  Q0 FSP951230-091 4 1571 Cauã_Matheus\\n 274  Q0 FSP950417-040 5 1568 Cauã_Matheus\\n 274  Q0 FSP950508-111 6 1564 Cauã_Matheus\\n 274  Q0 FSP950609-040 7 1561 Cauã_Matheus\\n 274  Q0 FSP950413-080 8 1559 Cauã_Matheus\\n 274  Q0 FSP950723-047 9 1559 Cauã_Matheus\\n 274  Q0 FSP950726-050 10 1559 Cauã_Matheus\\n 274  Q0 FSP951015-127 11 1559 Cauã_Matheus\\n 274  Q0 FSP950528-127 12 1558 Cauã_Matheus\\n 274  Q0 FSP950730-116 13 1558 Cauã_Matheus\\n 274  Q0 FSP950811-010 14 1557 Cauã_Matheus\\n 274  Q0 FSP950820-133 15 1557 Cauã_Matheus\\n 274  Q0 FSP950226-156 16 1556 Cauã_Matheus\\n 274  Q0 FSP950413-022 17 1556 Cauã_Matheus\\n 274  Q0 FSP950702-049 18 1556 Cauã_Matheus\\n 274  Q0 FSP950924-143 19 1556 Cauã_Matheus\\n 274  Q0 FSP951122-051 20 1556 Cauã_Matheus\\n 274  Q0 FSP950806-049 21 1555 Cauã_Matheus\\n 274  Q0 FSP950215-150 22 1554 Cauã_Matheus\\n 274  Q0 FSP950316-139 23 1553 Cauã_Matheus\\n 274  Q0 FSP950508-126 24 1553 Cauã_Matheus\\n 274  Q0 FSP950510-008 25 1553 Cauã_Matheus\\n 274  Q0 FSP950604-163 26 1553 Cauã_Matheus\\n 274  Q0 FSP950815-123 27 1553 Cauã_Matheus\\n 274  Q0 FSP950206-042 28 1552 Cauã_Matheus\\n 274  Q0 FSP950901-052 29 1552 Cauã_Matheus\\n 274  Q0 FSP950924-054 30 1552 Cauã_Matheus\\n 274  Q0 FSP951013-025 31 1552 Cauã_Matheus\\n 274  Q0 FSP950326-039 32 1551 Cauã_Matheus\\n 274  Q0 FSP950507-038 33 1551 Cauã_Matheus\\n 274  Q0 FSP951117-113 34 1551 Cauã_Matheus\\n 274  Q0 FSP950122-044 35 1550 Cauã_Matheus\\n 274  Q0 FSP950622-008 36 1550 Cauã_Matheus\\n 274  Q0 FSP950326-036 37 1549 Cauã_Matheus\\n 274  Q0 FSP950326-038 38 1549 Cauã_Matheus\\n 274  Q0 FSP950508-127 39 1549 Cauã_Matheus\\n 274  Q0 FSP950510-157 40 1549 Cauã_Matheus\\n 274  Q0 FSP950723-052 41 1549 Cauã_Matheus\\n 274  Q0 FSP950123-103 42 1548 Cauã_Matheus\\n 274  Q0 FSP950315-008 43 1548 Cauã_Matheus\\n 274  Q0 FSP950526-047 44 1548 Cauã_Matheus\\n 274  Q0 FSP950612-041 45 1548 Cauã_Matheus\\n 274  Q0 FSP950721-078 46 1548 Cauã_Matheus\\n 274  Q0 FSP950730-119 47 1548 Cauã_Matheus\\n 274  Q0 FSP950813-148 48 1548 Cauã_Matheus\\n 274  Q0 FSP950909-065 49 1548 Cauã_Matheus\\n 274  Q0 FSP950414-009 50 1547 Cauã_Matheus\\n 274  Q0 FSP950416-054 51 1547 Cauã_Matheus\\n 274  Q0 FSP950507-029 52 1547 Cauã_Matheus\\n 274  Q0 FSP950508-121 53 1547 Cauã_Matheus\\n 274  Q0 FSP950514-119 54 1547 Cauã_Matheus\\n 274  Q0 FSP950522-104 55 1547 Cauã_Matheus\\n 274  Q0 FSP950709-133 56 1547 Cauã_Matheus\\n 274  Q0 FSP950730-118 57 1547 Cauã_Matheus\\n 274  Q0 FSP950806-047 58 1547 Cauã_Matheus\\n 274  Q0 FSP951130-191 59 1547 Cauã_Matheus\\n 274  Q0 FSP950310-064 60 1546 Cauã_Matheus\\n 274  Q0 FSP950310-071 61 1546 Cauã_Matheus\\n 274  Q0 FSP950326-041 62 1546 Cauã_Matheus\\n 274  Q0 FSP950420-117 63 1546 Cauã_Matheus\\n 274  Q0 FSP950507-168 64 1546 Cauã_Matheus\\n 274  Q0 FSP950627-130 65 1546 Cauã_Matheus\\n 274  Q0 FSP950730-009 66 1546 Cauã_Matheus\\n 274  Q0 FSP950827-009 67 1546 Cauã_Matheus\\n 274  Q0 FSP951117-116 68 1546 Cauã_Matheus\\n 274  Q0 FSP951125-077 69 1546 Cauã_Matheus\\n 274  Q0 FSP950122-083 70 1545 Cauã_Matheus\\n 274  Q0 FSP950129-057 71 1545 Cauã_Matheus\\n 274  Q0 FSP950402-006 72 1545 Cauã_Matheus\\n 274  Q0 FSP950527-127 73 1545 Cauã_Matheus\\n 274  Q0 FSP950623-009 74 1545 Cauã_Matheus\\n 274  Q0 FSP950705-108 75 1545 Cauã_Matheus\\n 274  Q0 FSP950910-053 76 1545 Cauã_Matheus\\n 274  Q0 FSP951027-008 77 1545 Cauã_Matheus\\n 274  Q0 FSP951112-044 78 1545 Cauã_Matheus\\n 274  Q0 FSP951209-113 79 1545 Cauã_Matheus\\n 274  Q0 FSP950202-129 80 1544 Cauã_Matheus\\n 274  Q0 FSP950223-104 81 1544 Cauã_Matheus\\n 274  Q0 FSP950401-124 82 1544 Cauã_Matheus\\n 274  Q0 FSP950402-054 83 1544 Cauã_Matheus\\n 274  Q0 FSP950427-053 84 1544 Cauã_Matheus\\n 274  Q0 FSP950430-130 85 1544 Cauã_Matheus\\n 274  Q0 FSP950508-124 86 1544 Cauã_Matheus\\n 274  Q0 FSP950509-051 87 1544 Cauã_Matheus\\n 274  Q0 FSP950514-077 88 1544 Cauã_Matheus\\n 274  Q0 FSP950709-132 89 1544 Cauã_Matheus\\n 274  Q0 FSP950807-114 90 1544 Cauã_Matheus\\n 274  Q0 FSP951026-011 91 1544 Cauã_Matheus\\n 274  Q0 FSP951126-101 92 1544 Cauã_Matheus\\n 274  Q0 FSP951203-042 93 1544 Cauã_Matheus\\n 274  Q0 FSP950219-013 94 1543 Cauã_Matheus\\n 274  Q0 FSP950226-091 95 1543 Cauã_Matheus\\n 274  Q0 FSP950421-022 96 1543 Cauã_Matheus\\n 274  Q0 FSP950423-125 97 1543 Cauã_Matheus\\n 274  Q0 FSP950504-118 98 1543 Cauã_Matheus\\n 274  Q0 FSP950508-113 99 1543 Cauã_Matheus\\n 275  Q0 FSP950814-062 0 1609 Cauã_Matheus\\n 275  Q0 FSP950528-097 1 1579 Cauã_Matheus\\n 275  Q0 FSP950806-151 2 1579 Cauã_Matheus\\n 275  Q0 FSP950601-082 3 1569 Cauã_Matheus\\n 275  Q0 FSP950430-180 4 1568 Cauã_Matheus\\n 275  Q0 FSP950204-086 5 1567 Cauã_Matheus\\n 275  Q0 FSP950204-091 6 1567 Cauã_Matheus\\n 275  Q0 FSP950401-043 7 1562 Cauã_Matheus\\n 275  Q0 FSP950927-098 8 1561 Cauã_Matheus\\n 275  Q0 FSP950102-044 9 1558 Cauã_Matheus\\n 275  Q0 FSP950105-006 10 1558 Cauã_Matheus\\n 275  Q0 FSP950308-097 11 1558 Cauã_Matheus\\n 275  Q0 FSP950108-006 12 1557 Cauã_Matheus\\n 275  Q0 FSP950115-056 13 1557 Cauã_Matheus\\n 275  Q0 FSP950123-058 14 1556 Cauã_Matheus\\n 275  Q0 FSP950308-089 15 1556 Cauã_Matheus\\n 275  Q0 FSP950502-102 16 1556 Cauã_Matheus\\n 275  Q0 FSP950614-097 17 1555 Cauã_Matheus\\n 275  Q0 FSP950723-147 18 1555 Cauã_Matheus\\n 275  Q0 FSP950129-008 19 1554 Cauã_Matheus\\n 275  Q0 FSP951115-123 20 1554 Cauã_Matheus\\n 275  Q0 FSP951209-091 21 1553 Cauã_Matheus\\n 275  Q0 FSP950702-133 22 1552 Cauã_Matheus\\n 275  Q0 FSP950917-088 23 1552 Cauã_Matheus\\n 275  Q0 FSP951128-010 24 1552 Cauã_Matheus\\n 275  Q0 FSP951205-067 25 1551 Cauã_Matheus\\n 275  Q0 FSP950430-103 26 1550 Cauã_Matheus\\n 275  Q0 FSP950913-011 27 1550 Cauã_Matheus\\n 275  Q0 FSP950922-069 28 1549 Cauã_Matheus\\n 275  Q0 FSP950924-095 29 1549 Cauã_Matheus\\n 275  Q0 FSP951229-084 30 1549 Cauã_Matheus\\n 275  Q0 FSP950131-016 31 1548 Cauã_Matheus\\n 275  Q0 FSP950316-100 32 1548 Cauã_Matheus\\n 275  Q0 FSP950625-100 33 1548 Cauã_Matheus\\n 275  Q0 FSP950325-027 34 1547 Cauã_Matheus\\n 275  Q0 FSP950408-094 35 1547 Cauã_Matheus\\n 275  Q0 FSP950123-042 36 1546 Cauã_Matheus\\n 275  Q0 FSP950129-129 37 1546 Cauã_Matheus\\n 275  Q0 FSP950322-119 38 1546 Cauã_Matheus\\n 275  Q0 FSP950514-091 39 1546 Cauã_Matheus\\n 275  Q0 FSP950317-107 40 1545 Cauã_Matheus\\n 275  Q0 FSP951217-044 41 1543 Cauã_Matheus\\n 275  Q0 FSP950412-083 42 1542 Cauã_Matheus\\n 275  Q0 FSP951019-130 43 1542 Cauã_Matheus\\n 275  Q0 FSP950308-130 44 1541 Cauã_Matheus\\n 275  Q0 FSP950917-153 45 1541 Cauã_Matheus\\n 275  Q0 FSP950115-117 46 1539 Cauã_Matheus\\n 275  Q0 FSP950212-144 47 1539 Cauã_Matheus\\n 275  Q0 FSP951210-008 48 1539 Cauã_Matheus\\n 275  Q0 FSP950508-010 49 1538 Cauã_Matheus\\n 275  Q0 FSP950217-002 50 1537 Cauã_Matheus\\n 275  Q0 FSP950814-054 51 1537 Cauã_Matheus\\n 275  Q0 FSP950927-049 52 1537 Cauã_Matheus\\n 275  Q0 FSP951010-010 53 1537 Cauã_Matheus\\n 275  Q0 FSP950730-184 54 1536 Cauã_Matheus\\n 275  Q0 FSP951022-010 55 1536 Cauã_Matheus\\n 275  Q0 FSP951109-008 56 1536 Cauã_Matheus\\n 275  Q0 FSP950128-085 57 1531 Cauã_Matheus\\n 275  Q0 FSP951112-134 58 1531 Cauã_Matheus\\n 275  Q0 FSP950629-075 59 1530 Cauã_Matheus\\n 275  Q0 FSP950205-148 60 1529 Cauã_Matheus\\n 275  Q0 FSP950219-124 61 1529 Cauã_Matheus\\n 275  Q0 FSP950914-085 62 1529 Cauã_Matheus\\n 275  Q0 FSP951028-087 63 1529 Cauã_Matheus\\n 275  Q0 FSP950323-130 64 1528 Cauã_Matheus\\n 275  Q0 FSP950924-131 65 1528 Cauã_Matheus\\n 275  Q0 FSP951126-079 66 1528 Cauã_Matheus\\n 275  Q0 FSP950108-036 67 1527 Cauã_Matheus\\n 275  Q0 FSP950110-070 68 1527 Cauã_Matheus\\n 275  Q0 FSP950201-084 69 1527 Cauã_Matheus\\n 275  Q0 FSP950219-127 70 1527 Cauã_Matheus\\n 275  Q0 FSP950220-078 71 1527 Cauã_Matheus\\n 275  Q0 FSP950228-049 72 1527 Cauã_Matheus\\n 275  Q0 FSP950303-083 73 1527 Cauã_Matheus\\n 275  Q0 FSP950322-049 74 1527 Cauã_Matheus\\n 275  Q0 FSP950402-161 75 1527 Cauã_Matheus\\n 275  Q0 FSP950419-109 76 1527 Cauã_Matheus\\n 275  Q0 FSP950424-056 77 1527 Cauã_Matheus\\n 275  Q0 FSP950506-071 78 1527 Cauã_Matheus\\n 275  Q0 FSP950612-104 79 1527 Cauã_Matheus\\n 275  Q0 FSP950705-092 80 1527 Cauã_Matheus\\n 275  Q0 FSP950910-084 81 1527 Cauã_Matheus\\n 275  Q0 FSP950924-126 82 1527 Cauã_Matheus\\n 275  Q0 FSP951116-058 83 1527 Cauã_Matheus\\n 275  Q0 FSP951123-089 84 1527 Cauã_Matheus\\n 275  Q0 FSP951204-066 85 1527 Cauã_Matheus\\n 275  Q0 FSP951204-068 86 1527 Cauã_Matheus\\n 275  Q0 FSP951204-109 87 1527 Cauã_Matheus\\n 275  Q0 FSP950223-034 88 1526 Cauã_Matheus\\n 275  Q0 FSP950321-157 89 1526 Cauã_Matheus\\n 275  Q0 FSP950414-064 90 1526 Cauã_Matheus\\n 275  Q0 FSP950423-101 91 1526 Cauã_Matheus\\n 275  Q0 FSP950613-079 92 1526 Cauã_Matheus\\n 275  Q0 FSP950709-144 93 1526 Cauã_Matheus\\n 275  Q0 FSP950813-130 94 1526 Cauã_Matheus\\n 275  Q0 FSP951117-100 95 1526 Cauã_Matheus\\n 275  Q0 FSP951119-094 96 1526 Cauã_Matheus\\n 275  Q0 FSP951203-080 97 1526 Cauã_Matheus\\n 275  Q0 FSP951227-030 98 1526 Cauã_Matheus\\n 275  Q0 FSP950116-053 99 1525 Cauã_Matheus\\n 276  Q0 FSP950104-044 0 1624 Cauã_Matheus\\n 276  Q0 FSP950913-045 1 1618 Cauã_Matheus\\n 276  Q0 FSP950110-122 2 1609 Cauã_Matheus\\n 276  Q0 FSP950414-045 3 1605 Cauã_Matheus\\n 276  Q0 FSP950427-017 4 1603 Cauã_Matheus\\n 276  Q0 FSP951018-009 5 1602 Cauã_Matheus\\n 276  Q0 FSP950720-062 6 1598 Cauã_Matheus\\n 276  Q0 FSP951220-056 7 1596 Cauã_Matheus\\n 276  Q0 FSP950526-034 8 1594 Cauã_Matheus\\n 276  Q0 FSP950711-027 9 1594 Cauã_Matheus\\n 276  Q0 FSP951205-146 10 1594 Cauã_Matheus\\n 276  Q0 FSP950814-046 11 1593 Cauã_Matheus\\n 276  Q0 FSP950221-134 12 1592 Cauã_Matheus\\n 276  Q0 FSP950620-063 13 1592 Cauã_Matheus\\n 276  Q0 FSP950705-060 14 1588 Cauã_Matheus\\n 276  Q0 FSP950424-011 15 1587 Cauã_Matheus\\n 276  Q0 FSP950725-125 16 1587 Cauã_Matheus\\n 276  Q0 FSP950601-066 17 1583 Cauã_Matheus\\n 276  Q0 FSP950328-010 18 1581 Cauã_Matheus\\n 276  Q0 FSP950714-004 19 1581 Cauã_Matheus\\n 276  Q0 FSP950410-008 20 1579 Cauã_Matheus\\n 276  Q0 FSP950618-049 21 1579 Cauã_Matheus\\n 276  Q0 FSP950313-035 22 1578 Cauã_Matheus\\n 276  Q0 FSP950425-132 23 1578 Cauã_Matheus\\n 276  Q0 FSP950421-034 24 1577 Cauã_Matheus\\n 276  Q0 FSP950520-068 25 1575 Cauã_Matheus\\n 276  Q0 FSP950616-009 26 1575 Cauã_Matheus\\n 276  Q0 FSP950628-001 27 1575 Cauã_Matheus\\n 276  Q0 FSP950801-049 28 1575 Cauã_Matheus\\n 276  Q0 FSP950916-033 29 1575 Cauã_Matheus\\n 276  Q0 FSP950312-107 30 1572 Cauã_Matheus\\n 276  Q0 FSP950328-159 31 1572 Cauã_Matheus\\n 276  Q0 FSP951101-066 32 1572 Cauã_Matheus\\n 276  Q0 FSP950924-048 33 1569 Cauã_Matheus\\n 276  Q0 FSP950314-138 34 1567 Cauã_Matheus\\n 276  Q0 FSP950409-071 35 1567 Cauã_Matheus\\n 276  Q0 FSP950518-055 36 1567 Cauã_Matheus\\n 276  Q0 FSP950627-146 37 1567 Cauã_Matheus\\n 276  Q0 FSP950721-010 38 1567 Cauã_Matheus\\n 276  Q0 FSP951108-066 39 1567 Cauã_Matheus\\n 276  Q0 FSP951126-173 40 1567 Cauã_Matheus\\n 277  Q0 FSP950312-081 0 1554 Cauã_Matheus\\n 277  Q0 FSP950330-045 1 1549 Cauã_Matheus\\n 277  Q0 FSP950319-083 2 1547 Cauã_Matheus\\n 277  Q0 FSP950331-049 3 1537 Cauã_Matheus\\n 277  Q0 FSP950331-048 4 1536 Cauã_Matheus\\n 277  Q0 FSP950409-043 5 1536 Cauã_Matheus\\n 277  Q0 FSP950718-067 6 1535 Cauã_Matheus\\n 277  Q0 FSP950401-008 7 1533 Cauã_Matheus\\n 277  Q0 FSP950525-050 8 1526 Cauã_Matheus\\n 277  Q0 FSP950427-053 9 1525 Cauã_Matheus\\n 277  Q0 FSP950831-057 10 1521 Cauã_Matheus\\n 277  Q0 FSP950702-031 11 1519 Cauã_Matheus\\n 277  Q0 FSP950308-076 12 1516 Cauã_Matheus\\n 277  Q0 FSP950710-054 13 1516 Cauã_Matheus\\n 277  Q0 FSP950416-007 14 1515 Cauã_Matheus\\n 277  Q0 FSP950218-067 15 1510 Cauã_Matheus\\n 277  Q0 FSP950304-077 16 1510 Cauã_Matheus\\n 277  Q0 FSP950416-021 17 1510 Cauã_Matheus\\n 277  Q0 FSP950416-024 18 1510 Cauã_Matheus\\n 277  Q0 FSP950509-050 19 1510 Cauã_Matheus\\n 277  Q0 FSP950202-026 20 1509 Cauã_Matheus\\n 277  Q0 FSP950218-032 21 1509 Cauã_Matheus\\n 277  Q0 FSP950331-003 22 1509 Cauã_Matheus\\n 277  Q0 FSP950311-068 23 1508 Cauã_Matheus\\n 277  Q0 FSP950313-049 24 1508 Cauã_Matheus\\n 277  Q0 FSP950413-044 25 1508 Cauã_Matheus\\n 277  Q0 FSP950526-041 26 1508 Cauã_Matheus\\n 277  Q0 FSP950624-015 27 1508 Cauã_Matheus\\n 277  Q0 FSP950627-053 28 1508 Cauã_Matheus\\n 277  Q0 FSP950715-007 29 1508 Cauã_Matheus\\n 277  Q0 FSP950721-112 30 1508 Cauã_Matheus\\n 277  Q0 FSP951013-123 31 1508 Cauã_Matheus\\n 277  Q0 FSP951023-059 32 1508 Cauã_Matheus\\n 277  Q0 FSP950629-085 33 1507 Cauã_Matheus\\n 277  Q0 FSP950806-147 34 1507 Cauã_Matheus\\n 277  Q0 FSP950429-011 35 1506 Cauã_Matheus\\n 277  Q0 FSP950430-007 36 1506 Cauã_Matheus\\n 277  Q0 FSP951111-113 37 1506 Cauã_Matheus\\n 277  Q0 FSP950422-004 38 1497 Cauã_Matheus\\n 278  Q0 FSP951125-110 0 1685 Cauã_Matheus\\n 278  Q0 FSP951123-099 1 1655 Cauã_Matheus\\n 278  Q0 FSP950205-100 2 1654 Cauã_Matheus\\n 278  Q0 FSP950205-098 3 1651 Cauã_Matheus\\n 278  Q0 FSP950504-068 4 1642 Cauã_Matheus\\n 278  Q0 FSP951123-098 5 1642 Cauã_Matheus\\n 278  Q0 FSP950627-119 6 1636 Cauã_Matheus\\n 278  Q0 FSP950325-076 7 1626 Cauã_Matheus\\n 278  Q0 FSP950909-042 8 1619 Cauã_Matheus\\n 278  Q0 FSP951126-088 9 1616 Cauã_Matheus\\n 278  Q0 FSP950309-010 10 1609 Cauã_Matheus\\n 278  Q0 FSP950625-213 11 1609 Cauã_Matheus\\n 278  Q0 FSP950815-012 12 1609 Cauã_Matheus\\n 278  Q0 FSP951018-117 13 1609 Cauã_Matheus\\n 278  Q0 FSP950221-014 14 1604 Cauã_Matheus\\n 278  Q0 FSP950629-119 15 1604 Cauã_Matheus\\n 278  Q0 FSP950817-011 16 1604 Cauã_Matheus\\n 278  Q0 FSP951126-087 17 1604 Cauã_Matheus\\n 278  Q0 FSP950323-018 18 1603 Cauã_Matheus\\n 278  Q0 FSP950323-038 19 1603 Cauã_Matheus\\n 278  Q0 FSP950408-088 20 1603 Cauã_Matheus\\n 278  Q0 FSP950827-089 21 1603 Cauã_Matheus\\n 278  Q0 FSP950827-091 22 1603 Cauã_Matheus\\n 278  Q0 FSP951008-192 23 1603 Cauã_Matheus\\n 278  Q0 FSP951024-081 24 1603 Cauã_Matheus\\n 278  Q0 FSP951105-189 25 1603 Cauã_Matheus\\n 278  Q0 FSP951220-043 26 1603 Cauã_Matheus\\n 278  Q0 FSP950207-088 27 1597 Cauã_Matheus\\n 278  Q0 FSP950415-077 28 1597 Cauã_Matheus\\n 278  Q0 FSP950517-114 29 1597 Cauã_Matheus\\n 278  Q0 FSP950625-214 30 1597 Cauã_Matheus\\n 278  Q0 FSP950720-123 31 1597 Cauã_Matheus\\n 278  Q0 FSP950812-100 32 1597 Cauã_Matheus\\n 278  Q0 FSP950916-058 33 1597 Cauã_Matheus\\n 278  Q0 FSP950917-171 34 1597 Cauã_Matheus\\n 278  Q0 FSP951030-109 35 1597 Cauã_Matheus\\n 278  Q0 FSP950205-099 36 1585 Cauã_Matheus\\n 278  Q0 FSP950312-225 37 1585 Cauã_Matheus\\n 278  Q0 FSP950319-170 38 1585 Cauã_Matheus\\n 278  Q0 FSP950402-041 39 1585 Cauã_Matheus\\n 278  Q0 FSP950402-205 40 1585 Cauã_Matheus\\n 278  Q0 FSP950508-068 41 1585 Cauã_Matheus\\n 278  Q0 FSP950720-116 42 1585 Cauã_Matheus\\n 278  Q0 FSP950729-020 43 1585 Cauã_Matheus\\n 278  Q0 FSP950813-055 44 1585 Cauã_Matheus\\n 278  Q0 FSP950822-074 45 1585 Cauã_Matheus\\n 278  Q0 FSP950822-093 46 1585 Cauã_Matheus\\n 278  Q0 FSP950915-110 47 1585 Cauã_Matheus\\n 278  Q0 FSP950923-084 48 1585 Cauã_Matheus\\n 278  Q0 FSP951024-011 49 1585 Cauã_Matheus\\n 278  Q0 FSP951125-109 50 1585 Cauã_Matheus\\n 278  Q0 FSP951027-051 51 1583 Cauã_Matheus\\n 278  Q0 FSP950823-089 52 1582 Cauã_Matheus\\n 278  Q0 FSP951228-072 53 1582 Cauã_Matheus\\n 278  Q0 FSP950515-055 54 1581 Cauã_Matheus\\n 278  Q0 FSP950517-098 55 1581 Cauã_Matheus\\n 278  Q0 FSP950217-093 56 1578 Cauã_Matheus\\n 278  Q0 FSP950504-136 57 1578 Cauã_Matheus\\n 278  Q0 FSP950511-021 58 1578 Cauã_Matheus\\n 278  Q0 FSP950209-107 59 1576 Cauã_Matheus\\n 278  Q0 FSP950328-164 60 1576 Cauã_Matheus\\n 278  Q0 FSP950808-074 61 1576 Cauã_Matheus\\n 278  Q0 FSP950808-087 62 1576 Cauã_Matheus\\n 278  Q0 FSP950811-105 63 1576 Cauã_Matheus\\n 278  Q0 FSP950824-021 64 1576 Cauã_Matheus\\n 278  Q0 FSP951127-080 65 1576 Cauã_Matheus\\n 278  Q0 FSP950523-043 66 1574 Cauã_Matheus\\n 278  Q0 FSP950729-076 67 1574 Cauã_Matheus\\n 278  Q0 FSP950804-071 68 1574 Cauã_Matheus\\n 278  Q0 FSP950804-079 69 1574 Cauã_Matheus\\n 278  Q0 FSP950907-064 70 1574 Cauã_Matheus\\n 278  Q0 FSP950917-174 71 1574 Cauã_Matheus\\n 278  Q0 FSP951128-078 72 1574 Cauã_Matheus\\n 278  Q0 FSP951207-009 73 1574 Cauã_Matheus\\n 278  Q0 FSP950117-069 74 1570 Cauã_Matheus\\n 278  Q0 FSP950127-135 75 1570 Cauã_Matheus\\n 278  Q0 FSP950206-068 76 1570 Cauã_Matheus\\n 278  Q0 FSP950209-108 77 1570 Cauã_Matheus\\n 278  Q0 FSP950405-094 78 1570 Cauã_Matheus\\n 278  Q0 FSP950511-085 79 1570 Cauã_Matheus\\n 278  Q0 FSP950524-038 80 1570 Cauã_Matheus\\n 278  Q0 FSP950719-077 81 1570 Cauã_Matheus\\n 278  Q0 FSP950906-044 82 1570 Cauã_Matheus\\n 278  Q0 FSP951010-073 83 1570 Cauã_Matheus\\n 278  Q0 FSP951016-078 84 1570 Cauã_Matheus\\n 278  Q0 FSP951026-066 85 1570 Cauã_Matheus\\n 278  Q0 FSP951112-010 86 1570 Cauã_Matheus\\n 278  Q0 FSP951216-094 87 1570 Cauã_Matheus\\n 278  Q0 FSP950108-098 88 1565 Cauã_Matheus\\n 278  Q0 FSP950208-044 89 1565 Cauã_Matheus\\n 278  Q0 FSP950209-115 90 1565 Cauã_Matheus\\n 278  Q0 FSP950217-031 91 1565 Cauã_Matheus\\n 278  Q0 FSP950307-089 92 1565 Cauã_Matheus\\n 278  Q0 FSP950308-089 93 1565 Cauã_Matheus\\n 278  Q0 FSP950308-097 94 1565 Cauã_Matheus\\n 278  Q0 FSP950315-122 95 1565 Cauã_Matheus\\n 278  Q0 FSP950316-067 96 1565 Cauã_Matheus\\n 278  Q0 FSP950323-157 97 1565 Cauã_Matheus\\n 278  Q0 FSP950401-045 98 1565 Cauã_Matheus\\n 278  Q0 FSP950412-071 99 1565 Cauã_Matheus\\n 279  Q0 FSP950109-026 0 1601 Cauã_Matheus\\n 279  Q0 FSP950622-104 1 1535 Cauã_Matheus\\n 279  Q0 FSP951208-143 2 1535 Cauã_Matheus\\n 279  Q0 FSP950427-111 3 1534 Cauã_Matheus\\n 279  Q0 FSP950905-107 4 1534 Cauã_Matheus\\n 279  Q0 FSP950228-110 5 1531 Cauã_Matheus\\n 279  Q0 FSP950427-110 6 1531 Cauã_Matheus\\n 279  Q0 FSP950620-052 7 1531 Cauã_Matheus\\n 279  Q0 FSP950622-106 8 1531 Cauã_Matheus\\n 279  Q0 FSP950728-098 9 1531 Cauã_Matheus\\n 279  Q0 FSP950812-066 10 1531 Cauã_Matheus\\n 279  Q0 FSP951011-125 11 1531 Cauã_Matheus\\n 279  Q0 FSP951125-066 12 1531 Cauã_Matheus\\n 279  Q0 FSP951226-068 13 1531 Cauã_Matheus\\n 279  Q0 FSP950803-096 14 1529 Cauã_Matheus\\n 279  Q0 FSP950214-074 15 1528 Cauã_Matheus\\n 279  Q0 FSP950707-041 16 1528 Cauã_Matheus\\n 279  Q0 FSP950106-106 17 1527 Cauã_Matheus\\n 279  Q0 FSP950120-053 18 1527 Cauã_Matheus\\n 279  Q0 FSP950224-016 19 1527 Cauã_Matheus\\n 279  Q0 FSP950305-151 20 1527 Cauã_Matheus\\n 279  Q0 FSP950415-080 21 1527 Cauã_Matheus\\n 279  Q0 FSP950814-036 22 1527 Cauã_Matheus\\n 279  Q0 FSP950821-055 23 1527 Cauã_Matheus\\n 279  Q0 FSP950121-046 24 1526 Cauã_Matheus\\n 279  Q0 FSP950301-039 25 1526 Cauã_Matheus\\n 279  Q0 FSP950414-104 26 1526 Cauã_Matheus\\n 279  Q0 FSP950423-157 27 1526 Cauã_Matheus\\n 279  Q0 FSP950514-147 28 1526 Cauã_Matheus\\n 279  Q0 FSP950531-103 29 1526 Cauã_Matheus\\n 279  Q0 FSP950620-100 30 1526 Cauã_Matheus\\n 279  Q0 FSP950715-036 31 1526 Cauã_Matheus\\n 279  Q0 FSP950720-065 32 1526 Cauã_Matheus\\n 279  Q0 FSP950725-137 33 1526 Cauã_Matheus\\n 279  Q0 FSP950804-095 34 1526 Cauã_Matheus\\n 279  Q0 FSP950809-100 35 1526 Cauã_Matheus\\n 279  Q0 FSP950809-110 36 1526 Cauã_Matheus\\n 279  Q0 FSP950811-137 37 1526 Cauã_Matheus\\n 279  Q0 FSP950812-062 38 1526 Cauã_Matheus\\n 279  Q0 FSP950814-043 39 1526 Cauã_Matheus\\n 279  Q0 FSP950816-122 40 1526 Cauã_Matheus\\n 279  Q0 FSP950830-027 41 1526 Cauã_Matheus\\n 279  Q0 FSP951009-105 42 1526 Cauã_Matheus\\n 279  Q0 FSP951112-192 43 1526 Cauã_Matheus\\n 279  Q0 FSP951118-057 44 1526 Cauã_Matheus\\n 279  Q0 FSP951120-120 45 1526 Cauã_Matheus\\n 279  Q0 FSP951129-068 46 1526 Cauã_Matheus\\n 279  Q0 FSP951207-059 47 1526 Cauã_Matheus\\n 279  Q0 FSP951207-063 48 1526 Cauã_Matheus\\n 279  Q0 FSP951215-135 49 1526 Cauã_Matheus\\n 279  Q0 FSP951222-053 50 1526 Cauã_Matheus\\n 279  Q0 FSP950214-071 51 1525 Cauã_Matheus\\n 279  Q0 FSP950403-096 52 1525 Cauã_Matheus\\n 279  Q0 FSP950612-100 53 1525 Cauã_Matheus\\n 279  Q0 FSP950720-105 54 1525 Cauã_Matheus\\n 279  Q0 FSP950929-123 55 1525 Cauã_Matheus\\n 279  Q0 FSP951226-026 56 1525 Cauã_Matheus\\n 279  Q0 FSP950117-100 57 1524 Cauã_Matheus\\n 279  Q0 FSP950128-048 58 1524 Cauã_Matheus\\n 279  Q0 FSP950417-098 59 1524 Cauã_Matheus\\n 279  Q0 FSP950723-146 60 1524 Cauã_Matheus\\n 279  Q0 FSP950806-103 61 1524 Cauã_Matheus\\n 279  Q0 FSP950917-127 62 1524 Cauã_Matheus\\n 279  Q0 FSP951007-111 63 1524 Cauã_Matheus\\n 279  Q0 FSP951021-052 64 1524 Cauã_Matheus\\n 279  Q0 FSP950212-115 65 1523 Cauã_Matheus\\n 279  Q0 FSP950416-147 66 1523 Cauã_Matheus\\n 279  Q0 FSP950920-101 67 1523 Cauã_Matheus\\n 279  Q0 FSP951220-050 68 1523 Cauã_Matheus\\n 279  Q0 FSP950110-109 69 1522 Cauã_Matheus\\n 279  Q0 FSP950129-094 70 1522 Cauã_Matheus\\n 279  Q0 FSP950206-044 71 1522 Cauã_Matheus\\n 279  Q0 FSP950228-043 72 1522 Cauã_Matheus\\n 279  Q0 FSP950304-064 73 1522 Cauã_Matheus\\n 279  Q0 FSP950308-087 74 1522 Cauã_Matheus\\n 279  Q0 FSP950403-100 75 1522 Cauã_Matheus\\n 279  Q0 FSP950406-117 76 1522 Cauã_Matheus\\n 279  Q0 FSP950412-100 77 1522 Cauã_Matheus\\n 279  Q0 FSP950418-108 78 1522 Cauã_Matheus\\n 279  Q0 FSP950503-004 79 1522 Cauã_Matheus\\n 279  Q0 FSP950522-081 80 1522 Cauã_Matheus\\n 279  Q0 FSP950528-174 81 1522 Cauã_Matheus\\n 279  Q0 FSP950531-082 82 1522 Cauã_Matheus\\n 279  Q0 FSP950612-075 83 1522 Cauã_Matheus\\n 279  Q0 FSP950613-080 84 1522 Cauã_Matheus\\n 279  Q0 FSP950702-118 85 1522 Cauã_Matheus\\n 279  Q0 FSP950807-087 86 1522 Cauã_Matheus\\n 279  Q0 FSP950811-133 87 1522 Cauã_Matheus\\n 279  Q0 FSP950820-002 88 1522 Cauã_Matheus\\n 279  Q0 FSP950913-108 89 1522 Cauã_Matheus\\n 279  Q0 FSP950924-109 90 1522 Cauã_Matheus\\n 279  Q0 FSP951014-009 91 1522 Cauã_Matheus\\n 279  Q0 FSP951015-102 92 1522 Cauã_Matheus\\n 279  Q0 FSP951023-038 93 1522 Cauã_Matheus\\n 279  Q0 FSP951130-164 94 1522 Cauã_Matheus\\n 279  Q0 FSP951206-047 95 1522 Cauã_Matheus\\n 279  Q0 FSP951216-069 96 1522 Cauã_Matheus\\n 279  Q0 FSP951220-053 97 1522 Cauã_Matheus\\n 279  Q0 FSP951221-143 98 1522 Cauã_Matheus\\n 279  Q0 FSP951223-085 99 1522 Cauã_Matheus\\n 280  Q0 FSP950903-032 0 1599 Cauã_Matheus\\n 280  Q0 FSP950922-070 1 1591 Cauã_Matheus\\n 280  Q0 FSP950924-101 2 1591 Cauã_Matheus\\n 280  Q0 FSP950924-103 3 1591 Cauã_Matheus\\n 280  Q0 FSP951216-107 4 1588 Cauã_Matheus\\n 280  Q0 FSP950920-076 5 1587 Cauã_Matheus\\n 280  Q0 FSP950430-002 6 1586 Cauã_Matheus\\n 280  Q0 FSP950923-028 7 1585 Cauã_Matheus\\n 280  Q0 FSP950925-053 8 1585 Cauã_Matheus\\n 280  Q0 FSP950817-124 9 1584 Cauã_Matheus\\n 280  Q0 FSP950227-043 10 1583 Cauã_Matheus\\n 280  Q0 FSP950911-076 11 1583 Cauã_Matheus\\n 280  Q0 FSP950208-121 12 1582 Cauã_Matheus\\n 280  Q0 FSP950920-077 13 1581 Cauã_Matheus\\n 280  Q0 FSP950928-081 14 1581 Cauã_Matheus\\n 280  Q0 FSP950928-082 15 1581 Cauã_Matheus\\n 280  Q0 FSP951001-127 16 1581 Cauã_Matheus\\n 280  Q0 FSP951122-040 17 1581 Cauã_Matheus\\n 280  Q0 FSP951220-046 18 1581 Cauã_Matheus\\n 280  Q0 FSP950922-071 19 1580 Cauã_Matheus\\n 280  Q0 FSP950520-036 20 1578 Cauã_Matheus\\n 280  Q0 FSP951029-042 21 1577 Cauã_Matheus\\n 280  Q0 FSP950922-072 22 1576 Cauã_Matheus\\n 280  Q0 FSP950924-012 23 1576 Cauã_Matheus\\n 280  Q0 FSP950923-029 24 1575 Cauã_Matheus\\n 280  Q0 FSP950919-121 25 1574 Cauã_Matheus\\n 280  Q0 FSP950922-088 26 1574 Cauã_Matheus\\n 280  Q0 FSP951126-100 27 1574 Cauã_Matheus\\n 280  Q0 FSP951201-129 28 1574 Cauã_Matheus\\n 280  Q0 FSP950223-114 29 1573 Cauã_Matheus\\n 280  Q0 FSP950429-094 30 1573 Cauã_Matheus\\n 280  Q0 FSP950201-027 31 1571 Cauã_Matheus\\n 280  Q0 FSP950201-043 32 1571 Cauã_Matheus\\n 280  Q0 FSP950814-070 33 1571 Cauã_Matheus\\n 280  Q0 FSP950902-049 34 1571 Cauã_Matheus\\n 280  Q0 FSP950920-048 35 1571 Cauã_Matheus\\n 280  Q0 FSP950922-074 36 1571 Cauã_Matheus\\n 280  Q0 FSP951006-131 37 1571 Cauã_Matheus\\n 280  Q0 FSP950122-113 38 1570 Cauã_Matheus\\n 280  Q0 FSP950516-071 39 1570 Cauã_Matheus\\n 280  Q0 FSP950919-124 40 1570 Cauã_Matheus\\n 280  Q0 FSP950321-135 41 1569 Cauã_Matheus\\n 280  Q0 FSP950519-124 42 1568 Cauã_Matheus\\n 280  Q0 FSP951023-041 43 1568 Cauã_Matheus\\n 280  Q0 FSP951029-011 44 1568 Cauã_Matheus\\n 280  Q0 FSP950428-072 45 1565 Cauã_Matheus\\n 280  Q0 FSP950823-128 46 1565 Cauã_Matheus\\n 280  Q0 FSP950925-036 47 1565 Cauã_Matheus\\n 280  Q0 FSP950929-079 48 1565 Cauã_Matheus\\n 280  Q0 FSP951016-039 49 1565 Cauã_Matheus\\n 280  Q0 FSP951018-135 50 1565 Cauã_Matheus\\n 280  Q0 FSP951101-046 51 1565 Cauã_Matheus\\n 280  Q0 FSP951130-061 52 1565 Cauã_Matheus\\n 280  Q0 FSP951206-047 53 1565 Cauã_Matheus\\n 280  Q0 FSP951215-100 54 1565 Cauã_Matheus\\n 280  Q0 FSP951215-112 55 1565 Cauã_Matheus\\n 280  Q0 FSP951022-115 56 1563 Cauã_Matheus\\n 280  Q0 FSP950106-032 57 1562 Cauã_Matheus\\n 280  Q0 FSP950131-098 58 1562 Cauã_Matheus\\n 280  Q0 FSP950207-122 59 1562 Cauã_Matheus\\n 280  Q0 FSP950212-082 60 1562 Cauã_Matheus\\n 280  Q0 FSP950627-130 61 1562 Cauã_Matheus\\n 280  Q0 FSP950729-071 62 1562 Cauã_Matheus\\n 280  Q0 FSP951001-129 63 1562 Cauã_Matheus\\n 280  Q0 FSP951001-131 64 1562 Cauã_Matheus\\n 280  Q0 FSP951011-047 65 1562 Cauã_Matheus\\n 280  Q0 FSP951023-042 66 1562 Cauã_Matheus\\n 280  Q0 FSP951102-131 67 1562 Cauã_Matheus\\n 280  Q0 FSP951110-058 68 1562 Cauã_Matheus\\n 280  Q0 FSP950430-130 69 1561 Cauã_Matheus\\n 280  Q0 FSP950523-125 70 1561 Cauã_Matheus\\n 280  Q0 FSP950920-078 71 1561 Cauã_Matheus\\n 280  Q0 FSP951029-054 72 1561 Cauã_Matheus\\n 280  Q0 FSP950813-055 73 1560 Cauã_Matheus\\n 280  Q0 FSP950625-132 74 1559 Cauã_Matheus\\n 280  Q0 FSP951009-102 75 1559 Cauã_Matheus\\n 280  Q0 FSP951026-109 76 1559 Cauã_Matheus\\n 280  Q0 FSP951102-068 77 1559 Cauã_Matheus\\n 280  Q0 FSP951207-129 78 1559 Cauã_Matheus\\n 280  Q0 FSP950114-092 79 1558 Cauã_Matheus\\n 280  Q0 FSP950116-087 80 1558 Cauã_Matheus\\n 280  Q0 FSP950122-095 81 1558 Cauã_Matheus\\n 280  Q0 FSP950129-084 82 1558 Cauã_Matheus\\n 280  Q0 FSP950204-110 83 1558 Cauã_Matheus\\n 280  Q0 FSP950308-072 84 1558 Cauã_Matheus\\n 280  Q0 FSP950331-050 85 1558 Cauã_Matheus\\n 280  Q0 FSP950810-104 86 1558 Cauã_Matheus\\n 280  Q0 FSP950813-056 87 1558 Cauã_Matheus\\n 280  Q0 FSP950921-085 88 1558 Cauã_Matheus\\n 280  Q0 FSP951015-167 89 1558 Cauã_Matheus\\n 280  Q0 FSP951112-027 90 1558 Cauã_Matheus\\n 280  Q0 FSP950129-049 91 1557 Cauã_Matheus\\n 280  Q0 FSP950220-060 92 1557 Cauã_Matheus\\n 280  Q0 FSP950305-118 93 1557 Cauã_Matheus\\n 280  Q0 FSP950319-057 94 1557 Cauã_Matheus\\n 280  Q0 FSP950418-107 95 1557 Cauã_Matheus\\n 280  Q0 FSP950624-076 96 1557 Cauã_Matheus\\n 280  Q0 FSP951104-053 97 1557 Cauã_Matheus\\n 280  Q0 FSP951116-088 98 1557 Cauã_Matheus\\n 280  Q0 FSP951119-047 99 1557 Cauã_Matheus\\n 281  Q0 FSP950611-045 0 1741 Cauã_Matheus\\n 281  Q0 FSP951216-068 1 1721 Cauã_Matheus\\n 281  Q0 FSP950720-054 2 1714 Cauã_Matheus\\n 281  Q0 FSP951128-048 3 1714 Cauã_Matheus\\n 281  Q0 FSP951216-074 4 1714 Cauã_Matheus\\n 281  Q0 FSP950703-030 5 1700 Cauã_Matheus\\n 281  Q0 FSP950805-057 6 1692 Cauã_Matheus\\n 281  Q0 FSP951010-039 7 1686 Cauã_Matheus\\n 281  Q0 FSP951122-050 8 1686 Cauã_Matheus\\n 281  Q0 FSP950614-066 9 1683 Cauã_Matheus\\n 281  Q0 FSP950717-038 10 1683 Cauã_Matheus\\n 281  Q0 FSP950727-004 11 1683 Cauã_Matheus\\n 281  Q0 FSP950503-046 12 1674 Cauã_Matheus\\n 281  Q0 FSP950715-046 13 1674 Cauã_Matheus\\n 281  Q0 FSP950901-046 14 1674 Cauã_Matheus\\n 281  Q0 FSP950902-055 15 1674 Cauã_Matheus\\n 281  Q0 FSP951125-064 16 1674 Cauã_Matheus\\n 281  Q0 FSP951125-074 17 1674 Cauã_Matheus\\n 281  Q0 FSP950325-045 18 1661 Cauã_Matheus\\n 281  Q0 FSP950602-042 19 1661 Cauã_Matheus\\n 281  Q0 FSP950613-054 20 1661 Cauã_Matheus\\n 281  Q0 FSP950618-047 21 1661 Cauã_Matheus\\n 281  Q0 FSP950713-042 22 1661 Cauã_Matheus\\n 281  Q0 FSP950722-052 23 1661 Cauã_Matheus\\n 281  Q0 FSP950729-052 24 1661 Cauã_Matheus\\n 281  Q0 FSP951019-049 25 1661 Cauã_Matheus\\n 281  Q0 FSP951028-055 26 1661 Cauã_Matheus\\n 281  Q0 FSP951107-053 27 1661 Cauã_Matheus\\n 281  Q0 FSP951124-062 28 1661 Cauã_Matheus\\n 281  Q0 FSP951126-046 29 1661 Cauã_Matheus\\n 281  Q0 FSP951206-045 30 1661 Cauã_Matheus\\n 281  Q0 FSP951219-043 31 1661 Cauã_Matheus\\n 281  Q0 FSP950303-061 32 1635 Cauã_Matheus\\n 281  Q0 FSP950329-056 33 1635 Cauã_Matheus\\n 281  Q0 FSP950421-048 34 1635 Cauã_Matheus\\n 281  Q0 FSP950426-049 35 1635 Cauã_Matheus\\n 281  Q0 FSP950505-003 36 1635 Cauã_Matheus\\n 281  Q0 FSP950509-052 37 1635 Cauã_Matheus\\n 281  Q0 FSP950513-034 38 1635 Cauã_Matheus\\n 281  Q0 FSP950521-049 39 1635 Cauã_Matheus\\n 281  Q0 FSP950531-052 40 1635 Cauã_Matheus\\n 281  Q0 FSP950606-050 41 1635 Cauã_Matheus\\n 281  Q0 FSP950607-051 42 1635 Cauã_Matheus\\n 281  Q0 FSP950610-046 43 1635 Cauã_Matheus\\n 281  Q0 FSP950612-036 44 1635 Cauã_Matheus\\n 281  Q0 FSP950613-055 45 1635 Cauã_Matheus\\n 281  Q0 FSP950621-037 46 1635 Cauã_Matheus\\n 281  Q0 FSP950711-062 47 1635 Cauã_Matheus\\n 281  Q0 FSP950712-043 48 1635 Cauã_Matheus\\n 281  Q0 FSP950713-041 49 1635 Cauã_Matheus\\n 281  Q0 FSP950717-039 50 1635 Cauã_Matheus\\n 281  Q0 FSP950718-041 51 1635 Cauã_Matheus\\n 281  Q0 FSP950719-046 52 1635 Cauã_Matheus\\n 281  Q0 FSP950720-049 53 1635 Cauã_Matheus\\n 281  Q0 FSP950726-050 54 1635 Cauã_Matheus\\n 281  Q0 FSP950728-048 55 1635 Cauã_Matheus\\n 281  Q0 FSP950811-057 56 1635 Cauã_Matheus\\n 281  Q0 FSP950811-061 57 1635 Cauã_Matheus\\n 281  Q0 FSP950820-050 58 1635 Cauã_Matheus\\n 281  Q0 FSP950827-051 59 1635 Cauã_Matheus\\n 281  Q0 FSP950827-055 60 1635 Cauã_Matheus\\n 281  Q0 FSP950827-056 61 1635 Cauã_Matheus\\n 281  Q0 FSP950829-044 62 1635 Cauã_Matheus\\n 281  Q0 FSP950830-051 63 1635 Cauã_Matheus\\n 281  Q0 FSP950831-065 64 1635 Cauã_Matheus\\n 281  Q0 FSP950831-067 65 1635 Cauã_Matheus\\n 281  Q0 FSP950831-068 66 1635 Cauã_Matheus\\n 281  Q0 FSP951020-055 67 1635 Cauã_Matheus\\n 281  Q0 FSP951101-045 68 1635 Cauã_Matheus\\n 281  Q0 FSP951102-049 69 1635 Cauã_Matheus\\n 281  Q0 FSP951104-034 70 1635 Cauã_Matheus\\n 281  Q0 FSP951117-043 71 1635 Cauã_Matheus\\n 281  Q0 FSP951122-048 72 1635 Cauã_Matheus\\n 281  Q0 FSP951122-054 73 1635 Cauã_Matheus\\n 281  Q0 FSP951122-055 74 1635 Cauã_Matheus\\n 281  Q0 FSP951130-062 75 1635 Cauã_Matheus\\n 281  Q0 FSP951211-040 76 1635 Cauã_Matheus\\n 281  Q0 FSP950820-125 77 1593 Cauã_Matheus\\n 281  Q0 FSP950226-144 78 1568 Cauã_Matheus\\n 281  Q0 FSP950723-045 79 1567 Cauã_Matheus\\n 282  Q0 FSP950215-096 0 1629 Cauã_Matheus\\n 282  Q0 FSP950215-074 1 1618 Cauã_Matheus\\n 282  Q0 FSP950706-009 2 1616 Cauã_Matheus\\n 282  Q0 FSP951016-039 3 1611 Cauã_Matheus\\n 282  Q0 FSP951129-025 4 1610 Cauã_Matheus\\n 282  Q0 FSP950217-038 5 1593 Cauã_Matheus\\n 282  Q0 FSP951209-088 6 1588 Cauã_Matheus\\n 282  Q0 FSP950401-088 7 1587 Cauã_Matheus\\n 282  Q0 FSP951113-012 8 1584 Cauã_Matheus\\n 282  Q0 FSP950331-085 9 1583 Cauã_Matheus\\n 282  Q0 FSP950108-042 10 1578 Cauã_Matheus\\n 282  Q0 FSP950212-003 11 1576 Cauã_Matheus\\n 282  Q0 FSP950202-056 12 1575 Cauã_Matheus\\n 282  Q0 FSP950219-042 13 1575 Cauã_Matheus\\n 282  Q0 FSP950716-023 14 1574 Cauã_Matheus\\n 282  Q0 FSP950716-025 15 1574 Cauã_Matheus\\n 282  Q0 FSP951022-115 16 1573 Cauã_Matheus\\n 282  Q0 FSP950210-005 17 1571 Cauã_Matheus\\n 282  Q0 FSP950215-097 18 1570 Cauã_Matheus\\n 282  Q0 FSP950715-024 19 1570 Cauã_Matheus\\n 282  Q0 FSP950402-104 20 1569 Cauã_Matheus\\n 282  Q0 FSP951001-127 21 1569 Cauã_Matheus\\n 282  Q0 FSP950707-001 22 1568 Cauã_Matheus\\n 282  Q0 FSP951105-046 23 1563 Cauã_Matheus\\n 282  Q0 FSP950926-011 24 1560 Cauã_Matheus\\n 282  Q0 FSP950109-083 25 1555 Cauã_Matheus\\n 282  Q0 FSP950110-036 26 1555 Cauã_Matheus\\n 282  Q0 FSP950307-028 27 1555 Cauã_Matheus\\n 282  Q0 FSP950524-026 28 1555 Cauã_Matheus\\n 282  Q0 FSP950524-086 29 1555 Cauã_Matheus\\n 282  Q0 FSP950709-184 30 1555 Cauã_Matheus\\n 282  Q0 FSP950731-099 31 1555 Cauã_Matheus\\n 282  Q0 FSP950820-125 32 1555 Cauã_Matheus\\n 282  Q0 FSP950108-076 33 1553 Cauã_Matheus\\n 282  Q0 FSP950113-096 34 1553 Cauã_Matheus\\n 282  Q0 FSP950302-058 35 1553 Cauã_Matheus\\n 282  Q0 FSP950328-094 36 1553 Cauã_Matheus\\n 282  Q0 FSP950328-119 37 1553 Cauã_Matheus\\n 282  Q0 FSP950418-043 38 1553 Cauã_Matheus\\n 282  Q0 FSP950418-048 39 1553 Cauã_Matheus\\n 282  Q0 FSP950702-100 40 1553 Cauã_Matheus\\n 282  Q0 FSP951014-074 41 1553 Cauã_Matheus\\n 282  Q0 FSP951014-088 42 1553 Cauã_Matheus\\n 282  Q0 FSP951021-036 43 1553 Cauã_Matheus\\n 282  Q0 FSP950105-080 44 1552 Cauã_Matheus\\n 282  Q0 FSP950302-026 45 1552 Cauã_Matheus\\n 282  Q0 FSP950309-037 46 1552 Cauã_Matheus\\n 282  Q0 FSP950322-120 47 1552 Cauã_Matheus\\n 282  Q0 FSP950402-098 48 1552 Cauã_Matheus\\n 282  Q0 FSP950403-076 49 1552 Cauã_Matheus\\n 282  Q0 FSP950701-008 50 1552 Cauã_Matheus\\n 282  Q0 FSP950807-061 51 1552 Cauã_Matheus\\n 282  Q0 FSP950812-051 52 1552 Cauã_Matheus\\n 282  Q0 FSP950908-069 53 1552 Cauã_Matheus\\n 282  Q0 FSP951113-093 54 1552 Cauã_Matheus\\n 282  Q0 FSP950129-118 55 1551 Cauã_Matheus\\n 282  Q0 FSP950314-139 56 1551 Cauã_Matheus\\n 282  Q0 FSP950410-009 57 1551 Cauã_Matheus\\n 282  Q0 FSP950526-010 58 1551 Cauã_Matheus\\n 282  Q0 FSP950625-003 59 1551 Cauã_Matheus\\n 282  Q0 FSP950712-072 60 1551 Cauã_Matheus\\n 282  Q0 FSP951028-078 61 1551 Cauã_Matheus\\n 282  Q0 FSP951029-045 62 1551 Cauã_Matheus\\n 282  Q0 FSP951230-005 63 1551 Cauã_Matheus\\n 282  Q0 FSP950514-109 64 1550 Cauã_Matheus\\n 282  Q0 FSP950828-011 65 1550 Cauã_Matheus\\n 282  Q0 FSP951122-012 66 1545 Cauã_Matheus\\n 282  Q0 FSP950709-044 67 1541 Cauã_Matheus\\n 282  Q0 FSP951127-012 68 1541 Cauã_Matheus\\n 282  Q0 FSP950713-064 69 1538 Cauã_Matheus\\n 282  Q0 FSP951028-010 70 1538 Cauã_Matheus\\n 282  Q0 FSP950923-070 71 1536 Cauã_Matheus\\n 282  Q0 FSP950403-151 72 1534 Cauã_Matheus\\n 283  Q0 FSP951113-084 0 1660 Cauã_Matheus\\n 283  Q0 FSP950124-107 1 1654 Cauã_Matheus\\n 283  Q0 FSP951208-138 2 1654 Cauã_Matheus\\n 283  Q0 FSP950504-106 3 1633 Cauã_Matheus\\n 283  Q0 FSP950430-169 4 1620 Cauã_Matheus\\n 283  Q0 FSP950512-104 5 1600 Cauã_Matheus\\n 283  Q0 FSP950417-104 6 1597 Cauã_Matheus\\n 283  Q0 FSP950903-174 7 1588 Cauã_Matheus\\n 283  Q0 FSP950618-171 8 1585 Cauã_Matheus\\n 283  Q0 FSP950720-109 9 1585 Cauã_Matheus\\n 283  Q0 FSP950129-107 10 1582 Cauã_Matheus\\n 283  Q0 FSP950625-196 11 1579 Cauã_Matheus\\n 283  Q0 FSP951130-136 12 1579 Cauã_Matheus\\n 283  Q0 FSP950412-106 13 1577 Cauã_Matheus\\n 283  Q0 FSP950507-099 14 1577 Cauã_Matheus\\n 283  Q0 FSP950129-109 15 1574 Cauã_Matheus\\n 283  Q0 FSP951228-112 16 1574 Cauã_Matheus\\n 283  Q0 FSP950409-156 17 1573 Cauã_Matheus\\n 283  Q0 FSP950410-111 18 1573 Cauã_Matheus\\n 283  Q0 FSP950829-109 19 1573 Cauã_Matheus\\n 283  Q0 FSP951121-130 20 1573 Cauã_Matheus\\n 283  Q0 FSP950922-117 21 1572 Cauã_Matheus\\n 283  Q0 FSP950302-111 22 1570 Cauã_Matheus\\n 283  Q0 FSP950422-114 23 1569 Cauã_Matheus\\n 283  Q0 FSP950501-081 24 1565 Cauã_Matheus\\n 283  Q0 FSP950312-176 25 1564 Cauã_Matheus\\n 283  Q0 FSP951011-115 26 1564 Cauã_Matheus\\n 283  Q0 FSP950123-099 27 1562 Cauã_Matheus\\n 283  Q0 FSP950219-140 28 1562 Cauã_Matheus\\n 283  Q0 FSP950321-126 29 1562 Cauã_Matheus\\n 283  Q0 FSP950516-097 30 1562 Cauã_Matheus\\n 283  Q0 FSP950526-097 31 1562 Cauã_Matheus\\n 283  Q0 FSP950910-144 32 1562 Cauã_Matheus\\n 283  Q0 FSP951015-111 33 1562 Cauã_Matheus\\n 283  Q0 FSP951121-136 34 1562 Cauã_Matheus\\n 283  Q0 FSP951210-095 35 1562 Cauã_Matheus\\n 283  Q0 FSP950117-110 36 1561 Cauã_Matheus\\n 283  Q0 FSP950602-099 37 1561 Cauã_Matheus\\n 283  Q0 FSP950808-113 38 1561 Cauã_Matheus\\n 283  Q0 FSP950814-094 39 1560 Cauã_Matheus\\n 283  Q0 FSP950409-154 40 1556 Cauã_Matheus\\n 283  Q0 FSP950807-077 41 1556 Cauã_Matheus\\n 283  Q0 FSP951130-209 42 1556 Cauã_Matheus\\n 283  Q0 FSP950129-102 43 1555 Cauã_Matheus\\n 283  Q0 FSP950205-160 44 1555 Cauã_Matheus\\n 283  Q0 FSP950312-201 45 1555 Cauã_Matheus\\n 283  Q0 FSP950406-114 46 1555 Cauã_Matheus\\n 283  Q0 FSP950511-007 47 1555 Cauã_Matheus\\n 283  Q0 FSP950907-108 48 1555 Cauã_Matheus\\n 283  Q0 FSP950917-138 49 1555 Cauã_Matheus\\n 283  Q0 FSP951012-114 50 1555 Cauã_Matheus\\n 283  Q0 FSP951015-124 51 1555 Cauã_Matheus\\n 283  Q0 FSP951018-130 52 1555 Cauã_Matheus\\n 283  Q0 FSP951203-101 53 1555 Cauã_Matheus\\n 283  Q0 FSP951230-095 54 1555 Cauã_Matheus\\n 283  Q0 FSP950523-121 55 1554 Cauã_Matheus\\n 283  Q0 FSP950907-110 56 1554 Cauã_Matheus\\n 283  Q0 FSP951023-125 57 1554 Cauã_Matheus\\n 283  Q0 FSP950126-107 58 1553 Cauã_Matheus\\n 283  Q0 FSP950302-087 59 1553 Cauã_Matheus\\n 283  Q0 FSP950619-084 60 1553 Cauã_Matheus\\n 283  Q0 FSP950808-109 61 1553 Cauã_Matheus\\n 283  Q0 FSP951006-138 62 1553 Cauã_Matheus\\n 283  Q0 FSP951012-115 63 1553 Cauã_Matheus\\n 283  Q0 FSP951207-127 64 1553 Cauã_Matheus\\n 283  Q0 FSP951218-087 65 1553 Cauã_Matheus\\n 283  Q0 FSP950418-104 66 1552 Cauã_Matheus\\n 283  Q0 FSP950516-109 67 1552 Cauã_Matheus\\n 283  Q0 FSP950526-101 68 1552 Cauã_Matheus\\n 283  Q0 FSP951102-115 69 1552 Cauã_Matheus\\n 283  Q0 FSP951112-161 70 1552 Cauã_Matheus\\n 283  Q0 FSP950125-110 71 1551 Cauã_Matheus\\n 283  Q0 FSP950518-086 72 1551 Cauã_Matheus\\n 283  Q0 FSP950803-096 73 1551 Cauã_Matheus\\n 283  Q0 FSP950122-177 74 1550 Cauã_Matheus\\n 283  Q0 FSP950220-108 75 1550 Cauã_Matheus\\n 283  Q0 FSP950527-118 76 1550 Cauã_Matheus\\n 283  Q0 FSP950805-107 77 1550 Cauã_Matheus\\n 283  Q0 FSP951002-107 78 1550 Cauã_Matheus\\n 283  Q0 FSP951006-119 79 1550 Cauã_Matheus\\n 283  Q0 FSP951125-137 80 1550 Cauã_Matheus\\n 283  Q0 FSP951127-118 81 1550 Cauã_Matheus\\n 283  Q0 FSP951210-152 82 1550 Cauã_Matheus\\n 283  Q0 FSP950308-156 83 1549 Cauã_Matheus\\n 283  Q0 FSP950313-091 84 1549 Cauã_Matheus\\n 283  Q0 FSP950517-126 85 1549 Cauã_Matheus\\n 283  Q0 FSP950712-107 86 1549 Cauã_Matheus\\n 283  Q0 FSP950801-120 87 1549 Cauã_Matheus\\n 283  Q0 FSP950820-069 88 1549 Cauã_Matheus\\n 283  Q0 FSP950831-128 89 1549 Cauã_Matheus\\n 283  Q0 FSP950906-129 90 1549 Cauã_Matheus\\n 283  Q0 FSP950924-143 91 1549 Cauã_Matheus\\n 283  Q0 FSP951012-125 92 1549 Cauã_Matheus\\n 283  Q0 FSP951201-137 93 1549 Cauã_Matheus\\n 283  Q0 FSP951210-092 94 1549 Cauã_Matheus\\n 283  Q0 FSP951220-112 95 1549 Cauã_Matheus\\n 283  Q0 FSP951224-120 96 1549 Cauã_Matheus\\n 283  Q0 FSP950516-098 97 1548 Cauã_Matheus\\n 283  Q0 FSP950911-076 98 1548 Cauã_Matheus\\n 283  Q0 FSP951012-130 99 1548 Cauã_Matheus\\n 284  Q0 FSP951015-136 0 1582 Cauã_Matheus\\n 284  Q0 FSP951116-023 1 1578 Cauã_Matheus\\n 284  Q0 FSP950730-132 2 1576 Cauã_Matheus\\n 284  Q0 FSP950825-124 3 1572 Cauã_Matheus\\n 284  Q0 FSP950207-033 4 1567 Cauã_Matheus\\n 284  Q0 FSP950820-202 5 1566 Cauã_Matheus\\n 284  Q0 FSP950314-038 6 1563 Cauã_Matheus\\n 284  Q0 FSP950820-205 7 1563 Cauã_Matheus\\n 284  Q0 FSP950314-039 8 1561 Cauã_Matheus\\n 284  Q0 FSP951118-060 9 1561 Cauã_Matheus\\n 284  Q0 FSP950820-204 10 1555 Cauã_Matheus\\n 284  Q0 FSP950212-072 11 1554 Cauã_Matheus\\n 284  Q0 FSP950830-130 12 1554 Cauã_Matheus\\n 284  Q0 FSP950629-106 13 1553 Cauã_Matheus\\n 284  Q0 FSP950919-047 14 1552 Cauã_Matheus\\n 284  Q0 FSP951025-125 15 1551 Cauã_Matheus\\n 284  Q0 FSP950312-172 16 1543 Cauã_Matheus\\n 284  Q0 FSP950731-108 17 1543 Cauã_Matheus\\n 284  Q0 FSP950820-203 18 1543 Cauã_Matheus\\n 284  Q0 FSP950406-122 19 1542 Cauã_Matheus\\n 284  Q0 FSP950815-123 20 1542 Cauã_Matheus\\n 284  Q0 FSP950822-012 21 1542 Cauã_Matheus\\n 284  Q0 FSP951120-033 22 1542 Cauã_Matheus\\n 284  Q0 FSP950417-014 23 1541 Cauã_Matheus\\n 284  Q0 FSP950703-091 24 1541 Cauã_Matheus\\n 284  Q0 FSP950730-133 25 1541 Cauã_Matheus\\n 284  Q0 FSP951122-047 26 1541 Cauã_Matheus\\n 284  Q0 FSP950517-149 27 1540 Cauã_Matheus\\n 285  Q0 FSP950617-070 0 1603 Cauã_Matheus\\n 285  Q0 FSP951208-103 1 1601 Cauã_Matheus\\n 285  Q0 FSP950222-099 2 1591 Cauã_Matheus\\n 285  Q0 FSP951025-088 3 1581 Cauã_Matheus\\n 285  Q0 FSP950629-085 4 1569 Cauã_Matheus\\n 285  Q0 FSP950916-055 5 1569 Cauã_Matheus\\n 285  Q0 FSP950917-036 6 1569 Cauã_Matheus\\n 286  Q0 FSP951013-097 0 1571 Cauã_Matheus\\n 286  Q0 FSP951027-102 1 1564 Cauã_Matheus\\n 286  Q0 FSP951120-090 2 1563 Cauã_Matheus\\n 286  Q0 FSP950602-093 3 1562 Cauã_Matheus\\n 286  Q0 FSP951120-101 4 1561 Cauã_Matheus\\n 286  Q0 FSP951217-152 5 1561 Cauã_Matheus\\n 286  Q0 FSP950221-104 6 1558 Cauã_Matheus\\n 286  Q0 FSP950704-091 7 1558 Cauã_Matheus\\n 286  Q0 FSP950804-095 8 1558 Cauã_Matheus\\n 286  Q0 FSP951009-090 9 1558 Cauã_Matheus\\n 286  Q0 FSP951224-083 10 1554 Cauã_Matheus\\n 286  Q0 FSP950228-080 11 1552 Cauã_Matheus\\n 286  Q0 FSP950802-098 12 1551 Cauã_Matheus\\n 286  Q0 FSP950912-094 13 1551 Cauã_Matheus\\n 286  Q0 FSP950924-091 14 1550 Cauã_Matheus\\n 286  Q0 FSP950516-110 15 1548 Cauã_Matheus\\n 286  Q0 FSP950729-070 16 1548 Cauã_Matheus\\n 286  Q0 FSP950730-022 17 1547 Cauã_Matheus\\n 286  Q0 FSP950911-064 18 1547 Cauã_Matheus\\n 286  Q0 FSP950422-094 19 1546 Cauã_Matheus\\n 286  Q0 FSP950312-119 20 1545 Cauã_Matheus\\n 286  Q0 FSP950316-075 21 1545 Cauã_Matheus\\n 286  Q0 FSP950910-084 22 1545 Cauã_Matheus\\n 286  Q0 FSP950508-071 23 1543 Cauã_Matheus\\n 286  Q0 FSP951008-133 24 1543 Cauã_Matheus\\n 286  Q0 FSP951216-130 25 1543 Cauã_Matheus\\n 286  Q0 FSP950217-038 26 1542 Cauã_Matheus\\n 286  Q0 FSP950516-109 27 1542 Cauã_Matheus\\n 286  Q0 FSP950505-082 28 1541 Cauã_Matheus\\n 286  Q0 FSP950729-072 29 1541 Cauã_Matheus\\n 286  Q0 FSP950812-122 30 1541 Cauã_Matheus\\n 286  Q0 FSP951027-034 31 1541 Cauã_Matheus\\n 286  Q0 FSP951114-072 32 1541 Cauã_Matheus\\n 286  Q0 FSP951115-095 33 1541 Cauã_Matheus\\n 286  Q0 FSP950221-128 34 1539 Cauã_Matheus\\n 286  Q0 FSP950318-013 35 1539 Cauã_Matheus\\n 286  Q0 FSP950516-088 36 1539 Cauã_Matheus\\n 286  Q0 FSP950605-129 37 1539 Cauã_Matheus\\n 286  Q0 FSP950924-093 38 1539 Cauã_Matheus\\n 286  Q0 FSP951004-094 39 1539 Cauã_Matheus\\n 286  Q0 FSP951008-195 40 1539 Cauã_Matheus\\n 286  Q0 FSP951010-003 41 1539 Cauã_Matheus\\n 286  Q0 FSP951117-098 42 1539 Cauã_Matheus\\n 286  Q0 FSP951130-119 43 1539 Cauã_Matheus\\n 286  Q0 FSP950104-068 44 1537 Cauã_Matheus\\n 286  Q0 FSP950211-079 45 1537 Cauã_Matheus\\n 286  Q0 FSP950217-118 46 1537 Cauã_Matheus\\n 286  Q0 FSP950227-060 47 1537 Cauã_Matheus\\n 286  Q0 FSP950402-112 48 1537 Cauã_Matheus\\n 286  Q0 FSP950423-044 49 1537 Cauã_Matheus\\n 286  Q0 FSP950504-034 50 1537 Cauã_Matheus\\n 286  Q0 FSP950615-078 51 1537 Cauã_Matheus\\n 286  Q0 FSP950709-118 52 1537 Cauã_Matheus\\n 286  Q0 FSP950824-090 53 1537 Cauã_Matheus\\n 286  Q0 FSP951229-107 54 1537 Cauã_Matheus\\n 286  Q0 FSP950127-113 55 1536 Cauã_Matheus\\n 286  Q0 FSP950205-148 56 1536 Cauã_Matheus\\n 286  Q0 FSP950212-026 57 1536 Cauã_Matheus\\n 286  Q0 FSP950423-094 58 1536 Cauã_Matheus\\n 286  Q0 FSP950520-006 59 1536 Cauã_Matheus\\n 286  Q0 FSP950526-065 60 1536 Cauã_Matheus\\n 286  Q0 FSP950601-007 61 1536 Cauã_Matheus\\n 286  Q0 FSP950618-130 62 1536 Cauã_Matheus\\n 286  Q0 FSP950827-123 63 1536 Cauã_Matheus\\n 286  Q0 FSP950923-096 64 1536 Cauã_Matheus\\n 286  Q0 FSP950924-094 65 1536 Cauã_Matheus\\n 286  Q0 FSP951011-127 66 1536 Cauã_Matheus\\n 286  Q0 FSP951015-118 67 1536 Cauã_Matheus\\n 286  Q0 FSP951022-128 68 1536 Cauã_Matheus\\n 286  Q0 FSP951026-120 69 1536 Cauã_Matheus\\n 286  Q0 FSP951116-081 70 1536 Cauã_Matheus\\n 286  Q0 FSP950409-129 71 1535 Cauã_Matheus\\n 286  Q0 FSP950709-115 72 1535 Cauã_Matheus\\n 286  Q0 FSP950709-120 73 1535 Cauã_Matheus\\n 286  Q0 FSP950724-008 74 1535 Cauã_Matheus\\n 286  Q0 FSP950807-067 75 1535 Cauã_Matheus\\n 286  Q0 FSP950904-117 76 1535 Cauã_Matheus\\n 286  Q0 FSP950904-127 77 1535 Cauã_Matheus\\n 286  Q0 FSP950523-008 78 1534 Cauã_Matheus\\n 286  Q0 FSP950625-010 79 1534 Cauã_Matheus\\n 286  Q0 FSP950106-132 80 1528 Cauã_Matheus\\n 286  Q0 FSP950111-062 81 1528 Cauã_Matheus\\n 286  Q0 FSP950115-107 82 1528 Cauã_Matheus\\n 286  Q0 FSP950117-106 83 1528 Cauã_Matheus\\n 286  Q0 FSP950121-069 84 1528 Cauã_Matheus\\n 286  Q0 FSP950126-079 85 1528 Cauã_Matheus\\n 286  Q0 FSP950215-074 86 1528 Cauã_Matheus\\n 286  Q0 FSP950215-096 87 1528 Cauã_Matheus\\n 286  Q0 FSP950224-079 88 1528 Cauã_Matheus\\n 286  Q0 FSP950302-072 89 1528 Cauã_Matheus\\n 286  Q0 FSP950305-171 90 1528 Cauã_Matheus\\n 286  Q0 FSP950306-047 91 1528 Cauã_Matheus\\n 286  Q0 FSP950307-077 92 1528 Cauã_Matheus\\n 286  Q0 FSP950308-090 93 1528 Cauã_Matheus\\n 286  Q0 FSP950317-142 94 1528 Cauã_Matheus\\n 286  Q0 FSP950322-101 95 1528 Cauã_Matheus\\n 286  Q0 FSP950324-033 96 1528 Cauã_Matheus\\n 286  Q0 FSP950324-141 97 1528 Cauã_Matheus\\n 286  Q0 FSP950325-118 98 1528 Cauã_Matheus\\n 286  Q0 FSP950326-185 99 1528 Cauã_Matheus\\n 287  Q0 FSP950615-053 0 1605 Cauã_Matheus\\n 287  Q0 FSP951114-078 1 1602 Cauã_Matheus\\n 287  Q0 FSP950921-052 2 1591 Cauã_Matheus\\n 287  Q0 FSP950509-083 3 1590 Cauã_Matheus\\n 287  Q0 FSP950108-099 4 1585 Cauã_Matheus\\n 287  Q0 FSP950613-054 5 1584 Cauã_Matheus\\n 287  Q0 FSP950616-040 6 1584 Cauã_Matheus\\n 287  Q0 FSP950430-020 7 1583 Cauã_Matheus\\n 287  Q0 FSP950331-082 8 1581 Cauã_Matheus\\n 287  Q0 FSP950418-042 9 1581 Cauã_Matheus\\n 287  Q0 FSP950429-026 10 1581 Cauã_Matheus\\n 287  Q0 FSP951109-081 11 1581 Cauã_Matheus\\n 287  Q0 FSP951111-035 12 1580 Cauã_Matheus\\n 287  Q0 FSP951111-044 13 1580 Cauã_Matheus\\n 287  Q0 FSP950619-031 14 1579 Cauã_Matheus\\n 287  Q0 FSP950622-061 15 1579 Cauã_Matheus\\n 287  Q0 FSP950622-068 16 1579 Cauã_Matheus\\n 287  Q0 FSP951109-065 17 1579 Cauã_Matheus\\n 287  Q0 FSP951110-089 18 1579 Cauã_Matheus\\n 287  Q0 FSP950602-042 19 1578 Cauã_Matheus\\n 287  Q0 FSP950306-057 20 1577 Cauã_Matheus\\n 287  Q0 FSP950501-051 21 1577 Cauã_Matheus\\n 287  Q0 FSP951109-067 22 1577 Cauã_Matheus\\n 287  Q0 FSP951115-081 23 1577 Cauã_Matheus\\n 287  Q0 FSP951127-082 24 1577 Cauã_Matheus\\n 287  Q0 FSP951206-094 25 1577 Cauã_Matheus\\n 287  Q0 FSP950304-088 26 1576 Cauã_Matheus\\n 287  Q0 FSP950531-049 27 1576 Cauã_Matheus\\n 287  Q0 FSP950610-046 28 1576 Cauã_Matheus\\n 287  Q0 FSP950615-057 29 1576 Cauã_Matheus\\n 287  Q0 FSP950814-041 30 1576 Cauã_Matheus\\n 287  Q0 FSP951020-076 31 1576 Cauã_Matheus\\n 287  Q0 FSP951114-077 32 1576 Cauã_Matheus\\n 287  Q0 FSP950330-080 33 1575 Cauã_Matheus\\n 287  Q0 FSP950607-051 34 1575 Cauã_Matheus\\n 287  Q0 FSP950626-012 35 1575 Cauã_Matheus\\n 287  Q0 FSP951110-106 36 1575 Cauã_Matheus\\n 287  Q0 FSP950303-070 37 1574 Cauã_Matheus\\n 287  Q0 FSP950426-103 38 1574 Cauã_Matheus\\n 287  Q0 FSP950524-095 39 1574 Cauã_Matheus\\n 287  Q0 FSP950527-060 40 1574 Cauã_Matheus\\n 287  Q0 FSP950612-036 41 1574 Cauã_Matheus\\n 287  Q0 FSP950619-027 42 1574 Cauã_Matheus\\n 287  Q0 FSP950622-073 43 1574 Cauã_Matheus\\n 287  Q0 FSP950902-040 44 1574 Cauã_Matheus\\n 287  Q0 FSP950915-076 45 1574 Cauã_Matheus\\n 287  Q0 FSP951109-066 46 1574 Cauã_Matheus\\n 287  Q0 FSP950606-048 47 1573 Cauã_Matheus\\n 287  Q0 FSP950618-003 48 1573 Cauã_Matheus\\n 287  Q0 FSP950621-053 49 1573 Cauã_Matheus\\n 287  Q0 FSP951215-119 50 1573 Cauã_Matheus\\n 287  Q0 FSP950224-087 51 1572 Cauã_Matheus\\n 287  Q0 FSP950430-023 52 1572 Cauã_Matheus\\n 287  Q0 FSP950524-088 53 1572 Cauã_Matheus\\n 287  Q0 FSP950604-052 54 1572 Cauã_Matheus\\n 287  Q0 FSP950611-045 55 1572 Cauã_Matheus\\n 287  Q0 FSP950620-055 56 1572 Cauã_Matheus\\n 287  Q0 FSP950620-057 57 1572 Cauã_Matheus\\n 287  Q0 FSP951110-107 58 1572 Cauã_Matheus\\n 287  Q0 FSP951120-004 59 1572 Cauã_Matheus\\n 287  Q0 FSP951129-085 60 1572 Cauã_Matheus\\n 287  Q0 FSP950302-076 61 1571 Cauã_Matheus\\n 287  Q0 FSP950614-066 62 1571 Cauã_Matheus\\n 287  Q0 FSP951030-071 63 1571 Cauã_Matheus\\n 287  Q0 FSP951115-091 64 1571 Cauã_Matheus\\n 287  Q0 FSP951205-101 65 1571 Cauã_Matheus\\n 287  Q0 FSP950330-071 66 1570 Cauã_Matheus\\n 287  Q0 FSP950331-091 67 1570 Cauã_Matheus\\n 287  Q0 FSP950425-098 68 1570 Cauã_Matheus\\n 287  Q0 FSP950428-103 69 1570 Cauã_Matheus\\n 287  Q0 FSP950621-055 70 1570 Cauã_Matheus\\n 287  Q0 FSP951109-082 71 1570 Cauã_Matheus\\n 287  Q0 FSP951115-023 72 1570 Cauã_Matheus\\n 287  Q0 FSP951208-115 73 1570 Cauã_Matheus\\n 287  Q0 FSP951218-005 74 1570 Cauã_Matheus\\n 287  Q0 FSP950428-088 75 1569 Cauã_Matheus\\n 287  Q0 FSP950528-041 76 1569 Cauã_Matheus\\n 287  Q0 FSP951207-109 77 1569 Cauã_Matheus\\n 287  Q0 FSP951216-064 78 1569 Cauã_Matheus\\n 287  Q0 FSP951229-090 79 1569 Cauã_Matheus\\n 287  Q0 FSP950412-091 80 1568 Cauã_Matheus\\n 287  Q0 FSP950623-042 81 1568 Cauã_Matheus\\n 287  Q0 FSP951109-080 82 1568 Cauã_Matheus\\n 287  Q0 FSP950331-079 83 1567 Cauã_Matheus\\n 287  Q0 FSP950401-036 84 1567 Cauã_Matheus\\n 287  Q0 FSP950402-106 85 1567 Cauã_Matheus\\n 287  Q0 FSP950426-104 86 1567 Cauã_Matheus\\n 287  Q0 FSP950502-061 87 1567 Cauã_Matheus\\n 287  Q0 FSP950617-054 88 1567 Cauã_Matheus\\n 287  Q0 FSP950704-080 89 1567 Cauã_Matheus\\n 287  Q0 FSP950816-061 90 1567 Cauã_Matheus\\n 287  Q0 FSP950830-049 91 1567 Cauã_Matheus\\n 287  Q0 FSP950909-051 92 1567 Cauã_Matheus\\n 287  Q0 FSP951201-026 93 1567 Cauã_Matheus\\n 287  Q0 FSP951205-106 94 1567 Cauã_Matheus\\n 287  Q0 FSP951212-097 95 1567 Cauã_Matheus\\n 287  Q0 FSP950617-052 96 1566 Cauã_Matheus\\n 287  Q0 FSP950622-074 97 1566 Cauã_Matheus\\n 287  Q0 FSP951214-109 98 1566 Cauã_Matheus\\n 287  Q0 FSP950531-050 99 1565 Cauã_Matheus\\n 288  Q0 FSP950221-008 0 1562 Cauã_Matheus\\n 288  Q0 FSP950618-018 1 1559 Cauã_Matheus\\n 288  Q0 FSP950719-068 2 1558 Cauã_Matheus\\n 288  Q0 FSP951119-106 3 1555 Cauã_Matheus\\n 288  Q0 FSP950205-053 4 1552 Cauã_Matheus\\n 288  Q0 FSP950225-044 5 1552 Cauã_Matheus\\n 288  Q0 FSP950517-085 6 1552 Cauã_Matheus\\n 288  Q0 FSP950205-030 7 1551 Cauã_Matheus\\n 288  Q0 FSP950507-132 8 1550 Cauã_Matheus\\n 288  Q0 FSP950511-044 9 1550 Cauã_Matheus\\n 288  Q0 FSP950522-020 10 1550 Cauã_Matheus\\n 288  Q0 FSP950614-013 11 1550 Cauã_Matheus\\n 288  Q0 FSP950614-041 12 1550 Cauã_Matheus\\n 288  Q0 FSP950620-012 13 1550 Cauã_Matheus\\n 288  Q0 FSP950405-081 14 1549 Cauã_Matheus\\n 288  Q0 FSP950609-049 15 1549 Cauã_Matheus\\n 288  Q0 FSP950211-008 16 1548 Cauã_Matheus\\n 288  Q0 FSP950618-013 17 1548 Cauã_Matheus\\n 288  Q0 FSP950618-019 18 1548 Cauã_Matheus\\n 288  Q0 FSP950205-032 19 1547 Cauã_Matheus\\n 288  Q0 FSP950324-064 20 1547 Cauã_Matheus\\n 288  Q0 FSP950526-054 21 1547 Cauã_Matheus\\n 288  Q0 FSP950606-066 22 1547 Cauã_Matheus\\n 288  Q0 FSP950611-019 23 1547 Cauã_Matheus\\n 288  Q0 FSP950611-039 24 1547 Cauã_Matheus\\n 288  Q0 FSP950613-022 25 1547 Cauã_Matheus\\n 288  Q0 FSP950713-015 26 1547 Cauã_Matheus\\n 288  Q0 FSP950920-064 27 1547 Cauã_Matheus\\n 288  Q0 FSP950104-051 28 1546 Cauã_Matheus\\n 288  Q0 FSP950207-039 29 1546 Cauã_Matheus\\n 288  Q0 FSP950208-050 30 1546 Cauã_Matheus\\n 288  Q0 FSP950220-040 31 1546 Cauã_Matheus\\n 288  Q0 FSP950331-064 32 1546 Cauã_Matheus\\n 288  Q0 FSP950419-074 33 1546 Cauã_Matheus\\n 288  Q0 FSP950718-046 34 1546 Cauã_Matheus\\n 288  Q0 FSP950207-057 35 1545 Cauã_Matheus\\n 288  Q0 FSP950423-066 36 1545 Cauã_Matheus\\n 288  Q0 FSP950109-043 37 1544 Cauã_Matheus\\n 288  Q0 FSP950205-028 38 1544 Cauã_Matheus\\n 288  Q0 FSP950214-043 39 1544 Cauã_Matheus\\n 288  Q0 FSP950314-054 40 1544 Cauã_Matheus\\n 288  Q0 FSP950406-055 41 1544 Cauã_Matheus\\n 288  Q0 FSP950419-080 42 1544 Cauã_Matheus\\n 288  Q0 FSP950421-066 43 1544 Cauã_Matheus\\n 288  Q0 FSP950523-031 44 1544 Cauã_Matheus\\n 288  Q0 FSP951011-066 45 1544 Cauã_Matheus\\n 288  Q0 FSP951130-090 46 1544 Cauã_Matheus\\n 288  Q0 FSP950104-047 47 1543 Cauã_Matheus\\n 288  Q0 FSP950129-063 48 1543 Cauã_Matheus\\n 288  Q0 FSP950211-051 49 1543 Cauã_Matheus\\n 288  Q0 FSP950305-003 50 1543 Cauã_Matheus\\n 288  Q0 FSP950407-072 51 1543 Cauã_Matheus\\n 288  Q0 FSP950413-048 52 1543 Cauã_Matheus\\n 288  Q0 FSP950420-079 53 1543 Cauã_Matheus\\n 288  Q0 FSP950521-120 54 1543 Cauã_Matheus\\n 288  Q0 FSP950614-016 55 1543 Cauã_Matheus\\n 288  Q0 FSP950615-037 56 1543 Cauã_Matheus\\n 288  Q0 FSP950616-001 57 1543 Cauã_Matheus\\n 288  Q0 FSP950617-010 58 1543 Cauã_Matheus\\n 288  Q0 FSP950618-016 59 1543 Cauã_Matheus\\n 288  Q0 FSP950709-067 60 1543 Cauã_Matheus\\n 288  Q0 FSP950711-029 61 1543 Cauã_Matheus\\n 288  Q0 FSP950713-012 62 1543 Cauã_Matheus\\n 288  Q0 FSP951203-149 63 1543 Cauã_Matheus\\n 288  Q0 FSP951231-030 64 1543 Cauã_Matheus\\n 288  Q0 FSP950124-056 65 1542 Cauã_Matheus\\n 288  Q0 FSP950201-057 66 1542 Cauã_Matheus\\n 288  Q0 FSP950202-051 67 1542 Cauã_Matheus\\n 288  Q0 FSP950205-031 68 1542 Cauã_Matheus\\n 288  Q0 FSP950206-014 69 1542 Cauã_Matheus\\n 288  Q0 FSP950212-057 70 1542 Cauã_Matheus\\n 288  Q0 FSP950225-037 71 1542 Cauã_Matheus\\n 288  Q0 FSP950403-059 72 1542 Cauã_Matheus\\n 288  Q0 FSP950429-064 73 1542 Cauã_Matheus\\n 288  Q0 FSP950514-049 74 1542 Cauã_Matheus\\n 288  Q0 FSP950607-062 75 1542 Cauã_Matheus\\n 288  Q0 FSP950611-009 76 1542 Cauã_Matheus\\n 288  Q0 FSP951011-064 77 1542 Cauã_Matheus\\n 288  Q0 FSP951217-062 78 1542 Cauã_Matheus\\n 288  Q0 FSP950104-064 79 1541 Cauã_Matheus\\n 288  Q0 FSP950115-062 80 1541 Cauã_Matheus\\n 288  Q0 FSP950131-060 81 1541 Cauã_Matheus\\n 288  Q0 FSP950211-009 82 1541 Cauã_Matheus\\n 288  Q0 FSP950211-033 83 1541 Cauã_Matheus\\n 288  Q0 FSP950305-025 84 1541 Cauã_Matheus\\n 288  Q0 FSP950316-068 85 1541 Cauã_Matheus\\n 288  Q0 FSP950404-057 86 1541 Cauã_Matheus\\n 288  Q0 FSP950404-120 87 1541 Cauã_Matheus\\n 288  Q0 FSP950423-014 88 1541 Cauã_Matheus\\n 288  Q0 FSP950424-038 89 1541 Cauã_Matheus\\n 288  Q0 FSP950501-043 90 1541 Cauã_Matheus\\n 288  Q0 FSP950614-014 91 1541 Cauã_Matheus\\n 288  Q0 FSP950623-014 92 1541 Cauã_Matheus\\n 288  Q0 FSP950812-082 93 1541 Cauã_Matheus\\n 288  Q0 FSP950822-072 94 1541 Cauã_Matheus\\n 288  Q0 FSP950910-080 95 1541 Cauã_Matheus\\n 288  Q0 FSP951018-062 96 1541 Cauã_Matheus\\n 288  Q0 FSP951031-055 97 1541 Cauã_Matheus\\n 288  Q0 FSP951228-071 98 1541 Cauã_Matheus\\n 288  Q0 FSP950209-043 99 1540 Cauã_Matheus\\n 289  Q0 FSP950516-059 0 1755 Cauã_Matheus\\n 289  Q0 FSP950628-046 1 1738 Cauã_Matheus\\n 289  Q0 FSP951024-048 2 1714 Cauã_Matheus\\n 289  Q0 FSP950928-049 3 1687 Cauã_Matheus\\n 289  Q0 FSP950816-065 4 1681 Cauã_Matheus\\n 289  Q0 FSP950404-046 5 1665 Cauã_Matheus\\n 289  Q0 FSP950611-123 6 1657 Cauã_Matheus\\n 289  Q0 FSP951231-060 7 1657 Cauã_Matheus\\n 289  Q0 FSP950430-169 8 1636 Cauã_Matheus\\n 289  Q0 FSP950501-010 9 1636 Cauã_Matheus\\n 289  Q0 FSP950604-125 10 1636 Cauã_Matheus\\n 289  Q0 FSP950608-046 11 1636 Cauã_Matheus\\n 289  Q0 FSP950720-091 12 1636 Cauã_Matheus\\n 289  Q0 FSP951031-036 13 1636 Cauã_Matheus\\n 289  Q0 FSP951123-053 14 1636 Cauã_Matheus\\n 289  Q0 FSP951227-122 15 1636 Cauã_Matheus\\n 289  Q0 FSP951125-071 16 1633 Cauã_Matheus\\n 289  Q0 FSP950610-044 17 1608 Cauã_Matheus\\n 289  Q0 FSP950316-147 18 1607 Cauã_Matheus\\n 289  Q0 FSP951120-042 19 1607 Cauã_Matheus\\n 289  Q0 FSP950303-116 20 1601 Cauã_Matheus\\n 289  Q0 FSP950910-052 21 1601 Cauã_Matheus\\n 289  Q0 FSP950928-141 22 1601 Cauã_Matheus\\n 289  Q0 FSP950928-145 23 1601 Cauã_Matheus\\n 289  Q0 FSP950323-053 24 1596 Cauã_Matheus\\n 289  Q0 FSP950326-207 25 1596 Cauã_Matheus\\n 289  Q0 FSP950910-059 26 1596 Cauã_Matheus\\n 289  Q0 FSP950212-115 27 1589 Cauã_Matheus\\n 289  Q0 FSP950317-121 28 1589 Cauã_Matheus\\n 289  Q0 FSP950326-206 29 1589 Cauã_Matheus\\n 289  Q0 FSP950327-057 30 1589 Cauã_Matheus\\n 289  Q0 FSP950406-130 31 1589 Cauã_Matheus\\n 289  Q0 FSP950501-118 32 1589 Cauã_Matheus\\n 289  Q0 FSP950504-125 33 1589 Cauã_Matheus\\n 289  Q0 FSP950509-080 34 1589 Cauã_Matheus\\n 289  Q0 FSP950718-064 35 1589 Cauã_Matheus\\n 289  Q0 FSP950802-046 36 1589 Cauã_Matheus\\n 289  Q0 FSP950917-064 37 1589 Cauã_Matheus\\n 289  Q0 FSP950919-049 38 1589 Cauã_Matheus\\n 289  Q0 FSP950928-146 39 1589 Cauã_Matheus\\n 289  Q0 FSP951203-127 40 1589 Cauã_Matheus\\n 289  Q0 FSP951218-009 41 1589 Cauã_Matheus\\n 289  Q0 FSP950226-037 42 1579 Cauã_Matheus\\n 289  Q0 FSP950226-144 43 1579 Cauã_Matheus\\n 289  Q0 FSP950526-006 44 1579 Cauã_Matheus\\n 289  Q0 FSP950621-006 45 1579 Cauã_Matheus\\n 289  Q0 FSP950722-037 46 1579 Cauã_Matheus\\n 289  Q0 FSP950918-045 47 1579 Cauã_Matheus\\n 289  Q0 FSP950919-110 48 1579 Cauã_Matheus\\n 289  Q0 FSP951110-052 49 1579 Cauã_Matheus\\n 289  Q0 FSP951111-052 50 1579 Cauã_Matheus\\n 289  Q0 FSP950111-073 51 1578 Cauã_Matheus\\n 289  Q0 FSP950112-135 52 1578 Cauã_Matheus\\n 289  Q0 FSP950123-031 53 1578 Cauã_Matheus\\n 289  Q0 FSP950126-135 54 1578 Cauã_Matheus\\n 289  Q0 FSP950305-127 55 1578 Cauã_Matheus\\n 289  Q0 FSP950401-049 56 1578 Cauã_Matheus\\n 289  Q0 FSP950418-041 57 1578 Cauã_Matheus\\n 289  Q0 FSP950430-044 58 1578 Cauã_Matheus\\n 289  Q0 FSP950501-117 59 1578 Cauã_Matheus\\n 289  Q0 FSP950707-108 60 1578 Cauã_Matheus\\n 289  Q0 FSP950804-118 61 1578 Cauã_Matheus\\n 289  Q0 FSP950815-046 62 1578 Cauã_Matheus\\n 289  Q0 FSP950818-053 63 1578 Cauã_Matheus\\n 289  Q0 FSP950818-056 64 1578 Cauã_Matheus\\n 289  Q0 FSP950822-014 65 1578 Cauã_Matheus\\n 289  Q0 FSP950825-018 66 1578 Cauã_Matheus\\n 289  Q0 FSP950829-120 67 1578 Cauã_Matheus\\n 289  Q0 FSP950831-091 68 1578 Cauã_Matheus\\n 289  Q0 FSP950921-133 69 1578 Cauã_Matheus\\n 289  Q0 FSP951001-060 70 1578 Cauã_Matheus\\n 289  Q0 FSP951006-049 71 1578 Cauã_Matheus\\n 289  Q0 FSP951011-009 72 1578 Cauã_Matheus\\n 289  Q0 FSP951011-084 73 1578 Cauã_Matheus\\n 289  Q0 FSP951015-041 74 1578 Cauã_Matheus\\n 289  Q0 FSP951105-050 75 1578 Cauã_Matheus\\n 289  Q0 FSP950103-027 76 1557 Cauã_Matheus\\n 289  Q0 FSP950104-096 77 1557 Cauã_Matheus\\n 289  Q0 FSP950105-112 78 1557 Cauã_Matheus\\n 289  Q0 FSP950105-120 79 1557 Cauã_Matheus\\n 289  Q0 FSP950110-025 80 1557 Cauã_Matheus\\n 289  Q0 FSP950112-129 81 1557 Cauã_Matheus\\n 289  Q0 FSP950113-032 82 1557 Cauã_Matheus\\n 289  Q0 FSP950118-032 83 1557 Cauã_Matheus\\n 289  Q0 FSP950122-163 84 1557 Cauã_Matheus\\n 289  Q0 FSP950123-090 85 1557 Cauã_Matheus\\n 289  Q0 FSP950129-129 86 1557 Cauã_Matheus\\n 289  Q0 FSP950130-044 87 1557 Cauã_Matheus\\n 289  Q0 FSP950202-135 88 1557 Cauã_Matheus\\n 289  Q0 FSP950203-151 89 1557 Cauã_Matheus\\n 289  Q0 FSP950205-187 90 1557 Cauã_Matheus\\n 289  Q0 FSP950207-132 91 1557 Cauã_Matheus\\n 289  Q0 FSP950209-077 92 1557 Cauã_Matheus\\n 289  Q0 FSP950214-002 93 1557 Cauã_Matheus\\n 289  Q0 FSP950216-092 94 1557 Cauã_Matheus\\n 289  Q0 FSP950220-007 95 1557 Cauã_Matheus\\n 289  Q0 FSP950223-104 96 1557 Cauã_Matheus\\n 289  Q0 FSP950226-150 97 1557 Cauã_Matheus\\n 289  Q0 FSP950228-081 98 1557 Cauã_Matheus\\n 289  Q0 FSP950301-047 99 1557 Cauã_Matheus\\n 290  Q0 FSP950101-029 0 1598 Cauã_Matheus\\n 290  Q0 FSP951024-009 1 1589 Cauã_Matheus\\n 291  Q0 FSP951129-053 0 1643 Cauã_Matheus\\n 291  Q0 FSP950716-115 1 1639 Cauã_Matheus\\n 291  Q0 FSP950716-114 2 1633 Cauã_Matheus\\n 291  Q0 FSP951220-056 3 1614 Cauã_Matheus\\n 291  Q0 FSP950829-042 4 1608 Cauã_Matheus\\n 291  Q0 FSP950716-111 5 1606 Cauã_Matheus\\n 291  Q0 FSP950723-142 6 1604 Cauã_Matheus\\n 291  Q0 FSP950716-120 7 1601 Cauã_Matheus\\n 291  Q0 FSP950217-077 8 1600 Cauã_Matheus\\n 291  Q0 FSP950716-116 9 1593 Cauã_Matheus\\n 291  Q0 FSP951225-040 10 1593 Cauã_Matheus\\n 291  Q0 FSP950629-022 11 1587 Cauã_Matheus\\n 291  Q0 FSP951122-046 12 1586 Cauã_Matheus\\n 291  Q0 FSP950913-045 13 1584 Cauã_Matheus\\n 291  Q0 FSP950102-033 14 1583 Cauã_Matheus\\n 291  Q0 FSP950104-044 15 1583 Cauã_Matheus\\n 291  Q0 FSP950916-034 16 1583 Cauã_Matheus\\n 291  Q0 FSP951026-043 17 1583 Cauã_Matheus\\n 291  Q0 FSP950311-069 18 1581 Cauã_Matheus\\n 291  Q0 FSP950415-037 19 1581 Cauã_Matheus\\n 291  Q0 FSP950910-022 20 1581 Cauã_Matheus\\n 291  Q0 FSP951210-047 21 1581 Cauã_Matheus\\n 291  Q0 FSP950219-013 22 1578 Cauã_Matheus\\n 291  Q0 FSP950415-040 23 1578 Cauã_Matheus\\n 291  Q0 FSP950506-070 24 1578 Cauã_Matheus\\n 291  Q0 FSP951020-053 25 1578 Cauã_Matheus\\n 291  Q0 FSP951225-053 26 1578 Cauã_Matheus\\n 291  Q0 FSP950217-053 27 1575 Cauã_Matheus\\n 291  Q0 FSP950315-082 28 1575 Cauã_Matheus\\n 291  Q0 FSP950506-071 29 1575 Cauã_Matheus\\n 291  Q0 FSP950915-018 30 1575 Cauã_Matheus\\n 291  Q0 FSP951215-029 31 1575 Cauã_Matheus\\n 291  Q0 FSP950208-061 32 1573 Cauã_Matheus\\n 291  Q0 FSP950214-074 33 1573 Cauã_Matheus\\n 291  Q0 FSP950220-111 34 1573 Cauã_Matheus\\n 291  Q0 FSP950311-009 35 1573 Cauã_Matheus\\n 291  Q0 FSP950409-159 36 1573 Cauã_Matheus\\n 291  Q0 FSP950505-064 37 1573 Cauã_Matheus\\n 291  Q0 FSP950511-036 38 1573 Cauã_Matheus\\n 291  Q0 FSP950719-044 39 1573 Cauã_Matheus\\n 291  Q0 FSP950730-023 40 1573 Cauã_Matheus\\n 291  Q0 FSP950807-054 41 1573 Cauã_Matheus\\n 291  Q0 FSP950813-055 42 1573 Cauã_Matheus\\n 291  Q0 FSP950908-037 43 1573 Cauã_Matheus\\n 291  Q0 FSP950912-052 44 1573 Cauã_Matheus\\n 291  Q0 FSP951016-102 45 1573 Cauã_Matheus\\n 291  Q0 FSP951018-094 46 1573 Cauã_Matheus\\n 291  Q0 FSP951025-048 47 1573 Cauã_Matheus\\n 291  Q0 FSP951029-119 48 1573 Cauã_Matheus\\n 291  Q0 FSP951031-075 49 1573 Cauã_Matheus\\n 291  Q0 FSP951209-054 50 1573 Cauã_Matheus\\n 291  Q0 FSP950106-047 51 1569 Cauã_Matheus\\n 291  Q0 FSP950221-103 52 1569 Cauã_Matheus\\n 291  Q0 FSP950316-089 53 1569 Cauã_Matheus\\n 291  Q0 FSP950321-138 54 1569 Cauã_Matheus\\n 291  Q0 FSP950518-049 55 1569 Cauã_Matheus\\n 291  Q0 FSP950607-060 56 1569 Cauã_Matheus\\n 291  Q0 FSP950910-023 57 1569 Cauã_Matheus\\n 291  Q0 FSP950913-006 58 1569 Cauã_Matheus\\n 291  Q0 FSP951020-064 59 1569 Cauã_Matheus\\n 291  Q0 FSP951210-048 60 1569 Cauã_Matheus\\n 291  Q0 FSP951217-046 61 1569 Cauã_Matheus\\n 291  Q0 FSP951218-003 62 1569 Cauã_Matheus\\n 291  Q0 FSP950716-118 63 1565 Cauã_Matheus\\n 291  Q0 FSP950809-085 64 1564 Cauã_Matheus\\n 291  Q0 FSP950407-095 65 1562 Cauã_Matheus\\n 291  Q0 FSP950606-074 66 1562 Cauã_Matheus\\n 291  Q0 FSP950606-086 67 1562 Cauã_Matheus\\n 291  Q0 FSP950809-070 68 1562 Cauã_Matheus\\n 291  Q0 FSP951013-079 69 1562 Cauã_Matheus\\n 291  Q0 FSP951016-077 70 1562 Cauã_Matheus\\n 291  Q0 FSP950628-071 71 1561 Cauã_Matheus\\n 291  Q0 FSP950711-008 72 1561 Cauã_Matheus\\n 291  Q0 FSP950911-032 73 1561 Cauã_Matheus\\n 291  Q0 FSP950101-044 74 1560 Cauã_Matheus\\n 291  Q0 FSP950122-043 75 1560 Cauã_Matheus\\n 291  Q0 FSP950123-055 76 1560 Cauã_Matheus\\n 291  Q0 FSP950307-058 77 1560 Cauã_Matheus\\n 291  Q0 FSP950310-072 78 1560 Cauã_Matheus\\n 291  Q0 FSP950321-060 79 1560 Cauã_Matheus\\n 291  Q0 FSP950324-048 80 1560 Cauã_Matheus\\n 291  Q0 FSP950420-117 81 1560 Cauã_Matheus\\n 291  Q0 FSP950602-076 82 1560 Cauã_Matheus\\n 291  Q0 FSP950602-081 83 1560 Cauã_Matheus\\n 291  Q0 FSP950608-129 84 1560 Cauã_Matheus\\n 291  Q0 FSP950610-069 85 1560 Cauã_Matheus\\n 291  Q0 FSP950617-001 86 1560 Cauã_Matheus\\n 291  Q0 FSP950618-041 87 1560 Cauã_Matheus\\n 291  Q0 FSP950618-042 88 1560 Cauã_Matheus\\n 291  Q0 FSP950627-017 89 1560 Cauã_Matheus\\n 291  Q0 FSP950627-033 90 1560 Cauã_Matheus\\n 291  Q0 FSP950706-056 91 1560 Cauã_Matheus\\n 291  Q0 FSP950711-061 92 1560 Cauã_Matheus\\n 291  Q0 FSP950720-065 93 1560 Cauã_Matheus\\n 291  Q0 FSP950722-052 94 1560 Cauã_Matheus\\n 291  Q0 FSP950911-050 95 1560 Cauã_Matheus\\n 291  Q0 FSP950915-005 96 1560 Cauã_Matheus\\n 291  Q0 FSP950924-048 97 1560 Cauã_Matheus\\n 291  Q0 FSP951003-050 98 1560 Cauã_Matheus\\n 291  Q0 FSP951011-075 99 1560 Cauã_Matheus\\n 292  Q0 FSP950627-130 0 1643 Cauã_Matheus\\n 292  Q0 FSP950529-089 1 1601 Cauã_Matheus\\n 292  Q0 FSP950423-125 2 1599 Cauã_Matheus\\n 292  Q0 FSP951008-116 3 1597 Cauã_Matheus\\n 292  Q0 FSP951112-126 4 1597 Cauã_Matheus\\n 292  Q0 FSP950430-132 5 1593 Cauã_Matheus\\n 292  Q0 FSP950205-088 6 1592 Cauã_Matheus\\n 292  Q0 FSP950501-111 7 1592 Cauã_Matheus\\n 292  Q0 FSP950803-009 8 1592 Cauã_Matheus\\n 292  Q0 FSP951008-132 9 1592 Cauã_Matheus\\n 292  Q0 FSP950430-123 10 1589 Cauã_Matheus\\n 292  Q0 FSP951124-064 11 1584 Cauã_Matheus\\n 292  Q0 FSP951215-009 12 1584 Cauã_Matheus\\n 292  Q0 FSP950627-120 13 1580 Cauã_Matheus\\n 292  Q0 FSP951208-058 14 1580 Cauã_Matheus\\n 292  Q0 FSP950811-010 15 1579 Cauã_Matheus\\n 292  Q0 FSP950827-009 16 1579 Cauã_Matheus\\n 292  Q0 FSP950820-133 17 1577 Cauã_Matheus\\n 292  Q0 FSP950330-132 18 1576 Cauã_Matheus\\n 292  Q0 FSP951105-142 19 1576 Cauã_Matheus\\n 292  Q0 FSP950115-113 20 1570 Cauã_Matheus\\n 292  Q0 FSP950416-129 21 1570 Cauã_Matheus\\n 292  Q0 FSP950526-096 22 1570 Cauã_Matheus\\n 292  Q0 FSP950627-121 23 1570 Cauã_Matheus\\n 292  Q0 FSP950703-090 24 1570 Cauã_Matheus\\n 292  Q0 FSP951225-031 25 1570 Cauã_Matheus\\n 292  Q0 FSP950121-039 26 1561 Cauã_Matheus\\n 292  Q0 FSP950126-125 27 1561 Cauã_Matheus\\n 292  Q0 FSP950129-061 28 1561 Cauã_Matheus\\n 292  Q0 FSP950319-028 29 1561 Cauã_Matheus\\n 292  Q0 FSP950414-057 30 1561 Cauã_Matheus\\n 292  Q0 FSP950510-140 31 1561 Cauã_Matheus\\n 292  Q0 FSP950928-067 32 1561 Cauã_Matheus\\n 292  Q0 FSP951101-004 33 1561 Cauã_Matheus\\n 292  Q0 FSP951106-012 34 1561 Cauã_Matheus\\n 292  Q0 FSP951221-120 35 1561 Cauã_Matheus\\n 292  Q0 FSP951231-235 36 1561 Cauã_Matheus\\n 293  Q0 FSP950526-009 0 1577 Cauã_Matheus\\n 293  Q0 FSP951019-157 1 1574 Cauã_Matheus\\n 293  Q0 FSP950913-079 2 1569 Cauã_Matheus\\n 293  Q0 FSP950528-006 3 1560 Cauã_Matheus\\n 293  Q0 FSP950618-038 4 1549 Cauã_Matheus\\n 293  Q0 FSP950825-051 5 1549 Cauã_Matheus\\n 293  Q0 FSP950525-114 6 1546 Cauã_Matheus\\n 293  Q0 FSP951213-009 7 1545 Cauã_Matheus\\n 293  Q0 FSP950330-100 8 1544 Cauã_Matheus\\n 293  Q0 FSP950617-022 9 1544 Cauã_Matheus\\n 293  Q0 FSP950818-052 10 1544 Cauã_Matheus\\n 293  Q0 FSP950824-057 11 1544 Cauã_Matheus\\n 293  Q0 FSP950824-059 12 1544 Cauã_Matheus\\n 293  Q0 FSP950205-137 13 1543 Cauã_Matheus\\n 293  Q0 FSP950604-051 14 1543 Cauã_Matheus\\n 293  Q0 FSP950826-052 15 1543 Cauã_Matheus\\n 293  Q0 FSP950207-061 16 1542 Cauã_Matheus\\n 293  Q0 FSP950618-040 17 1542 Cauã_Matheus\\n 293  Q0 FSP950826-053 18 1542 Cauã_Matheus\\n 293  Q0 FSP951018-061 19 1542 Cauã_Matheus\\n 293  Q0 FSP951119-050 20 1542 Cauã_Matheus\\n 293  Q0 FSP951214-060 21 1542 Cauã_Matheus\\n 293  Q0 FSP951231-063 22 1542 Cauã_Matheus\\n 293  Q0 FSP950521-050 23 1541 Cauã_Matheus\\n 293  Q0 FSP950524-052 24 1541 Cauã_Matheus\\n 293  Q0 FSP950610-039 25 1541 Cauã_Matheus\\n 293  Q0 FSP950618-039 26 1541 Cauã_Matheus\\n 293  Q0 FSP950625-124 27 1541 Cauã_Matheus\\n 293  Q0 FSP950813-148 28 1541 Cauã_Matheus\\n 293  Q0 FSP950908-041 29 1541 Cauã_Matheus\\n 293  Q0 FSP951130-059 30 1541 Cauã_Matheus\\n 293  Q0 FSP950710-031 31 1540 Cauã_Matheus\\n 293  Q0 FSP950823-008 32 1540 Cauã_Matheus\\n 293  Q0 FSP951215-061 33 1540 Cauã_Matheus\\n 293  Q0 FSP950917-053 34 1539 Cauã_Matheus\\n 293  Q0 FSP951011-046 35 1539 Cauã_Matheus\\n 293  Q0 FSP951211-029 36 1539 Cauã_Matheus\\n 293  Q0 FSP951212-023 37 1539 Cauã_Matheus\\n 293  Q0 FSP951213-010 38 1539 Cauã_Matheus\\n 293  Q0 FSP950101-024 39 1538 Cauã_Matheus\\n 293  Q0 FSP950115-039 40 1538 Cauã_Matheus\\n 293  Q0 FSP950314-055 41 1538 Cauã_Matheus\\n 293  Q0 FSP950529-039 42 1538 Cauã_Matheus\\n 293  Q0 FSP951216-078 43 1538 Cauã_Matheus\\n 293  Q0 FSP950329-104 44 1537 Cauã_Matheus\\n 293  Q0 FSP950410-009 45 1537 Cauã_Matheus\\n 293  Q0 FSP950417-015 46 1537 Cauã_Matheus\\n 293  Q0 FSP950430-057 47 1537 Cauã_Matheus\\n 293  Q0 FSP950528-040 48 1537 Cauã_Matheus\\n 293  Q0 FSP950603-044 49 1537 Cauã_Matheus\\n 293  Q0 FSP950828-038 50 1537 Cauã_Matheus\\n 293  Q0 FSP950929-047 51 1537 Cauã_Matheus\\n 293  Q0 FSP951025-046 52 1537 Cauã_Matheus\\n 293  Q0 FSP951027-046 53 1537 Cauã_Matheus\\n 293  Q0 FSP950907-046 54 1536 Cauã_Matheus\\n 293  Q0 FSP950920-023 55 1536 Cauã_Matheus\\n 293  Q0 FSP950218-051 56 1535 Cauã_Matheus\\n 293  Q0 FSP950226-080 57 1535 Cauã_Matheus\\n 293  Q0 FSP950726-081 58 1535 Cauã_Matheus\\n 293  Q0 FSP950917-052 59 1535 Cauã_Matheus\\n 293  Q0 FSP951025-074 60 1535 Cauã_Matheus\\n 293  Q0 FSP950126-100 61 1534 Cauã_Matheus\\n 293  Q0 FSP950326-036 62 1534 Cauã_Matheus\\n 293  Q0 FSP950418-046 63 1534 Cauã_Matheus\\n 293  Q0 FSP950603-047 64 1534 Cauã_Matheus\\n 293  Q0 FSP950617-023 65 1534 Cauã_Matheus\\n 293  Q0 FSP950805-061 66 1534 Cauã_Matheus\\n 293  Q0 FSP951212-025 67 1534 Cauã_Matheus\\n 293  Q0 FSP951213-024 68 1534 Cauã_Matheus\\n 293  Q0 FSP951229-009 69 1534 Cauã_Matheus\\n 293  Q0 FSP950118-103 70 1533 Cauã_Matheus\\n 293  Q0 FSP950507-003 71 1533 Cauã_Matheus\\n 293  Q0 FSP950522-015 72 1533 Cauã_Matheus\\n 293  Q0 FSP950812-066 73 1533 Cauã_Matheus\\n 293  Q0 FSP950903-004 74 1533 Cauã_Matheus\\n 293  Q0 FSP951114-126 75 1533 Cauã_Matheus\\n 293  Q0 FSP951121-143 76 1533 Cauã_Matheus\\n 293  Q0 FSP951130-025 77 1533 Cauã_Matheus\\n 293  Q0 FSP951214-021 78 1533 Cauã_Matheus\\n 293  Q0 FSP950213-032 79 1532 Cauã_Matheus\\n 293  Q0 FSP950902-082 80 1532 Cauã_Matheus\\n 293  Q0 FSP950907-047 81 1532 Cauã_Matheus\\n 293  Q0 FSP951220-025 82 1532 Cauã_Matheus\\n 293  Q0 FSP950625-047 83 1531 Cauã_Matheus\\n 293  Q0 FSP950719-068 84 1531 Cauã_Matheus\\n 293  Q0 FSP950729-048 85 1531 Cauã_Matheus\\n 293  Q0 FSP951006-044 86 1531 Cauã_Matheus\\n 293  Q0 FSP950111-041 87 1530 Cauã_Matheus\\n 293  Q0 FSP950319-070 88 1530 Cauã_Matheus\\n 293  Q0 FSP950801-040 89 1530 Cauã_Matheus\\n 293  Q0 FSP950827-005 90 1530 Cauã_Matheus\\n 293  Q0 FSP951022-045 91 1530 Cauã_Matheus\\n 293  Q0 FSP951209-053 92 1530 Cauã_Matheus\\n 293  Q0 FSP951214-016 93 1530 Cauã_Matheus\\n 293  Q0 FSP951230-007 94 1530 Cauã_Matheus\\n 293  Q0 FSP950224-130 95 1529 Cauã_Matheus\\n 293  Q0 FSP950604-061 96 1529 Cauã_Matheus\\n 293  Q0 FSP950612-033 97 1529 Cauã_Matheus\\n 293  Q0 FSP950904-113 98 1529 Cauã_Matheus\\n 293  Q0 FSP950924-143 99 1529 Cauã_Matheus\\n 294  Q0 FSP951214-006 0 1604 Cauã_Matheus\\n 294  Q0 FSP950430-111 1 1557 Cauã_Matheus\\n 294  Q0 FSP950822-007 2 1555 Cauã_Matheus\\n 294  Q0 FSP951030-103 3 1553 Cauã_Matheus\\n 294  Q0 FSP950826-025 4 1552 Cauã_Matheus\\n 295  Q0 FSP951016-016 0 1654 Cauã_Matheus\\n 295  Q0 FSP951029-054 1 1654 Cauã_Matheus\\n 295  Q0 FSP951210-031 2 1644 Cauã_Matheus\\n 295  Q0 FSP951224-029 3 1641 Cauã_Matheus\\n 295  Q0 FSP951204-069 4 1640 Cauã_Matheus\\n 295  Q0 FSP951018-032 5 1638 Cauã_Matheus\\n 295  Q0 FSP951212-033 6 1638 Cauã_Matheus\\n 295  Q0 FSP950224-099 7 1629 Cauã_Matheus\\n 295  Q0 FSP951212-029 8 1626 Cauã_Matheus\\n 295  Q0 FSP950226-227 9 1620 Cauã_Matheus\\n 295  Q0 FSP950901-067 10 1617 Cauã_Matheus\\n 295  Q0 FSP951023-042 11 1617 Cauã_Matheus\\n 295  Q0 FSP951024-098 12 1617 Cauã_Matheus\\n 295  Q0 FSP950808-122 13 1610 Cauã_Matheus\\n 295  Q0 FSP950430-042 14 1608 Cauã_Matheus\\n 295  Q0 FSP951024-085 15 1608 Cauã_Matheus\\n 295  Q0 FSP951224-117 16 1608 Cauã_Matheus\\n 295  Q0 FSP950119-133 17 1605 Cauã_Matheus\\n 295  Q0 FSP950208-097 18 1605 Cauã_Matheus\\n 295  Q0 FSP950716-217 19 1605 Cauã_Matheus\\n 295  Q0 FSP950917-037 20 1605 Cauã_Matheus\\n 295  Q0 FSP950430-044 21 1602 Cauã_Matheus\\n 295  Q0 FSP950228-013 22 1598 Cauã_Matheus\\n 295  Q0 FSP950709-023 23 1598 Cauã_Matheus\\n 295  Q0 FSP950713-065 24 1598 Cauã_Matheus\\n 295  Q0 FSP951216-069 25 1598 Cauã_Matheus\\n 295  Q0 FSP950514-084 26 1597 Cauã_Matheus\\n 295  Q0 FSP950628-075 27 1597 Cauã_Matheus\\n 295  Q0 FSP950902-092 28 1597 Cauã_Matheus\\n 295  Q0 FSP950104-066 29 1593 Cauã_Matheus\\n 295  Q0 FSP950310-101 30 1593 Cauã_Matheus\\n 295  Q0 FSP950501-023 31 1593 Cauã_Matheus\\n 295  Q0 FSP950501-026 32 1593 Cauã_Matheus\\n 295  Q0 FSP950503-031 33 1593 Cauã_Matheus\\n 295  Q0 FSP950517-092 34 1593 Cauã_Matheus\\n 295  Q0 FSP950519-090 35 1593 Cauã_Matheus\\n 295  Q0 FSP950730-026 36 1593 Cauã_Matheus\\n 295  Q0 FSP950823-041 37 1593 Cauã_Matheus\\n 295  Q0 FSP951015-034 38 1593 Cauã_Matheus\\n 295  Q0 FSP951122-018 39 1593 Cauã_Matheus\\n 295  Q0 FSP951130-028 40 1593 Cauã_Matheus\\n 295  Q0 FSP950110-093 41 1585 Cauã_Matheus\\n 295  Q0 FSP950112-077 42 1585 Cauã_Matheus\\n 295  Q0 FSP950124-111 43 1585 Cauã_Matheus\\n 295  Q0 FSP950128-084 44 1585 Cauã_Matheus\\n 295  Q0 FSP950201-071 45 1585 Cauã_Matheus\\n 295  Q0 FSP950228-092 46 1585 Cauã_Matheus\\n 295  Q0 FSP950319-102 47 1585 Cauã_Matheus\\n 295  Q0 FSP950420-008 48 1585 Cauã_Matheus\\n 295  Q0 FSP950421-019 49 1585 Cauã_Matheus\\n 295  Q0 FSP950421-024 50 1585 Cauã_Matheus\\n 295  Q0 FSP950430-040 51 1585 Cauã_Matheus\\n 295  Q0 FSP950430-045 52 1585 Cauã_Matheus\\n 295  Q0 FSP950430-090 53 1585 Cauã_Matheus\\n 295  Q0 FSP950501-029 54 1585 Cauã_Matheus\\n 295  Q0 FSP950507-008 55 1585 Cauã_Matheus\\n 295  Q0 FSP950521-044 56 1585 Cauã_Matheus\\n 295  Q0 FSP950523-052 57 1585 Cauã_Matheus\\n 295  Q0 FSP950605-009 58 1585 Cauã_Matheus\\n 295  Q0 FSP950607-050 59 1585 Cauã_Matheus\\n 295  Q0 FSP950701-050 60 1585 Cauã_Matheus\\n 295  Q0 FSP950726-116 61 1585 Cauã_Matheus\\n 295  Q0 FSP950806-200 62 1585 Cauã_Matheus\\n 295  Q0 FSP950811-051 63 1585 Cauã_Matheus\\n 295  Q0 FSP950811-060 64 1585 Cauã_Matheus\\n 295  Q0 FSP950819-083 65 1585 Cauã_Matheus\\n 295  Q0 FSP950907-052 66 1585 Cauã_Matheus\\n 295  Q0 FSP950927-037 67 1585 Cauã_Matheus\\n 295  Q0 FSP951006-027 68 1585 Cauã_Matheus\\n 295  Q0 FSP951009-051 69 1585 Cauã_Matheus\\n 295  Q0 FSP951018-058 70 1585 Cauã_Matheus\\n 295  Q0 FSP951022-089 71 1585 Cauã_Matheus\\n 295  Q0 FSP951022-222 72 1585 Cauã_Matheus\\n 295  Q0 FSP951029-203 73 1585 Cauã_Matheus\\n 295  Q0 FSP951101-082 74 1585 Cauã_Matheus\\n 295  Q0 FSP951108-009 75 1585 Cauã_Matheus\\n 295  Q0 FSP951207-059 76 1585 Cauã_Matheus\\n 295  Q0 FSP951207-063 77 1585 Cauã_Matheus\\n 295  Q0 FSP951213-003 78 1585 Cauã_Matheus\\n 295  Q0 FSP951222-029 79 1585 Cauã_Matheus\\n 295  Q0 FSP950101-040 80 1562 Cauã_Matheus\\n 295  Q0 FSP950103-111 81 1562 Cauã_Matheus\\n 295  Q0 FSP950124-078 82 1562 Cauã_Matheus\\n 295  Q0 FSP950203-136 83 1562 Cauã_Matheus\\n 295  Q0 FSP950205-175 84 1562 Cauã_Matheus\\n 295  Q0 FSP950207-028 85 1562 Cauã_Matheus\\n 295  Q0 FSP950213-104 86 1562 Cauã_Matheus\\n 295  Q0 FSP950214-076 87 1562 Cauã_Matheus\\n 295  Q0 FSP950214-103 88 1562 Cauã_Matheus\\n 295  Q0 FSP950214-143 89 1562 Cauã_Matheus\\n 295  Q0 FSP950219-161 90 1562 Cauã_Matheus\\n 295  Q0 FSP950224-075 91 1562 Cauã_Matheus\\n 295  Q0 FSP950226-187 92 1562 Cauã_Matheus\\n 295  Q0 FSP950305-148 93 1562 Cauã_Matheus\\n 295  Q0 FSP950320-073 94 1562 Cauã_Matheus\\n 295  Q0 FSP950323-054 95 1562 Cauã_Matheus\\n 295  Q0 FSP950326-107 96 1562 Cauã_Matheus\\n 295  Q0 FSP950331-037 97 1562 Cauã_Matheus\\n 295  Q0 FSP950415-067 98 1562 Cauã_Matheus\\n 295  Q0 FSP950416-160 99 1562 Cauã_Matheus\\n 296  Q0 FSP950608-109 0 1588 Cauã_Matheus\\n 296  Q0 FSP950801-117 1 1579 Cauã_Matheus\\n 296  Q0 FSP950310-127 2 1578 Cauã_Matheus\\n 296  Q0 FSP950204-111 3 1575 Cauã_Matheus\\n 296  Q0 FSP950803-102 4 1575 Cauã_Matheus\\n 296  Q0 FSP950909-101 5 1572 Cauã_Matheus\\n 296  Q0 FSP950226-132 6 1570 Cauã_Matheus\\n 296  Q0 FSP951128-112 7 1568 Cauã_Matheus\\n 296  Q0 FSP950108-030 8 1566 Cauã_Matheus\\n 296  Q0 FSP950120-112 9 1566 Cauã_Matheus\\n 296  Q0 FSP950611-153 10 1566 Cauã_Matheus\\n 296  Q0 FSP950131-093 11 1558 Cauã_Matheus\\n 296  Q0 FSP950307-108 12 1558 Cauã_Matheus\\n 296  Q0 FSP950322-115 13 1558 Cauã_Matheus\\n 296  Q0 FSP950421-132 14 1558 Cauã_Matheus\\n 296  Q0 FSP950423-042 15 1558 Cauã_Matheus\\n 296  Q0 FSP950508-071 16 1558 Cauã_Matheus\\n 296  Q0 FSP950522-044 17 1558 Cauã_Matheus\\n 296  Q0 FSP950608-112 18 1558 Cauã_Matheus\\n 296  Q0 FSP950610-114 19 1558 Cauã_Matheus\\n 296  Q0 FSP950710-095 20 1558 Cauã_Matheus\\n 296  Q0 FSP950913-009 21 1558 Cauã_Matheus\\n 296  Q0 FSP951002-152 22 1558 Cauã_Matheus\\n 296  Q0 FSP951004-059 23 1558 Cauã_Matheus\\n 296  Q0 FSP951023-127 24 1558 Cauã_Matheus\\n 296  Q0 FSP951027-108 25 1558 Cauã_Matheus\\n 296  Q0 FSP951124-008 26 1558 Cauã_Matheus\\n 297  Q0 FSP950825-051 0 1573 Cauã_Matheus\\n 297  Q0 FSP950807-117 1 1549 Cauã_Matheus\\n 297  Q0 FSP950130-065 2 1547 Cauã_Matheus\\n 297  Q0 FSP950612-069 3 1547 Cauã_Matheus\\n 297  Q0 FSP950409-087 4 1543 Cauã_Matheus\\n 297  Q0 FSP950614-104 5 1543 Cauã_Matheus\\n 297  Q0 FSP950827-136 6 1541 Cauã_Matheus\\n 297  Q0 FSP951011-107 7 1540 Cauã_Matheus\\n 297  Q0 FSP951011-110 8 1540 Cauã_Matheus\\n 297  Q0 FSP951204-155 9 1540 Cauã_Matheus\\n 297  Q0 FSP950420-009 10 1539 Cauã_Matheus\\n 297  Q0 FSP950130-067 11 1537 Cauã_Matheus\\n 297  Q0 FSP950205-134 12 1536 Cauã_Matheus\\n 297  Q0 FSP950609-031 13 1535 Cauã_Matheus\\n 297  Q0 FSP950315-117 14 1532 Cauã_Matheus\\n 297  Q0 FSP950423-111 15 1532 Cauã_Matheus\\n 297  Q0 FSP950828-072 16 1531 Cauã_Matheus\\n 297  Q0 FSP950621-059 17 1529 Cauã_Matheus\\n 297  Q0 FSP950806-142 18 1528 Cauã_Matheus\\n 297  Q0 FSP950210-033 19 1527 Cauã_Matheus\\n 297  Q0 FSP950710-026 20 1527 Cauã_Matheus\\n 297  Q0 FSP950716-011 21 1527 Cauã_Matheus\\n 297  Q0 FSP950815-107 22 1527 Cauã_Matheus\\n 297  Q0 FSP950831-112 23 1527 Cauã_Matheus\\n 297  Q0 FSP951211-084 24 1527 Cauã_Matheus\\n 297  Q0 FSP951224-097 25 1527 Cauã_Matheus\\n 297  Q0 FSP950226-051 26 1526 Cauã_Matheus\\n 297  Q0 FSP950508-124 27 1526 Cauã_Matheus\\n 297  Q0 FSP950829-031 28 1525 Cauã_Matheus\\n 297  Q0 FSP950205-038 29 1524 Cauã_Matheus\\n 297  Q0 FSP950531-027 30 1524 Cauã_Matheus\\n 297  Q0 FSP951006-014 31 1524 Cauã_Matheus\\n 297  Q0 FSP951008-104 32 1524 Cauã_Matheus\\n 297  Q0 FSP950128-122 33 1523 Cauã_Matheus\\n 297  Q0 FSP950220-008 34 1523 Cauã_Matheus\\n 297  Q0 FSP950715-007 35 1523 Cauã_Matheus\\n 297  Q0 FSP950716-010 36 1523 Cauã_Matheus\\n 297  Q0 FSP951108-066 37 1523 Cauã_Matheus\\n 298  Q0 FSP950112-010 0 1633 Cauã_Matheus\\n 298  Q0 FSP950426-024 1 1622 Cauã_Matheus\\n 298  Q0 FSP950907-011 2 1609 Cauã_Matheus\\n 298  Q0 FSP951014-054 3 1608 Cauã_Matheus\\n 298  Q0 FSP950123-009 4 1603 Cauã_Matheus\\n 298  Q0 FSP950418-046 5 1603 Cauã_Matheus\\n 298  Q0 FSP950111-055 6 1601 Cauã_Matheus\\n 298  Q0 FSP950322-079 7 1601 Cauã_Matheus\\n 298  Q0 FSP950417-038 8 1601 Cauã_Matheus\\n 298  Q0 FSP950417-039 9 1601 Cauã_Matheus\\n 298  Q0 FSP950615-049 10 1601 Cauã_Matheus\\n 298  Q0 FSP950711-074 11 1601 Cauã_Matheus\\n 298  Q0 FSP950725-133 12 1601 Cauã_Matheus\\n 298  Q0 FSP950820-073 13 1601 Cauã_Matheus\\n 298  Q0 FSP950923-048 14 1601 Cauã_Matheus\\n 298  Q0 FSP950417-041 15 1598 Cauã_Matheus\\n 298  Q0 FSP950907-051 16 1598 Cauã_Matheus\\n 298  Q0 FSP950910-129 17 1598 Cauã_Matheus\\n 298  Q0 FSP950514-023 18 1593 Cauã_Matheus\\n 298  Q0 FSP950514-024 19 1593 Cauã_Matheus\\n 298  Q0 FSP950604-035 20 1593 Cauã_Matheus\\n 298  Q0 FSP950616-039 21 1593 Cauã_Matheus\\n 298  Q0 FSP950617-011 22 1593 Cauã_Matheus\\n 298  Q0 FSP950713-044 23 1593 Cauã_Matheus\\n 298  Q0 FSP950720-053 24 1593 Cauã_Matheus\\n 298  Q0 FSP950723-047 25 1593 Cauã_Matheus\\n 298  Q0 FSP950818-052 26 1593 Cauã_Matheus\\n 298  Q0 FSP950904-035 27 1593 Cauã_Matheus\\n 298  Q0 FSP950910-059 28 1593 Cauã_Matheus\\n 298  Q0 FSP950923-044 29 1593 Cauã_Matheus\\n 298  Q0 FSP950725-073 30 1591 Cauã_Matheus\\n 298  Q0 FSP950929-071 31 1591 Cauã_Matheus\\n 298  Q0 FSP950930-031 32 1588 Cauã_Matheus\\n 298  Q0 FSP950215-034 33 1587 Cauã_Matheus\\n 298  Q0 FSP950820-069 34 1587 Cauã_Matheus\\n 298  Q0 FSP950930-039 35 1587 Cauã_Matheus\\n 298  Q0 FSP951003-084 36 1587 Cauã_Matheus\\n 298  Q0 FSP950517-070 37 1586 Cauã_Matheus\\n 298  Q0 FSP950607-048 38 1586 Cauã_Matheus\\n 298  Q0 FSP950705-050 39 1586 Cauã_Matheus\\n 298  Q0 FSP950705-054 40 1586 Cauã_Matheus\\n 298  Q0 FSP950723-008 41 1586 Cauã_Matheus\\n 298  Q0 FSP950803-044 42 1586 Cauã_Matheus\\n 298  Q0 FSP950805-051 43 1586 Cauã_Matheus\\n 298  Q0 FSP950806-045 44 1586 Cauã_Matheus\\n 298  Q0 FSP950809-043 45 1586 Cauã_Matheus\\n 298  Q0 FSP950812-065 46 1586 Cauã_Matheus\\n 298  Q0 FSP950830-057 47 1586 Cauã_Matheus\\n 298  Q0 FSP950901-052 48 1586 Cauã_Matheus\\n 298  Q0 FSP950902-047 49 1586 Cauã_Matheus\\n 298  Q0 FSP950906-059 50 1586 Cauã_Matheus\\n 298  Q0 FSP950908-044 51 1586 Cauã_Matheus\\n 298  Q0 FSP950909-047 52 1586 Cauã_Matheus\\n 298  Q0 FSP950910-052 53 1586 Cauã_Matheus\\n 298  Q0 FSP950917-051 54 1586 Cauã_Matheus\\n 298  Q0 FSP951011-046 55 1586 Cauã_Matheus\\n 298  Q0 FSP951020-050 56 1586 Cauã_Matheus\\n 298  Q0 FSP951231-224 57 1586 Cauã_Matheus\\n 298  Q0 FSP950215-017 58 1582 Cauã_Matheus\\n 298  Q0 FSP950616-007 59 1582 Cauã_Matheus\\n 298  Q0 FSP950724-045 60 1582 Cauã_Matheus\\n 298  Q0 FSP950802-030 61 1582 Cauã_Matheus\\n 298  Q0 FSP950803-075 62 1582 Cauã_Matheus\\n 298  Q0 FSP951003-080 63 1582 Cauã_Matheus\\n 298  Q0 FSP951215-043 64 1582 Cauã_Matheus\\n 298  Q0 FSP950528-115 65 1578 Cauã_Matheus\\n 298  Q0 FSP951231-134 66 1578 Cauã_Matheus\\n 298  Q0 FSP950127-043 67 1576 Cauã_Matheus\\n 298  Q0 FSP950227-012 68 1576 Cauã_Matheus\\n 298  Q0 FSP950405-058 69 1576 Cauã_Matheus\\n 298  Q0 FSP950417-040 70 1576 Cauã_Matheus\\n 298  Q0 FSP950615-013 71 1576 Cauã_Matheus\\n 298  Q0 FSP950616-036 72 1576 Cauã_Matheus\\n 298  Q0 FSP950620-048 73 1576 Cauã_Matheus\\n 298  Q0 FSP950624-045 74 1576 Cauã_Matheus\\n 298  Q0 FSP950711-061 75 1576 Cauã_Matheus\\n 298  Q0 FSP950715-028 76 1576 Cauã_Matheus\\n 298  Q0 FSP950715-043 77 1576 Cauã_Matheus\\n 298  Q0 FSP950720-052 78 1576 Cauã_Matheus\\n 298  Q0 FSP950730-009 79 1576 Cauã_Matheus\\n 298  Q0 FSP950802-047 80 1576 Cauã_Matheus\\n 298  Q0 FSP950806-022 81 1576 Cauã_Matheus\\n 298  Q0 FSP950806-047 82 1576 Cauã_Matheus\\n 298  Q0 FSP950813-052 83 1576 Cauã_Matheus\\n 298  Q0 FSP950821-026 84 1576 Cauã_Matheus\\n 298  Q0 FSP950825-054 85 1576 Cauã_Matheus\\n 298  Q0 FSP950831-061 86 1576 Cauã_Matheus\\n 298  Q0 FSP950903-041 87 1576 Cauã_Matheus\\n 298  Q0 FSP950904-036 88 1576 Cauã_Matheus\\n 298  Q0 FSP950908-042 89 1576 Cauã_Matheus\\n 298  Q0 FSP950908-043 90 1576 Cauã_Matheus\\n 298  Q0 FSP950910-018 91 1576 Cauã_Matheus\\n 298  Q0 FSP950911-080 92 1576 Cauã_Matheus\\n 298  Q0 FSP950912-055 93 1576 Cauã_Matheus\\n 298  Q0 FSP950913-060 94 1576 Cauã_Matheus\\n 298  Q0 FSP950915-146 95 1576 Cauã_Matheus\\n 298  Q0 FSP950916-054 96 1576 Cauã_Matheus\\n 298  Q0 FSP950917-031 97 1576 Cauã_Matheus\\n 298  Q0 FSP950917-052 98 1576 Cauã_Matheus\\n 298  Q0 FSP950918-012 99 1576 Cauã_Matheus\\n 299  Q0 FSP950312-070 0 1577 Cauã_Matheus\\n 299  Q0 FSP951028-057 1 1576 Cauã_Matheus\\n 299  Q0 FSP950106-049 2 1575 Cauã_Matheus\\n 299  Q0 FSP951119-057 3 1571 Cauã_Matheus\\n 299  Q0 FSP950704-009 4 1570 Cauã_Matheus\\n 299  Q0 FSP951126-046 5 1570 Cauã_Matheus\\n 299  Q0 FSP950617-053 6 1569 Cauã_Matheus\\n 299  Q0 FSP950622-008 7 1568 Cauã_Matheus\\n 299  Q0 FSP950625-009 8 1568 Cauã_Matheus\\n 299  Q0 FSP951204-036 9 1568 Cauã_Matheus\\n 299  Q0 FSP950624-093 10 1566 Cauã_Matheus\\n 299  Q0 FSP950730-025 11 1566 Cauã_Matheus\\n 299  Q0 FSP950509-052 12 1565 Cauã_Matheus\\n 299  Q0 FSP950610-045 13 1565 Cauã_Matheus\\n 299  Q0 FSP951128-048 14 1563 Cauã_Matheus\\n 299  Q0 FSP950712-028 15 1562 Cauã_Matheus\\n 299  Q0 FSP951216-074 16 1561 Cauã_Matheus\\n 299  Q0 FSP951012-019 17 1559 Cauã_Matheus\\n 299  Q0 FSP951207-054 18 1559 Cauã_Matheus\\n 299  Q0 FSP950910-054 19 1558 Cauã_Matheus\\n 299  Q0 FSP950605-028 20 1557 Cauã_Matheus\\n 299  Q0 FSP951203-032 21 1557 Cauã_Matheus\\n 299  Q0 FSP951216-068 22 1557 Cauã_Matheus\\n 299  Q0 FSP951231-056 23 1557 Cauã_Matheus\\n 299  Q0 FSP951024-021 24 1556 Cauã_Matheus\\n 299  Q0 FSP951204-034 25 1555 Cauã_Matheus\\n 299  Q0 FSP950404-009 26 1554 Cauã_Matheus\\n 299  Q0 FSP951210-036 27 1554 Cauã_Matheus\\n 299  Q0 FSP950218-069 28 1553 Cauã_Matheus\\n 299  Q0 FSP950827-009 29 1553 Cauã_Matheus\\n 299  Q0 FSP950602-044 30 1552 Cauã_Matheus\\n 299  Q0 FSP950621-037 31 1552 Cauã_Matheus\\n 299  Q0 FSP950901-009 32 1552 Cauã_Matheus\\n 299  Q0 FSP950926-056 33 1552 Cauã_Matheus\\n 299  Q0 FSP950327-027 34 1551 Cauã_Matheus\\n 299  Q0 FSP950702-052 35 1551 Cauã_Matheus\\n 299  Q0 FSP951118-058 36 1551 Cauã_Matheus\\n 299  Q0 FSP951023-041 37 1550 Cauã_Matheus\\n 299  Q0 FSP951215-065 38 1550 Cauã_Matheus\\n 299  Q0 FSP950909-054 39 1549 Cauã_Matheus\\n 299  Q0 FSP950903-058 40 1548 Cauã_Matheus\\n 299  Q0 FSP950913-058 41 1548 Cauã_Matheus\\n 299  Q0 FSP950424-036 42 1547 Cauã_Matheus\\n 299  Q0 FSP950513-034 43 1547 Cauã_Matheus\\n 299  Q0 FSP950602-042 44 1547 Cauã_Matheus\\n 299  Q0 FSP950625-050 45 1547 Cauã_Matheus\\n 299  Q0 FSP950730-026 46 1547 Cauã_Matheus\\n 299  Q0 FSP950811-057 47 1547 Cauã_Matheus\\n 299  Q0 FSP951107-042 48 1547 Cauã_Matheus\\n 299  Q0 FSP951122-054 49 1547 Cauã_Matheus\\n 299  Q0 FSP951215-059 50 1547 Cauã_Matheus\\n 299  Q0 FSP950101-043 51 1546 Cauã_Matheus\\n 299  Q0 FSP950821-030 52 1545 Cauã_Matheus\\n 299  Q0 FSP951214-063 53 1545 Cauã_Matheus\\n 299  Q0 FSP951106-010 54 1544 Cauã_Matheus\\n 299  Q0 FSP951206-045 55 1544 Cauã_Matheus\\n 299  Q0 FSP950422-022 56 1542 Cauã_Matheus\\n 299  Q0 FSP950616-039 57 1542 Cauã_Matheus\\n 299  Q0 FSP950531-050 58 1541 Cauã_Matheus\\n 299  Q0 FSP950707-020 59 1541 Cauã_Matheus\\n 299  Q0 FSP951012-020 60 1541 Cauã_Matheus\\n 299  Q0 FSP951207-057 61 1540 Cauã_Matheus\\n 299  Q0 FSP950328-059 62 1539 Cauã_Matheus\\n 299  Q0 FSP950806-086 63 1539 Cauã_Matheus\\n 299  Q0 FSP950811-037 64 1539 Cauã_Matheus\\n 299  Q0 FSP950914-056 65 1539 Cauã_Matheus\\n 299  Q0 FSP951124-064 66 1539 Cauã_Matheus\\n 299  Q0 FSP951208-049 67 1539 Cauã_Matheus\\n 299  Q0 FSP951208-050 68 1539 Cauã_Matheus\\n 299  Q0 FSP950226-086 69 1538 Cauã_Matheus\\n 299  Q0 FSP950920-020 70 1538 Cauã_Matheus\\n 299  Q0 FSP951207-058 71 1538 Cauã_Matheus\\n 299  Q0 FSP951217-052 72 1538 Cauã_Matheus\\n 299  Q0 FSP951217-053 73 1538 Cauã_Matheus\\n 299  Q0 FSP950921-056 74 1537 Cauã_Matheus\\n 299  Q0 FSP951017-051 75 1537 Cauã_Matheus\\n 299  Q0 FSP951216-018 76 1537 Cauã_Matheus\\n 299  Q0 FSP950423-048 77 1535 Cauã_Matheus\\n 299  Q0 FSP950529-007 78 1535 Cauã_Matheus\\n 299  Q0 FSP950707-034 79 1535 Cauã_Matheus\\n 299  Q0 FSP950715-046 80 1535 Cauã_Matheus\\n 299  Q0 FSP950906-053 81 1535 Cauã_Matheus\\n 299  Q0 FSP951224-045 82 1535 Cauã_Matheus\\n 299  Q0 FSP951231-058 83 1535 Cauã_Matheus\\n 299  Q0 FSP950117-008 84 1534 Cauã_Matheus\\n 299  Q0 FSP950228-042 85 1534 Cauã_Matheus\\n 299  Q0 FSP950430-046 86 1534 Cauã_Matheus\\n 299  Q0 FSP950501-117 87 1534 Cauã_Matheus\\n 299  Q0 FSP950516-038 88 1534 Cauã_Matheus\\n 299  Q0 FSP950526-047 89 1534 Cauã_Matheus\\n 299  Q0 FSP950904-032 90 1534 Cauã_Matheus\\n 299  Q0 FSP951202-054 91 1534 Cauã_Matheus\\n 299  Q0 FSP950409-148 92 1533 Cauã_Matheus\\n 299  Q0 FSP950507-029 93 1533 Cauã_Matheus\\n 299  Q0 FSP951114-013 94 1533 Cauã_Matheus\\n 299  Q0 FSP951115-016 95 1533 Cauã_Matheus\\n 299  Q0 FSP951204-155 96 1533 Cauã_Matheus\\n 299  Q0 FSP951215-023 97 1533 Cauã_Matheus\\n 299  Q0 FSP950101-166 98 1532 Cauã_Matheus\\n 299  Q0 FSP950114-007 99 1532 Cauã_Matheus\\n 300  Q0 FSP950528-106 0 1566 Cauã_Matheus\\n 300  Q0 FSP951011-106 1 1564 Cauã_Matheus\\n 300  Q0 FSP950131-049 2 1562 Cauã_Matheus\\n 300  Q0 FSP951211-052 3 1562 Cauã_Matheus\\n 300  Q0 FSP950320-038 4 1561 Cauã_Matheus\\n 300  Q0 FSP950426-118 5 1561 Cauã_Matheus\\n 300  Q0 FSP950821-085 6 1561 Cauã_Matheus\\n 300  Q0 FSP950831-124 7 1561 Cauã_Matheus\\n 300  Q0 FSP950915-111 8 1561 Cauã_Matheus\\n 300  Q0 FSP951114-063 9 1561 Cauã_Matheus\\n 300  Q0 FSP951128-055 10 1561 Cauã_Matheus\\n 300  Q0 FSP950311-109 11 1558 Cauã_Matheus\\n 300  Q0 FSP950518-098 12 1558 Cauã_Matheus\\n 300  Q0 FSP950718-091 13 1558 Cauã_Matheus\\n 300  Q0 FSP950110-058 14 1557 Cauã_Matheus\\n 300  Q0 FSP950410-047 15 1557 Cauã_Matheus\\n 300  Q0 FSP950424-095 16 1557 Cauã_Matheus\\n 300  Q0 FSP950425-113 17 1557 Cauã_Matheus\\n 300  Q0 FSP950504-096 18 1557 Cauã_Matheus\\n 300  Q0 FSP950505-099 19 1557 Cauã_Matheus\\n 300  Q0 FSP950613-114 20 1557 Cauã_Matheus\\n 300  Q0 FSP950619-009 21 1557 Cauã_Matheus\\n 300  Q0 FSP950626-039 22 1557 Cauã_Matheus\\n 300  Q0 FSP950627-103 23 1557 Cauã_Matheus\\n 300  Q0 FSP950725-127 24 1557 Cauã_Matheus\\n 300  Q0 FSP950827-077 25 1557 Cauã_Matheus\\n 300  Q0 FSP950909-116 26 1557 Cauã_Matheus\\n 300  Q0 FSP951009-062 27 1557 Cauã_Matheus\\n 300  Q0 FSP951220-115 28 1557 Cauã_Matheus\\n 300  Q0 FSP950926-011 29 1556 Cauã_Matheus\\n 300  Q0 FSP951201-025 30 1556 Cauã_Matheus\\n 300  Q0 FSP951223-078 31 1556 Cauã_Matheus\\n 300  Q0 FSP950123-034 32 1551 Cauã_Matheus\\n 300  Q0 FSP950226-074 33 1551 Cauã_Matheus\\n 300  Q0 FSP950503-093 34 1551 Cauã_Matheus\\n 300  Q0 FSP950505-095 35 1551 Cauã_Matheus\\n 300  Q0 FSP950909-117 36 1551 Cauã_Matheus\\n 300  Q0 FSP951117-108 37 1551 Cauã_Matheus\\n 300  Q0 FSP950117-093 38 1550 Cauã_Matheus\\n 300  Q0 FSP950216-123 39 1550 Cauã_Matheus\\n 300  Q0 FSP950314-122 40 1550 Cauã_Matheus\\n 300  Q0 FSP950317-134 41 1550 Cauã_Matheus\\n 300  Q0 FSP950319-146 42 1550 Cauã_Matheus\\n 300  Q0 FSP950319-203 43 1550 Cauã_Matheus\\n 300  Q0 FSP950426-120 44 1550 Cauã_Matheus\\n 300  Q0 FSP950515-045 45 1550 Cauã_Matheus\\n 300  Q0 FSP950524-009 46 1550 Cauã_Matheus\\n 300  Q0 FSP950616-073 47 1550 Cauã_Matheus\\n 300  Q0 FSP950622-105 48 1550 Cauã_Matheus\\n 300  Q0 FSP950627-112 49 1550 Cauã_Matheus\\n 300  Q0 FSP950807-036 50 1550 Cauã_Matheus\\n 300  Q0 FSP950917-093 51 1550 Cauã_Matheus\\n 300  Q0 FSP950919-107 52 1550 Cauã_Matheus\\n 300  Q0 FSP951005-105 53 1550 Cauã_Matheus\\n 300  Q0 FSP951030-047 54 1550 Cauã_Matheus\\n 300  Q0 FSP951203-129 55 1550 Cauã_Matheus\\n 300  Q0 FSP951210-095 56 1550 Cauã_Matheus\\n 300  Q0 FSP951219-128 57 1550 Cauã_Matheus\\n 300  Q0 FSP951220-096 58 1550 Cauã_Matheus\\n 300  Q0 FSP950124-100 59 1549 Cauã_Matheus\\n 300  Q0 FSP950217-108 60 1549 Cauã_Matheus\\n 300  Q0 FSP950309-042 61 1549 Cauã_Matheus\\n 300  Q0 FSP950328-139 62 1549 Cauã_Matheus\\n 300  Q0 FSP950330-137 63 1549 Cauã_Matheus\\n 300  Q0 FSP950507-144 64 1549 Cauã_Matheus\\n 300  Q0 FSP950604-067 65 1549 Cauã_Matheus\\n 300  Q0 FSP950604-081 66 1549 Cauã_Matheus\\n 300  Q0 FSP950619-041 67 1549 Cauã_Matheus\\n 300  Q0 FSP950703-040 68 1549 Cauã_Matheus\\n 300  Q0 FSP950818-091 69 1549 Cauã_Matheus\\n 300  Q0 FSP950903-201 70 1549 Cauã_Matheus\\n 300  Q0 FSP950912-119 71 1549 Cauã_Matheus\\n 300  Q0 FSP950924-118 72 1549 Cauã_Matheus\\n 300  Q0 FSP951007-102 73 1549 Cauã_Matheus\\n 300  Q0 FSP951012-089 74 1549 Cauã_Matheus\\n 300  Q0 FSP951204-090 75 1549 Cauã_Matheus\\n 300  Q0 FSP951219-129 76 1549 Cauã_Matheus\\n 300  Q0 FSP951028-106 77 1548 Cauã_Matheus\\n 300  Q0 FSP950131-114 78 1539 Cauã_Matheus\\n 300  Q0 FSP950207-109 79 1539 Cauã_Matheus\\n 300  Q0 FSP950212-120 80 1539 Cauã_Matheus\\n 300  Q0 FSP950303-100 81 1539 Cauã_Matheus\\n 300  Q0 FSP950305-185 82 1539 Cauã_Matheus\\n 300  Q0 FSP950327-043 83 1539 Cauã_Matheus\\n 300  Q0 FSP950416-145 84 1539 Cauã_Matheus\\n 300  Q0 FSP950529-030 85 1539 Cauã_Matheus\\n 300  Q0 FSP950618-136 86 1539 Cauã_Matheus\\n 300  Q0 FSP950822-075 87 1539 Cauã_Matheus\\n 300  Q0 FSP951013-108 88 1539 Cauã_Matheus\\n 300  Q0 FSP951112-131 89 1539 Cauã_Matheus\\n 300  Q0 FSP950126-118 90 1538 Cauã_Matheus\\n 300  Q0 FSP950128-048 91 1538 Cauã_Matheus\\n 300  Q0 FSP950128-052 92 1538 Cauã_Matheus\\n 300  Q0 FSP950129-057 93 1538 Cauã_Matheus\\n 300  Q0 FSP950212-134 94 1538 Cauã_Matheus\\n 300  Q0 FSP950214-135 95 1538 Cauã_Matheus\\n 300  Q0 FSP950219-122 96 1538 Cauã_Matheus\\n 300  Q0 FSP950221-128 97 1538 Cauã_Matheus\\n 300  Q0 FSP950222-111 98 1538 Cauã_Matheus\\n 300  Q0 FSP950223-097 99 1538 Cauã_Matheus\\n'"
      ]
     },
     "execution_count": 225,
     "metadata": {},
     "output_type": "execute_result"
    }
   ],
   "source": [
    "texto"
   ]
  },
  {
   "cell_type": "code",
   "execution_count": 226,
   "metadata": {},
   "outputs": [],
   "source": [
    "text_file = open(\"Output.txt\", \"w\")\n",
    "text_file.write(texto)\n",
    "text_file.close()"
   ]
  },
  {
   "cell_type": "code",
   "execution_count": null,
   "metadata": {},
   "outputs": [],
   "source": []
  },
  {
   "cell_type": "code",
   "execution_count": null,
   "metadata": {},
   "outputs": [],
   "source": []
  },
  {
   "cell_type": "markdown",
   "metadata": {},
   "source": [
    "### Fechamento do Cursor e da Conexão"
   ]
  },
  {
   "cell_type": "code",
   "execution_count": 153,
   "metadata": {},
   "outputs": [],
   "source": [
    "cur.close();db.close() "
   ]
  },
  {
   "cell_type": "code",
   "execution_count": 192,
   "metadata": {},
   "outputs": [
    {
     "name": "stdout",
     "output_type": "stream",
     "text": [
      "0\n",
      "1\n",
      "2\n",
      "3\n",
      "4\n",
      "5\n",
      "6\n",
      "7\n",
      "8\n",
      "9\n",
      "10\n",
      "11\n",
      "12\n",
      "13\n",
      "14\n",
      "15\n",
      "16\n",
      "17\n",
      "18\n",
      "19\n",
      "20\n",
      "21\n",
      "22\n",
      "23\n",
      "24\n",
      "25\n",
      "26\n",
      "27\n",
      "28\n",
      "29\n",
      "30\n",
      "31\n",
      "32\n",
      "33\n",
      "34\n",
      "35\n",
      "36\n",
      "37\n",
      "38\n",
      "39\n",
      "40\n",
      "41\n",
      "42\n",
      "43\n",
      "44\n",
      "45\n",
      "46\n",
      "47\n",
      "48\n",
      "49\n"
     ]
    }
   ],
   "source": [
    "for index, row in consultas.iterrows():\n",
    "    print(index)"
   ]
  },
  {
   "cell_type": "code",
   "execution_count": 171,
   "metadata": {},
   "outputs": [
    {
     "data": {
      "text/plain": [
       "range(1, 10)"
      ]
     },
     "execution_count": 171,
     "metadata": {},
     "output_type": "execute_result"
    }
   ],
   "source": [
    "x"
   ]
  },
  {
   "cell_type": "code",
   "execution_count": null,
   "metadata": {},
   "outputs": [],
   "source": []
  }
 ],
 "metadata": {
  "kernelspec": {
   "display_name": "Python 3",
   "language": "python",
   "name": "python3"
  },
  "language_info": {
   "codemirror_mode": {
    "name": "ipython",
    "version": 3
   },
   "file_extension": ".py",
   "mimetype": "text/x-python",
   "name": "python",
   "nbconvert_exporter": "python",
   "pygments_lexer": "ipython3",
   "version": "3.6.4"
  }
 },
 "nbformat": 4,
 "nbformat_minor": 2
}
